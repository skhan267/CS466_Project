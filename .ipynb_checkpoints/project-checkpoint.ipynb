{
 "cells": [
  {
   "cell_type": "code",
   "execution_count": 86,
   "metadata": {},
   "outputs": [],
   "source": [
    "import pandas as pd\n",
    "import numpy as np \n",
    "from itertools import permutations"
   ]
  },
  {
   "cell_type": "code",
   "execution_count": 14,
   "metadata": {},
   "outputs": [],
   "source": [
    "#generate random data \n",
    "data = np.random.randint(10, size=(4, 2))\n",
    "labels = ['A', 'B', 'C','D']\n",
    "df = pd.DataFrame(data, columns=['X', 'Y'], index=labels)\n",
    "\n",
    "#convert to a dictionary \n",
    "data_dict = {}\n",
    "for idx, col in df.iterrows(): \n",
    "    data_dict[idx] = col.values\n",
    "    \n",
    "#data_dict   "
   ]
  },
  {
   "cell_type": "code",
   "execution_count": 15,
   "metadata": {},
   "outputs": [],
   "source": [
    "#calculate the manhattan distance of our data values + put it into a n x n distance matrix \n",
    "def manhattan_dist(x, y):\n",
    "    return sum(abs(a-b) for a,b in zip(x,y))"
   ]
  },
  {
   "cell_type": "code",
   "execution_count": 16,
   "metadata": {},
   "outputs": [],
   "source": [
    "#put distances and labels into a dictionary\n",
    "def build_tree():\n",
    "    D = {}\n",
    "    for label, val in data_dict.items():\n",
    "        D[label] = {}\n",
    "        for label2, val2 in data_dict.items():\n",
    "            D[label][label2] = manhattan_dist(val, val2) \n",
    "    return D"
   ]
  },
  {
   "cell_type": "code",
   "execution_count": 17,
   "metadata": {},
   "outputs": [
    {
     "data": {
      "text/plain": [
       "{'A': {'A': 0, 'B': 11, 'C': 13, 'D': 10},\n",
       " 'B': {'A': 11, 'B': 0, 'C': 4, 'D': 1},\n",
       " 'C': {'A': 13, 'B': 4, 'C': 0, 'D': 3},\n",
       " 'D': {'A': 10, 'B': 1, 'C': 3, 'D': 0}}"
      ]
     },
     "execution_count": 17,
     "metadata": {},
     "output_type": "execute_result"
    }
   ],
   "source": [
    "tree = build_tree()\n",
    "tree"
   ]
  },
  {
   "cell_type": "code",
   "execution_count": 18,
   "metadata": {},
   "outputs": [
    {
     "data": {
      "text/html": [
       "<div>\n",
       "<style scoped>\n",
       "    .dataframe tbody tr th:only-of-type {\n",
       "        vertical-align: middle;\n",
       "    }\n",
       "\n",
       "    .dataframe tbody tr th {\n",
       "        vertical-align: top;\n",
       "    }\n",
       "\n",
       "    .dataframe thead th {\n",
       "        text-align: right;\n",
       "    }\n",
       "</style>\n",
       "<table border=\"1\" class=\"dataframe\">\n",
       "  <thead>\n",
       "    <tr style=\"text-align: right;\">\n",
       "      <th></th>\n",
       "      <th>A</th>\n",
       "      <th>B</th>\n",
       "      <th>C</th>\n",
       "      <th>D</th>\n",
       "    </tr>\n",
       "  </thead>\n",
       "  <tbody>\n",
       "    <tr>\n",
       "      <th>A</th>\n",
       "      <td>0</td>\n",
       "      <td>11</td>\n",
       "      <td>13</td>\n",
       "      <td>10</td>\n",
       "    </tr>\n",
       "    <tr>\n",
       "      <th>B</th>\n",
       "      <td>11</td>\n",
       "      <td>0</td>\n",
       "      <td>4</td>\n",
       "      <td>1</td>\n",
       "    </tr>\n",
       "    <tr>\n",
       "      <th>C</th>\n",
       "      <td>13</td>\n",
       "      <td>4</td>\n",
       "      <td>0</td>\n",
       "      <td>3</td>\n",
       "    </tr>\n",
       "    <tr>\n",
       "      <th>D</th>\n",
       "      <td>10</td>\n",
       "      <td>1</td>\n",
       "      <td>3</td>\n",
       "      <td>0</td>\n",
       "    </tr>\n",
       "  </tbody>\n",
       "</table>\n",
       "</div>"
      ],
      "text/plain": [
       "    A   B   C   D\n",
       "A   0  11  13  10\n",
       "B  11   0   4   1\n",
       "C  13   4   0   3\n",
       "D  10   1   3   0"
      ]
     },
     "execution_count": 18,
     "metadata": {},
     "output_type": "execute_result"
    }
   ],
   "source": [
    "#visualize as n x n distance matrix         \n",
    "dm = pd.DataFrame.from_dict(tree)\n",
    "dm"
   ]
  },
  {
   "cell_type": "code",
   "execution_count": 134,
   "metadata": {},
   "outputs": [],
   "source": [
    "#check if the matrix is additive using four point condition\n",
    "def is_additive(matrix, labels):\n",
    "    i = labels[0]\n",
    "    j = labels[1] \n",
    "    k = labels[2] \n",
    "    l = labels[3] \n",
    "    result = ''\n",
    "    if ((matrix[i][j] + matrix[k][l] <= matrix[i][k] + matrix[j][l]) and \n",
    "    (matrix[i][k] + matrix[j][l] == matrix[i][l] + matrix[j][k])):\n",
    "        result = \"Additive\"\n",
    "    else:\n",
    "        result = \"Not additive\"\n",
    "    return result "
   ]
  },
  {
   "cell_type": "code",
   "execution_count": 135,
   "metadata": {},
   "outputs": [],
   "source": [
    "cols = 'ABCD'\n",
    "labels = permutations(temp,4)"
   ]
  },
  {
   "cell_type": "code",
   "execution_count": 136,
   "metadata": {},
   "outputs": [
    {
     "data": {
      "text/plain": [
       "['Additive',\n",
       " 'Additive',\n",
       " 'Additive',\n",
       " 'Additive',\n",
       " 'Additive',\n",
       " 'Additive',\n",
       " 'Additive',\n",
       " 'Additive',\n",
       " 'Additive',\n",
       " 'Additive',\n",
       " 'Additive',\n",
       " 'Additive',\n",
       " 'Additive',\n",
       " 'Additive',\n",
       " 'Additive',\n",
       " 'Additive',\n",
       " 'Additive',\n",
       " 'Additive',\n",
       " 'Additive',\n",
       " 'Additive',\n",
       " 'Additive',\n",
       " 'Additive',\n",
       " 'Additive',\n",
       " 'Additive']"
      ]
     },
     "execution_count": 136,
     "metadata": {},
     "output_type": "execute_result"
    }
   ],
   "source": [
    "check = []\n",
    "for combs in labels:\n",
    "    new_label = []\n",
    "    for item in combs:\n",
    "        new_label+=item\n",
    "    check.append(is_additive(dm, new_label))\n",
    "check"
   ]
  },
  {
   "cell_type": "code",
   "execution_count": null,
   "metadata": {},
   "outputs": [],
   "source": []
  },
  {
   "cell_type": "code",
   "execution_count": null,
   "metadata": {},
   "outputs": [],
   "source": []
  }
 ],
 "metadata": {
  "kernelspec": {
   "display_name": "Python 3",
   "language": "python",
   "name": "python3"
  },
  "language_info": {
   "codemirror_mode": {
    "name": "ipython",
    "version": 3
   },
   "file_extension": ".py",
   "mimetype": "text/x-python",
   "name": "python",
   "nbconvert_exporter": "python",
   "pygments_lexer": "ipython3",
   "version": "3.6.4"
  }
 },
 "nbformat": 4,
 "nbformat_minor": 2
}
