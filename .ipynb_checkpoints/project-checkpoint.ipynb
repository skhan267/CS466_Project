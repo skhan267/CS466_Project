{
 "cells": [
  {
   "cell_type": "code",
   "execution_count": 122,
   "metadata": {
    "collapsed": true
   },
   "outputs": [],
   "source": [
    "import pandas as pd\n",
    "import numpy as np \n",
    "from itertools import permutations, combinations\n",
    "import math\n",
    "import random\n",
    "import ete3\n",
    "from ete3 import Tree\n",
    "import phylogeny\n",
    "from phylogeny import DistanceMatrix\n"
   ]
  },
  {
   "cell_type": "markdown",
   "metadata": {},
   "source": [
    "## Additive Matrix Generation"
   ]
  },
  {
   "cell_type": "code",
   "execution_count": 123,
   "metadata": {
    "collapsed": true
   },
   "outputs": [],
   "source": [
    "#generate a tree to obtain a additive distance matrix \n",
    "\n",
    "class Vertex:\n",
    "    def __init__(self, node):\n",
    "        self.id = node\n",
    "        self.adjacent = {}\n",
    "\n",
    "    def __str__(self):\n",
    "        return str([x.id for x in self.adjacent])\n",
    "\n",
    "    def add_neighbor(self, neighbor, weight=0):\n",
    "        self.adjacent[neighbor] = weight\n",
    "\n",
    "    def get_connections(self):\n",
    "        return self.adjacent.keys()  \n",
    "\n",
    "    def get_id(self):\n",
    "        return self.id\n",
    "\n",
    "    def get_weight(self, neighbor):\n",
    "        return self.adjacent[neighbor]\n",
    "\n",
    "class MatrixTree:\n",
    "    def __init__(self):\n",
    "        self.vert_dict = {}\n",
    "        self.num_vertices = 0\n",
    "\n",
    "    def __iter__(self):\n",
    "        return iter(self.vert_dict.values())\n",
    "\n",
    "    def add_vertex(self, node):\n",
    "        self.num_vertices = self.num_vertices + 1\n",
    "        new_vertex = Vertex(node)\n",
    "        self.vert_dict[node] = new_vertex\n",
    "        return new_vertex\n",
    "\n",
    "    def get_vertex(self, n):\n",
    "        if n in self.vert_dict:\n",
    "            return self.vert_dict[n]\n",
    "        else:\n",
    "            return None\n",
    "\n",
    "    def add_edge(self, frm, to, cost = 0):\n",
    "        if frm not in self.vert_dict:\n",
    "            self.add_vertex(frm)\n",
    "        if to not in self.vert_dict:\n",
    "            self.add_vertex(to)\n",
    "\n",
    "        self.vert_dict[frm].add_neighbor(self.vert_dict[to], cost)\n",
    "        self.vert_dict[to].add_neighbor(self.vert_dict[frm], cost)\n",
    "\n",
    "    def get_vertices(self):\n",
    "        return self.vert_dict.keys()"
   ]
  },
  {
   "cell_type": "code",
   "execution_count": 124,
   "metadata": {
    "collapsed": true
   },
   "outputs": [],
   "source": [
    "def get_tree():   \n",
    "    output = (np.array([random.randrange(1, 5) for _ in range(0, 5)]))\n",
    "\n",
    "    #generate n+1 random edge weights where n = # of nodes + a weight for a connecting branch\n",
    "\n",
    "    t = MatrixTree()\n",
    "\n",
    "    t.add_vertex('a')\n",
    "    t.add_vertex('b')\n",
    "    t.add_vertex('c')\n",
    "    t.add_vertex('d')\n",
    "\n",
    "    t.add_edge('a', 'b', output[0] + output[1])   #dist between a to b\n",
    "    t.add_edge('a', 'c', output[0] + output[4] + output[2]) #distance between a, connecting limb, c\n",
    "    t.add_edge('a', 'd', output[0] + output[4] + output[3]) \n",
    "    t.add_edge('b', 'c', output[1] + output[4] + output[2])\n",
    "    t.add_edge('b', 'd', output[1] + output[4] + output[3])\n",
    "    t.add_edge('c', 'd', output[2] + output[3])\n",
    "    return t"
   ]
  },
  {
   "cell_type": "code",
   "execution_count": 125,
   "metadata": {
    "collapsed": true
   },
   "outputs": [],
   "source": [
    "# get dict of dicts for each node, neighbors, distance to neighbors \n",
    "def get_matrix(tree):\n",
    "    D = {}\n",
    "    for v in tree:\n",
    "        vid = v.get_id()\n",
    "        D[vid] = {vid : 0} # assign distance from itself to 0\n",
    "        for w in v.get_connections():\n",
    "            wid = w.get_id()\n",
    "            D[vid][wid] = int(v.get_weight(w))\n",
    "    return D"
   ]
  },
  {
   "cell_type": "code",
   "execution_count": 126,
   "metadata": {},
   "outputs": [
    {
     "data": {
      "text/html": [
       "<div>\n",
       "<style>\n",
       "    .dataframe thead tr:only-child th {\n",
       "        text-align: right;\n",
       "    }\n",
       "\n",
       "    .dataframe thead th {\n",
       "        text-align: left;\n",
       "    }\n",
       "\n",
       "    .dataframe tbody tr th {\n",
       "        vertical-align: top;\n",
       "    }\n",
       "</style>\n",
       "<table border=\"1\" class=\"dataframe\">\n",
       "  <thead>\n",
       "    <tr style=\"text-align: right;\">\n",
       "      <th></th>\n",
       "      <th>a</th>\n",
       "      <th>b</th>\n",
       "      <th>c</th>\n",
       "      <th>d</th>\n",
       "    </tr>\n",
       "  </thead>\n",
       "  <tbody>\n",
       "    <tr>\n",
       "      <th>a</th>\n",
       "      <td>0</td>\n",
       "      <td>4</td>\n",
       "      <td>11</td>\n",
       "      <td>9</td>\n",
       "    </tr>\n",
       "    <tr>\n",
       "      <th>b</th>\n",
       "      <td>4</td>\n",
       "      <td>0</td>\n",
       "      <td>9</td>\n",
       "      <td>7</td>\n",
       "    </tr>\n",
       "    <tr>\n",
       "      <th>c</th>\n",
       "      <td>11</td>\n",
       "      <td>9</td>\n",
       "      <td>0</td>\n",
       "      <td>6</td>\n",
       "    </tr>\n",
       "    <tr>\n",
       "      <th>d</th>\n",
       "      <td>9</td>\n",
       "      <td>7</td>\n",
       "      <td>6</td>\n",
       "      <td>0</td>\n",
       "    </tr>\n",
       "  </tbody>\n",
       "</table>\n",
       "</div>"
      ],
      "text/plain": [
       "    a  b   c  d\n",
       "a   0  4  11  9\n",
       "b   4  0   9  7\n",
       "c  11  9   0  6\n",
       "d   9  7   6  0"
      ]
     },
     "execution_count": 126,
     "metadata": {},
     "output_type": "execute_result"
    }
   ],
   "source": [
    "mat= pd.DataFrame.from_dict(get_matrix(get_tree())) #convert to 2d matrix\n",
    "#visualize as n x n distance matrix         \n",
    "mat"
   ]
  },
  {
   "cell_type": "markdown",
   "metadata": {},
   "source": [
    "## Additive matrix check"
   ]
  },
  {
   "cell_type": "code",
   "execution_count": 127,
   "metadata": {},
   "outputs": [
    {
     "data": {
      "text/plain": [
       "True"
      ]
     },
     "execution_count": 127,
     "metadata": {},
     "output_type": "execute_result"
    }
   ],
   "source": [
    "mat = get_matrix(get_tree())\n",
    "mat = pd.DataFrame.from_dict(mat)\n",
    "d = DistanceMatrix(mat, names=('A', 'B', 'C', 'D'))\n",
    "d.is_additive()"
   ]
  },
  {
   "cell_type": "markdown",
   "metadata": {},
   "source": [
    "## Neigbor join"
   ]
  },
  {
   "cell_type": "code",
   "execution_count": 128,
   "metadata": {
    "collapsed": true
   },
   "outputs": [],
   "source": [
    "import copy\n",
    "def NJ(dm):\n",
    "    edge_list = []\n",
    "    clusters = []\n",
    "    for cluster in list(dm):\n",
    "        clusters.append(cluster)\n",
    "    cluster2idx = { name : idx for idx, name in enumerate(clusters) }\n",
    "    idx2cluster = copy.deepcopy(clusters)\n",
    "    m = copy.deepcopy(dm).to_dict()\n",
    "    result = \"\"\n",
    "    M, N = dm.shape\n",
    "    new_cluster_idx = M+1 \n",
    "    while len(clusters) > 1:\n",
    "        idx1 = None\n",
    "        idx2 = None\n",
    "        ui = 0\n",
    "        uj = 0\n",
    "        Sd = 100000\n",
    "        for i in clusters:\n",
    "            for j in clusters:\n",
    "                if i != j:\n",
    "                    ui_t = sum(m[i][k] for k in clusters)\n",
    "                    uj_t = sum(m[j][k] for k in clusters)\n",
    "                    curr = (M - 2) * m[i][j] - ui_t - uj_t\n",
    "                    if Sd > curr:\n",
    "                        Sd = curr\n",
    "                        idx1 = cluster2idx[i]\n",
    "                        idx2 = cluster2idx[j]\n",
    "                        ui = ui_t\n",
    "                        uj = uj_t\n",
    "\n",
    "        Dij = m[idx2cluster[idx1]][idx2cluster[idx2]]\n",
    "        new_cluster = \"(\" + idx2cluster[idx1] +\".\" + idx2cluster[idx2] + \")\"\n",
    "        result = new_cluster\n",
    "        m[new_cluster] = {}\n",
    "        new_cluster_idx += 1\n",
    "\n",
    "        if M - 2 != 0:            \n",
    "            m[idx2cluster[idx1]][new_cluster] = (float(m[idx2cluster[idx1]][idx2cluster[idx2]]) + (1/(M-2)) * (ui - uj))/2\n",
    "            m[idx2cluster[idx2]][new_cluster] = (float(m[idx2cluster[idx1]][idx2cluster[idx2]]) + (1/(M-2)) * (uj - ui))/2\n",
    "            edge_list.append((new_cluster, idx2cluster[idx1], m[idx2cluster[idx1]][new_cluster]))\n",
    "            edge_list.append((new_cluster, idx2cluster[idx2], m[idx2cluster[idx2]][new_cluster]))\n",
    "        else:\n",
    "            edge_list.append((idx2cluster[idx1], idx2cluster[idx2], m[idx2cluster[idx1]][idx2cluster[idx2]]))\n",
    "\n",
    "        clusters.remove(idx2cluster[idx1])\n",
    "        clusters.remove(idx2cluster[idx2])\n",
    "\n",
    "        m[new_cluster][new_cluster] = 0\n",
    "        for c in clusters:\n",
    "            m[c][new_cluster] = (m[c][idx2cluster[idx1]] + m[c][idx2cluster[idx2]] - Dij)/2\n",
    "            m[new_cluster][c] = m[c][new_cluster]\n",
    "            for k in list(m[c].keys()):\n",
    "                if k == idx2cluster[idx1] or k == idx2cluster[idx2]:\n",
    "                    del m[c][k]\n",
    "\n",
    "        del cluster2idx[idx2cluster[idx1]]\n",
    "        del cluster2idx[idx2cluster[idx2]]\n",
    "        if idx2cluster[idx1] in m: del m[idx2cluster[idx1]]\n",
    "        if idx2cluster[idx2] in m: del m[idx2cluster[idx2]]\n",
    "\n",
    "        clusters.append(new_cluster)\n",
    "        cluster2idx[new_cluster] = len(idx2cluster)\n",
    "        idx2cluster.append(new_cluster)\n",
    "        M -= 1\n",
    "        N -= 1\n",
    "    return result, edge_list"
   ]
  },
  {
   "cell_type": "markdown",
   "metadata": {},
   "source": [
    "## Degenerate Triples Algorithm"
   ]
  },
  {
   "cell_type": "code",
   "execution_count": 129,
   "metadata": {
    "collapsed": true
   },
   "outputs": [],
   "source": [
    "def check_and_find_degenerate(D, cols):\n",
    "    triplets = permutations(D.index,3)\n",
    "    for triplet in triplets:\n",
    "        i,j,k = triplet\n",
    "        if D[i][j] + D[j][k] == D[i][k]:\n",
    "            return i,j,k, True\n",
    "        \n",
    "    return -1,-1,-1, False\n",
    "    \n",
    "def compute_trimming_param(D,cols):\n",
    "    triplets = permutations(D.index,3)\n",
    "    min_delta = float('inf')\n",
    "    best_i,best_j,best_k = -1,-1,-1\n",
    "    for triplet in triplets:\n",
    "        i,j,k = triplet\n",
    "        delta = (D[i][j] + D[j][k] - D[i][k])/2\n",
    "        if delta > 0 and delta < min_delta:\n",
    "            min_delta = delta\n",
    "            best_i,best_j,best_k = i,j,k\n",
    "            \n",
    "    return min_delta, best_i,best_j,best_k\n",
    "\n",
    "def Trim(D, delta):\n",
    "    D = D - (2*delta)\n",
    "    for i in D.index:\n",
    "        D[i][i] = 0\n",
    "    return D\n",
    "\n",
    "def additive_phylogeny(D, v, cols):\n",
    "    if D.shape == (2,2):\n",
    "        T = {D.index[0] : {D.index[1]: D[D.index[0]][D.index[1]]}, \n",
    "             D.index[1] : {D.index[0]: D[D.index[1]][D.index[0]]}}\n",
    "        return T\n",
    "    i,j,k,flag = check_and_find_degenerate(D, cols)\n",
    "    if not flag:\n",
    "        delta,best_i,best_j,best_k = compute_trimming_param(D, cols)\n",
    "        i,j,k = best_i,best_j,best_k\n",
    "        D = Trim(D, delta)\n",
    "    else:\n",
    "        delta = 0\n",
    "    #print(flag)\n",
    "    x = D[i][j]\n",
    "    D = D.drop([j])\n",
    "    D = D.drop(j, axis=1)\n",
    "    T = additive_phylogeny(D, v+1, cols)\n",
    "    T[v] = {i:x}\n",
    "    T[i] = {v:x}\n",
    "    #print(T)\n",
    "    if v + 1 in T:\n",
    "        del T[v+1][i]\n",
    "        \n",
    "        leftover = 0\n",
    "        curr_v = v\n",
    "        while k not in T[curr_v].keys():\n",
    "            curr_v += 1\n",
    "        final_v = curr_v\n",
    "        curr_v = v\n",
    "        leftover = 0\n",
    "        while curr_v+2 < final_v:\n",
    "            leftover += T[curr_v+1][curr_v+2]\n",
    "            curr_v += 1\n",
    "        leftover += T[final_v][k]\n",
    "        T[v][v+1] = D[i][k]-x-leftover\n",
    "        T[v+1][v] = D[i][k]-x-leftover\n",
    "    else:\n",
    "        T[v][k] = D[i][k]-x\n",
    "        T[k] = {v:D[i][k]-x}\n",
    "    \n",
    "    T[v][j] = 0\n",
    "    T[j] = {v:0}\n",
    "    for l in T:\n",
    "        if l in D.index and j in D.index and T[l][v] != D[l][j]:\n",
    "            print('Matrix not additive')\n",
    "            return\n",
    "    for v in T:\n",
    "        for l in cols:\n",
    "            if l in T[v] and type(v) == int:\n",
    "                T[l][v] =  T[l][v] + (delta)\n",
    "                T[v][l] =  T[v][l] + (delta)\n",
    "            \n",
    "    return T\n",
    "\n",
    "def degen_triples(D):\n",
    "    cols = ''\n",
    "    for i in D.index:\n",
    "        cols += i\n",
    "    \n",
    "    return additive_phylogeny(D, 0, cols)\n",
    "\n",
    "def create_edge_list(T):\n",
    "    edge_list = []\n",
    "    for v1 in T:\n",
    "        for v2 in T[v1]:\n",
    "            if type(v1) == int and (v1,v2,T[v1][v2]) not in edge_list and (v2,v1,T[v2][v1]) not in edge_list:\n",
    "                edge_list.append((v1,v2, T[v1][v2]))\n",
    "    return edge_list\n"
   ]
  },
  {
   "cell_type": "code",
   "execution_count": 130,
   "metadata": {
    "collapsed": true
   },
   "outputs": [],
   "source": [
    "def check_matrix(newick_string, original_matrix):\n",
    "    import pandas as pd\n",
    "    import itertools\n",
    "    from Bio import Phylo\n",
    "    import io\n",
    "    \n",
    "    treedata = newick_string\n",
    "    handle = io.StringIO(treedata)\n",
    "    t = Phylo.read(handle, \"newick\")\n",
    "    d = {}\n",
    "    for x, y in itertools.combinations(t.get_terminals(), 2):\n",
    "        v = t.distance(x, y)\n",
    "        d[x.name] = d.get(x.name, {})\n",
    "        d[x.name][y.name] = v\n",
    "        d[y.name] = d.get(y.name, {})\n",
    "        d[y.name][x.name] = v\n",
    "    for x in t.get_terminals():\n",
    "        d[x.name][x.name] = 0\n",
    "\n",
    "    m = pd.DataFrame(d)\n",
    "    return m == original_matrix"
   ]
  },
  {
   "cell_type": "markdown",
   "metadata": {},
   "source": [
    "## Some hard-coded Distance Matrix Cases"
   ]
  },
  {
   "cell_type": "code",
   "execution_count": 131,
   "metadata": {
    "collapsed": true
   },
   "outputs": [],
   "source": [
    "not_additive_tree = {'A': {'A': 0, 'B': 6, 'C': 6, 'D': 8},\n",
    "                    'B': {'A': 6, 'B': 0, 'C': 8, 'D': 2},\n",
    "                    'C': {'A': 6, 'B': 8, 'C': 0, 'D': 10},\n",
    "                    'D': {'A': 8, 'B': 2, 'C': 10, 'D': 0}}\n",
    "not_additive_matrix = pd.DataFrame.from_dict(not_additive_tree)\n",
    "\n",
    "additive_tree1 = {'A': {'A': 0, 'B': 4, 'C': 10, 'D': 9},\n",
    "                    'B': {'A': 4, 'B': 0, 'C': 8, 'D': 7},\n",
    "                    'C': {'A': 10, 'B': 8, 'C': 0, 'D': 9},\n",
    "                    'D': {'A': 9, 'B': 7, 'C': 9, 'D': 0}}\n",
    "additive_matrix1 = pd.DataFrame.from_dict(additive_tree1)\n",
    "\n",
    "big_tree = {'A': {'A': 0, 'B': 3, 'C': 7, 'D': 9, 'E': 2},\n",
    "        'B': {'A': 3, 'B': 0, 'C': 6, 'D': 8, 'E': 1},\n",
    "        'C': {'A': 7, 'B': 6, 'C': 0, 'D': 6, 'E': 5},\n",
    "        'D': {'A': 9, 'B': 8, 'C': 6, 'D': 0, 'E': 7},\n",
    "        'E': {'A': 2, 'B': 1, 'C': 5, 'D': 7, 'E': 0}}\n",
    "big_dm = pd.DataFrame.from_dict(big_tree)\n",
    "\n",
    "big_tree2 = {'A': {'A': 0, 'B': 10, 'C': 17, 'D': 16, 'E': 16},\n",
    "             'B': {'A': 10, 'B': 0, 'C': 15, 'D': 14, 'E': 14},\n",
    "             'C': {'A': 17, 'B': 15, 'C': 0, 'D': 9, 'E': 15},\n",
    "             'D': {'A': 16, 'B': 14, 'C': 9, 'D': 0, 'E': 14},\n",
    "             'E': {'A': 16, 'B': 14, 'C': 15, 'D': 14, 'E': 0}}\n",
    "\n",
    "big_dm2 = pd.DataFrame.from_dict(big_tree2)"
   ]
  },
  {
   "cell_type": "markdown",
   "metadata": {},
   "source": [
    "## Example of a case, testing the graph, and comparing the resulting trees with the Robinson-foulds metric"
   ]
  },
  {
   "cell_type": "code",
   "execution_count": 132,
   "metadata": {},
   "outputs": [
    {
     "name": "stdout",
     "output_type": "stream",
     "text": [
      "    A  B   C  D\n",
      "A   0  4  10  9\n",
      "B   4  0   8  7\n",
      "C  10  8   0  9\n",
      "D   9  7   9  0\n",
      "\n",
      "   /-C\n",
      "  |\n",
      "--|--D\n",
      "  |\n",
      "  |   /-A\n",
      "   \\-|\n",
      "      \\-B\n",
      "(C:5,D:4,(A:3,B:1)1:2);\n",
      "\n",
      "   /-A\n",
      "  |\n",
      "--|--B\n",
      "  |\n",
      "  |   /-C\n",
      "   \\-|\n",
      "      \\-D\n",
      "(A:3,B:1,(C:5,D:4)1:2);\n",
      "      A     B     C     D\n",
      "A  True  True  True  True\n",
      "B  True  True  True  True\n",
      "C  True  True  True  True\n",
      "D  True  True  True  True\n",
      "      A     B     C     D\n",
      "A  True  True  True  True\n",
      "B  True  True  True  True\n",
      "C  True  True  True  True\n",
      "D  True  True  True  True\n",
      "distance: 0\n"
     ]
    }
   ],
   "source": [
    "mat = additive_matrix1\n",
    "T = degen_triples(mat)\n",
    "print(mat)\n",
    "ete_dt_tree = Tree.from_parent_child_table(create_edge_list(T))\n",
    "print(ete_dt_tree)\n",
    "print(ete_dt_tree.write())\n",
    "nj_result, nj_list = NJ(mat)\n",
    "ete_nj_tree = Tree.from_parent_child_table(nj_list)\n",
    "print(ete_nj_tree)\n",
    "print(ete_nj_tree.write())\n",
    "print(check_matrix(ete_dt_tree.write(), mat))\n",
    "print(check_matrix(ete_nj_tree.write(), mat))\n",
    "print('distance: ' + str(ete_dt_tree.robinson_foulds(ete_nj_tree,unrooted_trees=True)[0]))"
   ]
  },
  {
   "cell_type": "code",
   "execution_count": 133,
   "metadata": {},
   "outputs": [
    {
     "name": "stdout",
     "output_type": "stream",
     "text": [
      "   A  B   C   D\n",
      "A  0  6   6   8\n",
      "B  6  0   8   2\n",
      "C  6  8   0  10\n",
      "D  8  2  10   0\n",
      "\n",
      "   /-C\n",
      "  |\n",
      "--|--D\n",
      "  |\n",
      "  |   /-A\n",
      "   \\-|\n",
      "      \\-B\n",
      "(C:4,D:6,(A:6,B:0)1:-4);\n",
      "\n",
      "   /-A\n",
      "  |\n",
      "--|--C\n",
      "  |\n",
      "  |   /-B\n",
      "   \\-|\n",
      "      \\-D\n",
      "(A:2,C:4,(B:0,D:2)1:4);\n",
      "      A      B      C     D\n",
      "A  True   True   True  True\n",
      "B  True   True  False  True\n",
      "C  True  False   True  True\n",
      "D  True   True   True  True\n",
      "      A     B     C     D\n",
      "A  True  True  True  True\n",
      "B  True  True  True  True\n",
      "C  True  True  True  True\n",
      "D  True  True  True  True\n",
      "distance: 2\n"
     ]
    }
   ],
   "source": [
    "mat = not_additive_matrix\n",
    "T = degen_triples(mat)\n",
    "print(mat)\n",
    "ete_dt_tree = Tree.from_parent_child_table(create_edge_list(T))\n",
    "print(ete_dt_tree)\n",
    "print(ete_dt_tree.write())\n",
    "nj_result, nj_list = NJ(mat)\n",
    "ete_nj_tree = Tree.from_parent_child_table(nj_list)\n",
    "print(ete_nj_tree)\n",
    "print(ete_nj_tree.write())\n",
    "print(check_matrix(ete_dt_tree.write(), mat))\n",
    "print(check_matrix(ete_nj_tree.write(), mat))\n",
    "print('distance: ' + str(ete_dt_tree.robinson_foulds(ete_nj_tree,unrooted_trees=True)[0]))"
   ]
  },
  {
   "cell_type": "markdown",
   "metadata": {},
   "source": [
    "## Runtime"
   ]
  },
  {
   "cell_type": "code",
   "execution_count": 134,
   "metadata": {},
   "outputs": [],
   "source": [
    "import timeit\n",
    "nj_runtimes = []\n",
    "dt_runtimes = []\n",
    "nj_total = 0.0\n",
    "dt_total = 0.0\n",
    "for i in range(100):\n",
    "    #create a new matrix for test\n",
    "    mat= pd.DataFrame.from_dict(get_matrix(get_tree()))\n",
    "    \n",
    "    #run neighbot join with time tick\n",
    "    nj_start = timeit.default_timer()\n",
    "    nj_result, nj_list = NJ(copy.deepcopy(mat))\n",
    "    nj_end = timeit.default_timer()\n",
    "    nj_runtimes.append(nj_end - nj_start)\n",
    "    nj_total += (nj_end - nj_start)\n",
    "    \n",
    "    #run degenerate triple with time tick\n",
    "    dt_start = timeit.default_timer()\n",
    "    dt_tree = degen_triples(copy.deepcopy(mat))\n",
    "    dt_end = timeit.default_timer()\n",
    "    dt_runtimes.append(dt_end - dt_start)\n",
    "    dt_total += (dt_end - dt_start)"
   ]
  },
  {
   "cell_type": "code",
   "execution_count": 135,
   "metadata": {},
   "outputs": [
    {
     "name": "stdout",
     "output_type": "stream",
     "text": [
      "[0.0009692379971966147, 0.0007705210009589791, 0.0014685160131193697, 0.0015426559839397669, 0.0014920629910193384, 0.001359157991828397, 0.0007846390071790665, 0.0007321940211113542, 0.0007227910100482404, 0.0007161739922594279, 0.0007859110191930085, 0.0010806479840539396, 0.0007240639824885875, 0.0008147069893311709, 0.000851554999826476, 0.0006573990103788674, 0.0007587660220451653, 0.000646052008960396, 0.0006523869815282524, 0.0006971480033826083, 0.0007339610019698739, 0.0012429149937815964, 0.0006904290057718754, 0.0006559989997185767, 0.0011906979780178517, 0.0007769530056975782, 0.0006445280159823596, 0.0006765049765817821, 0.0006806800083722919, 0.000652619986794889, 0.0006806550081819296, 0.0006574139988515526, 0.0010601899994071573, 0.0007991700258571655, 0.0006636799953412265, 0.000801933987531811, 0.0012781269906554371, 0.0008871069876477122, 0.0011939819960389286, 0.0011655809939838946, 0.0014242620090954006, 0.0011533390206750482, 0.0008925189904402941, 0.0006483450124505907, 0.0007697920082136989, 0.0006590510020032525, 0.0013003740168642253, 0.0008622629975434393, 0.0006535830034408718, 0.0007116159831639379, 0.0007008800166659057, 0.0007076899928506464, 0.0006842440052423626, 0.0008809729770291597, 0.0006536869914270937, 0.0013307979970704764, 0.0007417110027745366, 0.0007507120026275516, 0.0009136860026046634, 0.0025982820079661906, 0.0013923980004619807, 0.003049676975933835, 0.001077054999768734, 0.0014809900021646172, 0.0008383090025745332, 0.0020118560059927404, 0.002092882990837097, 0.0029657419945579022, 0.0012298310175538063, 0.0015674669994041324, 0.0015463470190297812, 0.0013720739807467908, 0.0035845070087816566, 0.001775157987140119, 0.0014462129911407828, 0.0023048660077620298, 0.001746077003190294, 0.002968749002320692, 0.002845252980478108, 0.0030647020030301064, 0.002630930976010859, 0.005570139997871593, 0.0013454550062306225, 0.0014829320134595037, 0.0012442840088624507, 0.0016544270038139075, 0.0017026140121743083, 0.002799648995278403, 0.0019728380138985813, 0.002180606999900192, 0.0018746309797279537, 0.0018492399831302464, 0.008179632015526295, 0.001339697017101571, 0.001379975990857929, 0.0027086389891337603, 0.00087737399735488, 0.000774920015828684, 0.0007716699910815805, 0.0007746779883746058]\n"
     ]
    }
   ],
   "source": [
    "print(nj_runtimes)"
   ]
  },
  {
   "cell_type": "code",
   "execution_count": 136,
   "metadata": {},
   "outputs": [
    {
     "name": "stdout",
     "output_type": "stream",
     "text": [
      "[0.009097960981307551, 0.006894342019222677, 0.013891151000279933, 0.007528401998570189, 0.013061420992016792, 0.011138914996990934, 0.006919901992660016, 0.007624270976521075, 0.005579141987254843, 0.006674545002169907, 0.006622723012696952, 0.005469611001899466, 0.0053017709869891405, 0.007154049992095679, 0.006091955001465976, 0.007648655999219045, 0.005416329018771648, 0.0057311709970235825, 0.00614854198647663, 0.00598404899938032, 0.006539358990266919, 0.008069603994954377, 0.006063679000362754, 0.005905386002268642, 0.005367247009417042, 0.005969918012851849, 0.008496881026076153, 0.006635277008172125, 0.009250707982573658, 0.007811810995917767, 0.0077906819933559746, 0.007797465979820117, 0.00924303600913845, 0.008568638993892819, 0.006616536993533373, 0.010729643021477386, 0.009438901994144544, 0.011198373016668484, 0.00872744299704209, 0.01162509698770009, 0.01087882899446413, 0.009084819990675896, 0.0062336630071513355, 0.007412308012135327, 0.007733541977358982, 0.005341468990081921, 0.00735845000599511, 0.005575118004344404, 0.005907837999984622, 0.006219859991688281, 0.006879514025058597, 0.006975850003072992, 0.0066233839897904545, 0.006716314994264394, 0.010820294002769515, 0.006951535004191101, 0.018953778984723613, 0.01022401699447073, 0.015584593988023698, 0.017113753012381494, 0.015283699001884088, 0.01773978999699466, 0.016899378009838983, 0.0167926829890348, 0.007957950001582503, 0.015032467985292897, 0.018888580991188064, 0.010664797009667382, 0.00917665401357226, 0.013958800991531461, 0.008929320989409462, 0.014701016014441848, 0.0170151159982197, 0.017260580993024632, 0.02038021298358217, 0.023340367013588548, 0.022887050989083946, 0.027347876981366426, 0.01808604598045349, 0.0407741230155807, 0.03858641401166096, 0.014669163996586576, 0.05684401700273156, 0.037136789003852755, 0.022138845990411937, 0.01373357599368319, 0.020948886987753212, 0.0167631899821572, 0.018241188023239374, 0.014306333992863074, 0.01781602401752025, 0.010159758996451274, 0.016628080018563196, 0.02365280600497499, 0.015270155010512099, 0.015808897005626932, 0.010613913997076452, 0.005509779992280528, 0.007229943003039807, 0.007357447000686079]\n"
     ]
    }
   ],
   "source": [
    "print(dt_runtimes)"
   ]
  },
  {
   "cell_type": "code",
   "execution_count": 137,
   "metadata": {},
   "outputs": [
    {
     "name": "stdout",
     "output_type": "stream",
     "text": [
      "-1.0890732409316115\n"
     ]
    }
   ],
   "source": [
    "print(nj_total - dt_total)"
   ]
  },
  {
   "cell_type": "markdown",
   "metadata": {},
   "source": [
    "## Runtime Graphs"
   ]
  },
  {
   "cell_type": "code",
   "execution_count": 138,
   "metadata": {},
   "outputs": [
    {
     "data": {
      "image/png": "[encoded data removed]",
      "text/plain": [
       "<matplotlib.figure.Figure at 0x120cefa20>"
      ]
     },
     "metadata": {},
     "output_type": "display_data"
    }
   ],
   "source": [
    "import matplotlib.pyplot as plt\n",
    "fig, ax = plt.subplots()\n",
    "x = np.arange(100)\n",
    "l1, = ax.plot(x, nj_runtimes)\n",
    "l2, = ax.plot(x, dt_runtimes)\n",
    "\n",
    "ax.legend((l1, l2), ('Neighbor Join', 'Degenerate Triple'), loc='upper right', shadow=True)\n",
    "\n",
    "#plt.plot(nj_runtimes)\n",
    "#plt.plot(dt_runtimes)\n",
    "\n",
    "ax.set_xlabel('trail')\n",
    "ax.set_ylabel('time')\n",
    "ax.set_title('Runtime Comparison')\n",
    "\n",
    "plt.show()"
   ]
  },
  {
   "cell_type": "code",
   "execution_count": 139,
   "metadata": {},
   "outputs": [
    {
     "data": {
      "image/png": "[encoded data removed]",
      "text/plain": [
       "<matplotlib.figure.Figure at 0x120e0e828>"
      ]
     },
     "metadata": {},
     "output_type": "display_data"
    }
   ],
   "source": [
    "fig, ax = plt.subplots()\n",
    "x = np.arange(100)\n",
    "y = [i - j for i,j in zip(dt_runtimes, nj_runtimes)]\n",
    "l1, = ax.plot(x, y)\n",
    "\n",
    "#plt.plot(nj_runtimes)\n",
    "#plt.plot(dt_runtimes)\n",
    "\n",
    "ax.set_xlabel('trail')\n",
    "ax.set_ylabel('time')\n",
    "ax.set_title('Runtime difference')\n",
    "\n",
    "plt.show()"
   ]
  },
  {
   "cell_type": "code",
   "execution_count": null,
   "metadata": {
    "collapsed": true
   },
   "outputs": [],
   "source": []
  },
  {
   "cell_type": "code",
   "execution_count": null,
   "metadata": {
    "collapsed": true
   },
   "outputs": [],
   "source": []
  }
 ],
 "metadata": {
  "kernelspec": {
   "display_name": "Python 3",
   "language": "python",
   "name": "python3"
  },
  "language_info": {
   "codemirror_mode": {
    "name": "ipython",
    "version": 3
   },
   "file_extension": ".py",
   "mimetype": "text/x-python",
   "name": "python",
   "nbconvert_exporter": "python",
   "pygments_lexer": "ipython3",
   "version": "3.6.1"
  }
 },
 "nbformat": 4,
 "nbformat_minor": 2
}
