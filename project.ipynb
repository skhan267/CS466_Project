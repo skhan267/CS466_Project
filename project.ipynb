{
 "cells": [
  {
   "cell_type": "code",
   "execution_count": 19,
   "metadata": {
    "collapsed": true
   },
   "outputs": [],
   "source": [
    "import pandas as pd\n",
    "import numpy as np \n",
    "from itertools import permutations\n",
    "import math\n",
    "import random"
   ]
  },
  {
   "cell_type": "code",
   "execution_count": 20,
   "metadata": {
    "collapsed": true
   },
   "outputs": [],
   "source": [
    "#generate a tree to obtain a additive distance matrix \n",
    "\n",
    "class Vertex:\n",
    "    def __init__(self, node):\n",
    "        self.id = node\n",
    "        self.adjacent = {}\n",
    "\n",
    "    def __str__(self):\n",
    "        return str([x.id for x in self.adjacent])\n",
    "\n",
    "    def add_neighbor(self, neighbor, weight=0):\n",
    "        self.adjacent[neighbor] = weight\n",
    "\n",
    "    def get_connections(self):\n",
    "        return self.adjacent.keys()  \n",
    "\n",
    "    def get_id(self):\n",
    "        return self.id\n",
    "\n",
    "    def get_weight(self, neighbor):\n",
    "        return self.adjacent[neighbor]\n",
    "\n",
    "class Tree:\n",
    "    def __init__(self):\n",
    "        self.vert_dict = {}\n",
    "        self.num_vertices = 0\n",
    "\n",
    "    def __iter__(self):\n",
    "        return iter(self.vert_dict.values())\n",
    "\n",
    "    def add_vertex(self, node):\n",
    "        self.num_vertices = self.num_vertices + 1\n",
    "        new_vertex = Vertex(node)\n",
    "        self.vert_dict[node] = new_vertex\n",
    "        return new_vertex\n",
    "\n",
    "    def get_vertex(self, n):\n",
    "        if n in self.vert_dict:\n",
    "            return self.vert_dict[n]\n",
    "        else:\n",
    "            return None\n",
    "\n",
    "    def add_edge(self, frm, to, cost = 0):\n",
    "        if frm not in self.vert_dict:\n",
    "            self.add_vertex(frm)\n",
    "        if to not in self.vert_dict:\n",
    "            self.add_vertex(to)\n",
    "\n",
    "        self.vert_dict[frm].add_neighbor(self.vert_dict[to], cost)\n",
    "        self.vert_dict[to].add_neighbor(self.vert_dict[frm], cost)\n",
    "\n",
    "    def get_vertices(self):\n",
    "        return self.vert_dict.keys()"
   ]
  },
  {
   "cell_type": "code",
   "execution_count": 21,
   "metadata": {
    "collapsed": true
   },
   "outputs": [],
   "source": [
    "output = (np.array([random.randrange(1, 10) for _ in range(0, 5)]))\n",
    "\n",
    "#generate n+1 random edge weights where n = # of nodes + a weight for a connecting branch\n",
    "\n",
    "t = Tree()\n",
    "\n",
    "t.add_vertex('a')\n",
    "t.add_vertex('b')\n",
    "t.add_vertex('c')\n",
    "t.add_vertex('d')\n",
    "\n",
    "t.add_edge('a', 'b', output[0] + output[1])   #dist between a to b\n",
    "t.add_edge('a', 'c', output[0] + output[4] + output[2]) #distance between a, connecting limb, c\n",
    "t.add_edge('a', 'd', output[0] + output[4] + output[3]) \n",
    "t.add_edge('b', 'c', output[1] + output[4] + output[2])\n",
    "t.add_edge('b', 'd', output[1] + output[4] + output[3])\n",
    "t.add_edge('c', 'd', output[2] + output[3])"
   ]
  },
  {
   "cell_type": "code",
   "execution_count": 22,
   "metadata": {},
   "outputs": [
    {
     "data": {
      "text/plain": [
       "{'a': {'a': 0, 'b': 16, 'c': 19, 'd': 17},\n",
       " 'b': {'a': 16, 'b': 0, 'c': 17, 'd': 15},\n",
       " 'c': {'a': 19, 'b': 17, 'c': 0, 'd': 14},\n",
       " 'd': {'a': 17, 'b': 15, 'c': 14, 'd': 0}}"
      ]
     },
     "execution_count": 22,
     "metadata": {},
     "output_type": "execute_result"
    }
   ],
   "source": [
    "# get dict of dicts for each node, neighbors, distance to neighbors \n",
    "def get_matrix(tree):\n",
    "    D = {}\n",
    "    for v in tree:\n",
    "        vid = v.get_id()\n",
    "        D[vid] = {vid : 0} # assign distance from itself to 0\n",
    "        for w in v.get_connections():\n",
    "            wid = w.get_id()\n",
    "            D[vid][wid] = int(v.get_weight(w))\n",
    "    return D\n",
    "        \n",
    "get_matrix(t)"
   ]
  },
  {
   "cell_type": "code",
   "execution_count": 698,
   "metadata": {},
   "outputs": [
    {
     "data": {
      "text/html": [
       "<div>\n",
       "<style scoped>\n",
       "    .dataframe tbody tr th:only-of-type {\n",
       "        vertical-align: middle;\n",
       "    }\n",
       "\n",
       "    .dataframe tbody tr th {\n",
       "        vertical-align: top;\n",
       "    }\n",
       "\n",
       "    .dataframe thead th {\n",
       "        text-align: right;\n",
       "    }\n",
       "</style>\n",
       "<table border=\"1\" class=\"dataframe\">\n",
       "  <thead>\n",
       "    <tr style=\"text-align: right;\">\n",
       "      <th></th>\n",
       "      <th>a</th>\n",
       "      <th>b</th>\n",
       "      <th>c</th>\n",
       "      <th>d</th>\n",
       "    </tr>\n",
       "  </thead>\n",
       "  <tbody>\n",
       "    <tr>\n",
       "      <th>a</th>\n",
       "      <td>0</td>\n",
       "      <td>8</td>\n",
       "      <td>23</td>\n",
       "      <td>20</td>\n",
       "    </tr>\n",
       "    <tr>\n",
       "      <th>b</th>\n",
       "      <td>8</td>\n",
       "      <td>0</td>\n",
       "      <td>17</td>\n",
       "      <td>14</td>\n",
       "    </tr>\n",
       "    <tr>\n",
       "      <th>c</th>\n",
       "      <td>23</td>\n",
       "      <td>17</td>\n",
       "      <td>0</td>\n",
       "      <td>13</td>\n",
       "    </tr>\n",
       "    <tr>\n",
       "      <th>d</th>\n",
       "      <td>20</td>\n",
       "      <td>14</td>\n",
       "      <td>13</td>\n",
       "      <td>0</td>\n",
       "    </tr>\n",
       "  </tbody>\n",
       "</table>\n",
       "</div>"
      ],
      "text/plain": [
       "    a   b   c   d\n",
       "a   0   8  23  20\n",
       "b   8   0  17  14\n",
       "c  23  17   0  13\n",
       "d  20  14  13   0"
      ]
     },
     "execution_count": 698,
     "metadata": {},
     "output_type": "execute_result"
    }
   ],
   "source": [
    "mat= pd.DataFrame.from_dict(get_matrix(t)) #convert to 2d matrix\n",
    "#visualize as n x n distance matrix         \n",
    "mat"
   ]
  },
  {
   "cell_type": "code",
   "execution_count": 709,
   "metadata": {},
   "outputs": [
    {
     "data": {
      "text/plain": [
       "'Additive'"
      ]
     },
     "execution_count": 709,
     "metadata": {},
     "output_type": "execute_result"
    }
   ],
   "source": [
    "#check if the matrix is additive using four point condition\n",
    "def is_additive(matrix, labels):\n",
    "    i = labels[0]\n",
    "    j = labels[1] \n",
    "    k = labels[2] \n",
    "    l = labels[3] \n",
    "    result = ''\n",
    "    if ((matrix[i][j] + matrix[k][l] <= matrix[i][k] + matrix[j][l]) and \n",
    "    (matrix[i][k] + matrix[j][l] == matrix[i][l] + matrix[j][k])):\n",
    "        result = \"Additive\"\n",
    "    else:\n",
    "        result = \"Not additive\"\n",
    "    return result \n",
    "\n",
    "labels = ['a','b','c','d']\n",
    "is_additive(mat, labels)"
   ]
  },
  {
   "cell_type": "code",
   "execution_count": 30,
   "metadata": {},
   "outputs": [
    {
     "data": {
      "text/html": [
       "<div>\n",
       "<style>\n",
       "    .dataframe thead tr:only-child th {\n",
       "        text-align: right;\n",
       "    }\n",
       "\n",
       "    .dataframe thead th {\n",
       "        text-align: left;\n",
       "    }\n",
       "\n",
       "    .dataframe tbody tr th {\n",
       "        vertical-align: top;\n",
       "    }\n",
       "</style>\n",
       "<table border=\"1\" class=\"dataframe\">\n",
       "  <thead>\n",
       "    <tr style=\"text-align: right;\">\n",
       "      <th></th>\n",
       "      <th>A</th>\n",
       "      <th>B</th>\n",
       "      <th>C</th>\n",
       "      <th>D</th>\n",
       "    </tr>\n",
       "  </thead>\n",
       "  <tbody>\n",
       "    <tr>\n",
       "      <th>A</th>\n",
       "      <td>0</td>\n",
       "      <td>8</td>\n",
       "      <td>15</td>\n",
       "      <td>9</td>\n",
       "    </tr>\n",
       "    <tr>\n",
       "      <th>B</th>\n",
       "      <td>8</td>\n",
       "      <td>0</td>\n",
       "      <td>5</td>\n",
       "      <td>10</td>\n",
       "    </tr>\n",
       "    <tr>\n",
       "      <th>C</th>\n",
       "      <td>15</td>\n",
       "      <td>5</td>\n",
       "      <td>0</td>\n",
       "      <td>11</td>\n",
       "    </tr>\n",
       "    <tr>\n",
       "      <th>D</th>\n",
       "      <td>9</td>\n",
       "      <td>10</td>\n",
       "      <td>11</td>\n",
       "      <td>0</td>\n",
       "    </tr>\n",
       "  </tbody>\n",
       "</table>\n",
       "</div>"
      ],
      "text/plain": [
       "    A   B   C   D\n",
       "A   0   8  15   9\n",
       "B   8   0   5  10\n",
       "C  15   5   0  11\n",
       "D   9  10  11   0"
      ]
     },
     "execution_count": 30,
     "metadata": {},
     "output_type": "execute_result"
    }
   ],
   "source": [
    "dm = pd.DataFrame.from_dict(tree)\n",
    "dm['A']['B'] = 8\n",
    "dm['A']['C'] = 15\n",
    "dm['A']['D'] = 9\n",
    "dm['B']['C'] = 5\n",
    "dm['B']['D'] = 10\n",
    "dm['C']['D'] = 11\n",
    "\n",
    "dm['B']['A'] = 8\n",
    "dm['C']['A'] = 15\n",
    "dm['D']['A'] = 9\n",
    "dm['C']['B'] = 5\n",
    "dm['D']['B'] = 10\n",
    "dm['D']['C'] = 11\n",
    "dm"
   ]
  },
  {
   "cell_type": "markdown",
   "metadata": {},
   "source": [
    "## Neigbor join"
   ]
  },
  {
   "cell_type": "code",
   "execution_count": 31,
   "metadata": {},
   "outputs": [
    {
     "name": "stdout",
     "output_type": "stream",
     "text": [
      "['A', 'B', 'C', 'D']\n"
     ]
    }
   ],
   "source": [
    "import copy\n",
    "clusters = []\n",
    "for cluster in list(dm):\n",
    "    clusters.append(cluster)\n",
    "cluster2idx = { name : idx for idx, name in enumerate(clusters) }\n",
    "idx2cluster = copy.deepcopy(clusters)\n",
    "m = copy.deepcopy(dm).to_dict()\n",
    "Z = np.empty((0,4), float)\n",
    "result = \"\"\n",
    "print(clusters)\n",
    "#membership = [set([cluster2idx[name]]) for name in clusters]"
   ]
  },
  {
   "cell_type": "code",
   "execution_count": 32,
   "metadata": {},
   "outputs": [
    {
     "name": "stdout",
     "output_type": "stream",
     "text": [
      "\n",
      "{'A': {'A': 0, 'B': 8, 'C': 15, 'D': 9}, 'B': {'A': 8, 'B': 0, 'C': 5, 'D': 10}, 'C': {'A': 15, 'B': 5, 'C': 0, 'D': 11}, 'D': {'A': 9, 'B': 10, 'C': 11, 'D': 0}}\n",
      "ui 32\n",
      "uj 30\n",
      "-44\n",
      "(A.D)\n",
      "{'B': {'B': 0, 'C': 5, '(A.D)': 4.5}, 'C': {'B': 5, 'C': 0, '(A.D)': 8.5}, '(A.D)': {'(A.D)': 0, 'B': 4.5, 'C': 8.5}}\n",
      "ui 9.5\n",
      "uj 13.5\n",
      "-18.0\n",
      "(B.C)\n",
      "{'(A.D)': {'(A.D)': 0, '(B.C)': 4.0}, '(B.C)': {'(B.C)': 0, '(A.D)': 4.0}}\n",
      "ui 4.0\n",
      "uj 4.0\n",
      "-8.0\n"
     ]
    }
   ],
   "source": [
    "M, N = dm.shape\n",
    "new_cluster_idx = M+1\n",
    "while len(clusters) > 1:\n",
    "    print(result)\n",
    "    print(m)\n",
    "    idx1 = None\n",
    "    idx2 = None\n",
    "    ui = 0\n",
    "    uj = 0\n",
    "    Sd = 100000\n",
    "    for i in clusters:\n",
    "        for j in clusters:\n",
    "            if i != j:\n",
    "                ui_t = sum(m[i][k] for k in clusters)\n",
    "                uj_t = sum(m[j][k] for k in clusters)\n",
    "                curr = (M - 2) * m[i][j] - ui_t - uj_t\n",
    "                if Sd > curr:\n",
    "                    Sd = curr\n",
    "                    idx1 = cluster2idx[i]\n",
    "                    idx2 = cluster2idx[j]\n",
    "                    ui = ui_t\n",
    "                    uj = uj_t\n",
    "    print(\"ui\", ui)\n",
    "    print(\"uj\", uj)\n",
    "    print(Sd)\n",
    "    \n",
    "    Dij = m[idx2cluster[idx1]][idx2cluster[idx2]]\n",
    "    new_cluster = \"(\" + idx2cluster[idx1] +\".\" + idx2cluster[idx2] + \")\"\n",
    "    result = new_cluster\n",
    "    m[new_cluster] = {}\n",
    "    new_cluster_idx += 1\n",
    "    #membership.append(membership[cluster2idx[idx1]] | membership[cluster2idx[idx2]])\n",
    "    #Z = np.append(Z, np.array([[idx1, idx2, Sd]]))\n",
    "    if M - 2 != 0:\n",
    "        m[idx2cluster[idx1]][new_cluster] = (m[idx2cluster[idx1]][idx2cluster[idx2]] + (1/(M-2)) * (ui - uj))/2\n",
    "        m[idx2cluster[idx2]][new_cluster] = (m[idx2cluster[idx1]][idx2cluster[idx2]] + (1/(M-2)) * (uj - ui))/2\n",
    "    \n",
    "    #if idx2cluster[idx1] in m: del m[idx2cluster[idx1]]\n",
    "    #if idx2cluster[idx2] in m: del m[idx2cluster[idx2]]\n",
    "    \n",
    "    clusters.remove(idx2cluster[idx1])\n",
    "    clusters.remove(idx2cluster[idx2])\n",
    "    \n",
    "    m[new_cluster][new_cluster] = 0\n",
    "    for c in clusters:\n",
    "        m[c][new_cluster] = (m[c][idx2cluster[idx1]] + m[c][idx2cluster[idx2]] - Dij)/2\n",
    "        m[new_cluster][c] = m[c][new_cluster]\n",
    "        for k in list(m[c].keys()):\n",
    "            if k == idx2cluster[idx1] or k == idx2cluster[idx2]:\n",
    "                del m[c][k]\n",
    "        \n",
    "    del cluster2idx[idx2cluster[idx1]]\n",
    "    del cluster2idx[idx2cluster[idx2]]\n",
    "    if idx2cluster[idx1] in m: del m[idx2cluster[idx1]]\n",
    "    if idx2cluster[idx2] in m: del m[idx2cluster[idx2]]\n",
    "    \n",
    "    clusters.append(new_cluster)\n",
    "    cluster2idx[new_cluster] = len(idx2cluster)\n",
    "    idx2cluster.append(new_cluster)\n",
    "        \n",
    "    M -= 1\n",
    "    N -= 1"
   ]
  },
  {
   "cell_type": "code",
   "execution_count": 33,
   "metadata": {},
   "outputs": [
    {
     "name": "stdout",
     "output_type": "stream",
     "text": [
      "((A.D).(B.C))\n"
     ]
    }
   ],
   "source": [
    "print(result)"
   ]
  },
  {
   "cell_type": "code",
   "execution_count": 704,
   "metadata": {
    "collapsed": true
   },
   "outputs": [],
   "source": [
    "##additive phlyogeny construction using degenerate triples"
   ]
  },
  {
   "cell_type": "code",
   "execution_count": 132,
   "metadata": {},
   "outputs": [],
   "source": [
    "dm['A']['B'] = 4\n",
    "dm['B']['A'] = 4\n",
    "dm['A']['C'] = 10\n",
    "dm['C']['A'] = 10\n",
    "dm['A']['D'] = 9\n",
    "dm['D']['A'] = 9\n",
    "dm['B']['C'] = 8\n",
    "dm['C']['B'] = 8\n",
    "dm['B']['D'] = 7\n",
    "dm['D']['B'] = 7\n",
    "dm['C']['D'] = 9\n",
    "dm['D']['C'] = 9\n",
    "\n",
    "\n",
    "def check_and_find_degenerate(D):\n",
    "    cols = 'ABCD'\n",
    "    triplets = permutations(D.index,3)\n",
    "    for triplet in triplets:\n",
    "        i,j,k = triplet\n",
    "        if D[i][j] + D[j][k] == D[i][k]:\n",
    "            return i,j,k, True\n",
    "        \n",
    "    return -1,-1,-1, False\n",
    "    \n",
    "def compute_trimming_param(D):\n",
    "    cols = 'ABCD'\n",
    "    triplets = permutations(D.index,3)\n",
    "    min_delta = float('inf')\n",
    "    best_i,best_j,best_k = -1,-1,-1\n",
    "    for triplet in triplets:\n",
    "        i,j,k = triplet\n",
    "        delta = (D[i][j] + D[j][k] - D[i][k])/2\n",
    "        if delta > 0 and delta < min_delta:\n",
    "            min_delta = delta\n",
    "            best_i,best_j,best_k = i,j,k\n",
    "            \n",
    "    return min_delta, best_i,best_j,best_k\n",
    "\n",
    "def Trim(D, delta):\n",
    "    D = D - (2*delta)\n",
    "    for i in D.index:\n",
    "        D[i][i] = 0\n",
    "    return D\n",
    "\n",
    "def additive_phylogeny(D, v):\n",
    "    if D.shape == (2,2):\n",
    "        T = {D.index[0] : {D.index[1]: D[D.index[0]][D.index[1]]}, \n",
    "             D.index[1] : {D.index[0]: D[D.index[1]][D.index[0]]}}\n",
    "        return T\n",
    "    i,j,k,flag = check_and_find_degenerate(D)\n",
    "    if not flag:\n",
    "        delta,best_i,best_j,best_k = compute_trimming_param(D)\n",
    "        i,j,k = best_i,best_j,best_k\n",
    "        D = Trim(D, delta)\n",
    "    x = D[i][j]\n",
    "    D = D.drop([j])\n",
    "    D = D.drop(j, axis=1)\n",
    "    T = additive_phylogeny(D, v+1)\n",
    "    T[v] = {i:x}\n",
    "    T[i] = {v:x}\n",
    "    if v + 1 in T:\n",
    "        del T[v+1][i]\n",
    "        T[v][v+1] = D[i][k]-x-T[v+1][k]\n",
    "        T[v+1][v] = D[i][k]-x-T[v+1][k]\n",
    "    else:\n",
    "        T[v][k] = D[i][k]-x\n",
    "        T[k] = {v:D[i][k]-x}\n",
    "    \n",
    "    T[v][j] = 0\n",
    "    T[j] = {v:0}\n",
    "    for l in T:\n",
    "        if l in D.index and j in D.index and T[l][v] != D[l][j]:\n",
    "            print('Matrix not additive')\n",
    "            return\n",
    "    for v in T:\n",
    "        for l in 'ABCD':\n",
    "            if l in T[v] and type(v) == int:\n",
    "                T[l][v] =  T[l][v] + (delta)\n",
    "                T[v][l] =  T[v][l] + (delta)\n",
    "            \n",
    "    return T\n"
   ]
  },
  {
   "cell_type": "code",
   "execution_count": 133,
   "metadata": {
    "collapsed": true
   },
   "outputs": [],
   "source": [
    "T = additive_phylogeny(dm, 0)"
   ]
  },
  {
   "cell_type": "code",
   "execution_count": 134,
   "metadata": {},
   "outputs": [
    {
     "name": "stdout",
     "output_type": "stream",
     "text": [
      "((,(B:1)1:2)1:0,((D:4,(B:1)1:2)1:5)1:0);\n",
      "\n",
      "   /A /0 /-B\n",
      "--|\n",
      "  |      /-D\n",
      "   \\C /1|\n",
      "         \\0 /-B\n",
      "[Tree node 'D' (0x11c8ec55), Tree node '0' (-0x7fffffffee371331)]\n",
      "[Tree node '0' (-0x7fffffffee371331)]\n"
     ]
    }
   ],
   "source": [
    "from ete3 import Tree\n",
    "tree = Tree()\n",
    "tree_dict = {}\n",
    "for node in T:\n",
    "    if node not in tree_dict:\n",
    "        tree_dict[node] = tree.add_child(name=node, dist=0)\n",
    "    curr_node = tree_dict[node]\n",
    "    for edge in T[node]:\n",
    "        if edge in tree_dict:\n",
    "            if curr_node not in tree_dict[edge].get_children():\n",
    "                curr_node.add_child(child=tree_dict[edge], dist=T[node][edge])\n",
    "        else:\n",
    "            tree_dict[edge] = curr_node.add_child(name=edge, dist=T[node][edge])\n",
    "print(tree.write())\n",
    "print(tree.get_ascii())\n",
    "print(tree_dict[1].get_children())\n",
    "print(tree_dict['A'].get_children())"
   ]
  },
  {
   "cell_type": "code",
   "execution_count": null,
   "metadata": {
    "collapsed": true
   },
   "outputs": [],
   "source": []
  }
 ],
 "metadata": {
  "kernelspec": {
   "display_name": "Python 3",
   "language": "python",
   "name": "python3"
  },
  "language_info": {
   "codemirror_mode": {
    "name": "ipython",
    "version": 3
   },
   "file_extension": ".py",
   "mimetype": "text/x-python",
   "name": "python",
   "nbconvert_exporter": "python",
   "pygments_lexer": "ipython3",
   "version": "3.6.1"
  }
 },
 "nbformat": 4,
 "nbformat_minor": 2
}
