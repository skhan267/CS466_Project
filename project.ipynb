{
 "cells": [
  {
   "cell_type": "code",
   "execution_count": 2,
   "metadata": {
    "collapsed": true
   },
   "outputs": [],
   "source": [
    "import pandas as pd\n",
    "import numpy as np \n",
    "from itertools import permutations"
   ]
  },
  {
   "cell_type": "code",
   "execution_count": 3,
   "metadata": {
    "collapsed": true
   },
   "outputs": [],
   "source": [
    "#generate random data \n",
    "data = np.random.randint(10, size=(4, 2))\n",
    "labels = ['A', 'B', 'C','D']\n",
    "df = pd.DataFrame(data, columns=['X', 'Y'], index=labels)\n",
    "\n",
    "#convert to a dictionary \n",
    "data_dict = {}\n",
    "for idx, col in df.iterrows(): \n",
    "    data_dict[idx] = col.values\n",
    "    \n",
    "#data_dict   "
   ]
  },
  {
   "cell_type": "code",
   "execution_count": 4,
   "metadata": {
    "collapsed": true
   },
   "outputs": [],
   "source": [
    "#calculate the manhattan distance of our data values + put it into a n x n distance matrix \n",
    "def manhattan_dist(x, y):\n",
    "    return sum(abs(a-b) for a,b in zip(x,y))"
   ]
  },
  {
   "cell_type": "code",
   "execution_count": 5,
   "metadata": {
    "collapsed": true
   },
   "outputs": [],
   "source": [
    "#put distances and labels into a dictionary\n",
    "def build_tree():\n",
    "    D = {}\n",
    "    for label, val in data_dict.items():\n",
    "        D[label] = {}\n",
    "        for label2, val2 in data_dict.items():\n",
    "            D[label][label2] = manhattan_dist(val, val2) \n",
    "    return D"
   ]
  },
  {
   "cell_type": "code",
   "execution_count": 6,
   "metadata": {},
   "outputs": [
    {
     "data": {
      "text/plain": [
       "{'A': {'A': 0, 'B': 6, 'C': 4, 'D': 5},\n",
       " 'B': {'A': 6, 'B': 0, 'C': 10, 'D': 11},\n",
       " 'C': {'A': 4, 'B': 10, 'C': 0, 'D': 1},\n",
       " 'D': {'A': 5, 'B': 11, 'C': 1, 'D': 0}}"
      ]
     },
     "execution_count": 6,
     "metadata": {},
     "output_type": "execute_result"
    }
   ],
   "source": [
    "tree = build_tree()\n",
    "tree"
   ]
  },
  {
   "cell_type": "code",
   "execution_count": 13,
   "metadata": {},
   "outputs": [
    {
     "data": {
      "text/html": [
       "<div>\n",
       "<style>\n",
       "    .dataframe thead tr:only-child th {\n",
       "        text-align: right;\n",
       "    }\n",
       "\n",
       "    .dataframe thead th {\n",
       "        text-align: left;\n",
       "    }\n",
       "\n",
       "    .dataframe tbody tr th {\n",
       "        vertical-align: top;\n",
       "    }\n",
       "</style>\n",
       "<table border=\"1\" class=\"dataframe\">\n",
       "  <thead>\n",
       "    <tr style=\"text-align: right;\">\n",
       "      <th></th>\n",
       "      <th>A</th>\n",
       "      <th>B</th>\n",
       "      <th>C</th>\n",
       "      <th>D</th>\n",
       "    </tr>\n",
       "  </thead>\n",
       "  <tbody>\n",
       "    <tr>\n",
       "      <th>A</th>\n",
       "      <td>0</td>\n",
       "      <td>6</td>\n",
       "      <td>4</td>\n",
       "      <td>5</td>\n",
       "    </tr>\n",
       "    <tr>\n",
       "      <th>B</th>\n",
       "      <td>6</td>\n",
       "      <td>0</td>\n",
       "      <td>10</td>\n",
       "      <td>11</td>\n",
       "    </tr>\n",
       "    <tr>\n",
       "      <th>C</th>\n",
       "      <td>4</td>\n",
       "      <td>10</td>\n",
       "      <td>0</td>\n",
       "      <td>1</td>\n",
       "    </tr>\n",
       "    <tr>\n",
       "      <th>D</th>\n",
       "      <td>5</td>\n",
       "      <td>11</td>\n",
       "      <td>1</td>\n",
       "      <td>0</td>\n",
       "    </tr>\n",
       "  </tbody>\n",
       "</table>\n",
       "</div>"
      ],
      "text/plain": [
       "   A   B   C   D\n",
       "A  0   6   4   5\n",
       "B  6   0  10  11\n",
       "C  4  10   0   1\n",
       "D  5  11   1   0"
      ]
     },
     "execution_count": 13,
     "metadata": {},
     "output_type": "execute_result"
    }
   ],
   "source": [
    "#visualize as n x n distance matrix         \n",
    "dm = pd.DataFrame.from_dict(tree)\n",
    "dm"
   ]
  },
  {
   "cell_type": "code",
   "execution_count": 14,
   "metadata": {
    "collapsed": true
   },
   "outputs": [],
   "source": [
    "#check if the matrix is additive using four point condition\n",
    "def is_additive(matrix, labels):\n",
    "    i = labels[0]\n",
    "    j = labels[1] \n",
    "    k = labels[2] \n",
    "    l = labels[3] \n",
    "    result = ''\n",
    "    if ((matrix[i][j] + matrix[k][l] <= matrix[i][k] + matrix[j][l]) and \n",
    "    (matrix[i][k] + matrix[j][l] == matrix[i][l] + matrix[j][k])):\n",
    "        result = \"Additive\"\n",
    "    else:\n",
    "        result = \"Not additive\"\n",
    "    return result "
   ]
  },
  {
   "cell_type": "code",
   "execution_count": 15,
   "metadata": {},
   "outputs": [
    {
     "ename": "NameError",
     "evalue": "name 'temp' is not defined",
     "output_type": "error",
     "traceback": [
      "\u001b[1;31m---------------------------------------------------------------------------\u001b[0m",
      "\u001b[1;31mNameError\u001b[0m                                 Traceback (most recent call last)",
      "\u001b[1;32m<ipython-input-15-fb86cce76408>\u001b[0m in \u001b[0;36m<module>\u001b[1;34m()\u001b[0m\n\u001b[0;32m      1\u001b[0m \u001b[0mcols\u001b[0m \u001b[1;33m=\u001b[0m \u001b[1;34m'ABCD'\u001b[0m\u001b[1;33m\u001b[0m\u001b[0m\n\u001b[1;32m----> 2\u001b[1;33m \u001b[0mlabels\u001b[0m \u001b[1;33m=\u001b[0m \u001b[0mpermutations\u001b[0m\u001b[1;33m(\u001b[0m\u001b[0mtemp\u001b[0m\u001b[1;33m,\u001b[0m\u001b[1;36m4\u001b[0m\u001b[1;33m)\u001b[0m\u001b[1;33m\u001b[0m\u001b[0m\n\u001b[0m",
      "\u001b[1;31mNameError\u001b[0m: name 'temp' is not defined"
     ]
    }
   ],
   "source": [
    "cols = 'ABCD'\n",
    "labels = permutations(temp,4)"
   ]
  },
  {
   "cell_type": "code",
   "execution_count": 16,
   "metadata": {},
   "outputs": [
    {
     "ename": "IndexError",
     "evalue": "list index out of range",
     "output_type": "error",
     "traceback": [
      "\u001b[1;31m---------------------------------------------------------------------------\u001b[0m",
      "\u001b[1;31mIndexError\u001b[0m                                Traceback (most recent call last)",
      "\u001b[1;32m<ipython-input-16-396ae946b498>\u001b[0m in \u001b[0;36m<module>\u001b[1;34m()\u001b[0m\n\u001b[0;32m      4\u001b[0m     \u001b[1;32mfor\u001b[0m \u001b[0mitem\u001b[0m \u001b[1;32min\u001b[0m \u001b[0mcombs\u001b[0m\u001b[1;33m:\u001b[0m\u001b[1;33m\u001b[0m\u001b[0m\n\u001b[0;32m      5\u001b[0m         \u001b[0mnew_label\u001b[0m\u001b[1;33m+=\u001b[0m\u001b[0mitem\u001b[0m\u001b[1;33m\u001b[0m\u001b[0m\n\u001b[1;32m----> 6\u001b[1;33m     \u001b[0mcheck\u001b[0m\u001b[1;33m.\u001b[0m\u001b[0mappend\u001b[0m\u001b[1;33m(\u001b[0m\u001b[0mis_additive\u001b[0m\u001b[1;33m(\u001b[0m\u001b[0mdm\u001b[0m\u001b[1;33m,\u001b[0m \u001b[0mnew_label\u001b[0m\u001b[1;33m)\u001b[0m\u001b[1;33m)\u001b[0m\u001b[1;33m\u001b[0m\u001b[0m\n\u001b[0m\u001b[0;32m      7\u001b[0m \u001b[0mcheck\u001b[0m\u001b[1;33m\u001b[0m\u001b[0m\n",
      "\u001b[1;32m<ipython-input-14-98704d4d79c2>\u001b[0m in \u001b[0;36mis_additive\u001b[1;34m(matrix, labels)\u001b[0m\n\u001b[0;32m      2\u001b[0m \u001b[1;32mdef\u001b[0m \u001b[0mis_additive\u001b[0m\u001b[1;33m(\u001b[0m\u001b[0mmatrix\u001b[0m\u001b[1;33m,\u001b[0m \u001b[0mlabels\u001b[0m\u001b[1;33m)\u001b[0m\u001b[1;33m:\u001b[0m\u001b[1;33m\u001b[0m\u001b[0m\n\u001b[0;32m      3\u001b[0m     \u001b[0mi\u001b[0m \u001b[1;33m=\u001b[0m \u001b[0mlabels\u001b[0m\u001b[1;33m[\u001b[0m\u001b[1;36m0\u001b[0m\u001b[1;33m]\u001b[0m\u001b[1;33m\u001b[0m\u001b[0m\n\u001b[1;32m----> 4\u001b[1;33m     \u001b[0mj\u001b[0m \u001b[1;33m=\u001b[0m \u001b[0mlabels\u001b[0m\u001b[1;33m[\u001b[0m\u001b[1;36m1\u001b[0m\u001b[1;33m]\u001b[0m\u001b[1;33m\u001b[0m\u001b[0m\n\u001b[0m\u001b[0;32m      5\u001b[0m     \u001b[0mk\u001b[0m \u001b[1;33m=\u001b[0m \u001b[0mlabels\u001b[0m\u001b[1;33m[\u001b[0m\u001b[1;36m2\u001b[0m\u001b[1;33m]\u001b[0m\u001b[1;33m\u001b[0m\u001b[0m\n\u001b[0;32m      6\u001b[0m     \u001b[0ml\u001b[0m \u001b[1;33m=\u001b[0m \u001b[0mlabels\u001b[0m\u001b[1;33m[\u001b[0m\u001b[1;36m3\u001b[0m\u001b[1;33m]\u001b[0m\u001b[1;33m\u001b[0m\u001b[0m\n",
      "\u001b[1;31mIndexError\u001b[0m: list index out of range"
     ]
    }
   ],
   "source": [
    "check = []\n",
    "for combs in labels:\n",
    "    new_label = []\n",
    "    for item in combs:\n",
    "        new_label+=item\n",
    "    check.append(is_additive(dm, new_label))\n",
    "check"
   ]
  },
  {
   "cell_type": "markdown",
   "metadata": {},
   "source": [
    "## Niegbor join"
   ]
  },
  {
   "cell_type": "code",
   "execution_count": 17,
   "metadata": {},
   "outputs": [
    {
     "name": "stdout",
     "output_type": "stream",
     "text": [
      "['A', 'B', 'C', 'D']\n"
     ]
    }
   ],
   "source": [
    "import copy\n",
    "clusters = []\n",
    "for cluster in list(dm):\n",
    "    clusters.append(cluster)\n",
    "cluster2idx = { name : idx for idx, name in enumerate(clusters) }\n",
    "idx2cluster = copy.deepcopy(clusters)\n",
    "m = copy.deepcopy(dm).to_dict()\n",
    "Z = np.empty((0,4), float)\n",
    "result = \"\"\n",
    "print(clusters)\n",
    "#membership = [set([cluster2idx[name]]) for name in clusters]"
   ]
  },
  {
   "cell_type": "code",
   "execution_count": 18,
   "metadata": {},
   "outputs": [
    {
     "name": "stdout",
     "output_type": "stream",
     "text": [
      "\n",
      "{'A': {'A': 0, 'B': 6, 'C': 4, 'D': 5}, 'B': {'A': 6, 'B': 0, 'C': 10, 'D': 11}, 'C': {'A': 4, 'B': 10, 'C': 0, 'D': 1}, 'D': {'A': 5, 'B': 11, 'C': 1, 'D': 0}}\n",
      "(A.B)\n",
      "{'C': {'C': 0, 'D': 1, '(A.B)': 4.0}, 'D': {'C': 1, 'D': 0, '(A.B)': 5.0}, '(A.B)': {'(A.B)': 0, 'C': 4.0, 'D': 5.0}}\n",
      "(C.D)\n",
      "{'(A.B)': {'(A.B)': 0, '(C.D)': 4.0}, '(C.D)': {'(C.D)': 0, '(A.B)': 4.0}}\n"
     ]
    }
   ],
   "source": [
    "M, N = dm.shape\n",
    "new_cluster_idx = M+1\n",
    "while len(clusters) > 1:\n",
    "    print(result)\n",
    "    print(m)\n",
    "    idx1 = None\n",
    "    idx2 = None\n",
    "    ui = 0\n",
    "    uj = 0\n",
    "    Sd = 100000\n",
    "    for i in clusters:\n",
    "        for j in clusters:\n",
    "            if i != j:\n",
    "                ui = sum(m[i][k] for k in clusters)\n",
    "                uj = sum(m[j][k] for k in clusters)\n",
    "                curr = (M - 2) * m[i][j] - ui - uj\n",
    "                if Sd > curr:\n",
    "                    Sd = curr\n",
    "                    idx1 = cluster2idx[i]\n",
    "                    idx2 = cluster2idx[j]\n",
    "    \n",
    "    Dij = m[idx2cluster[idx1]][idx2cluster[idx2]]\n",
    "    new_cluster = \"(\" + idx2cluster[idx1] +\".\" + idx2cluster[idx2] + \")\"\n",
    "    result = new_cluster\n",
    "    m[new_cluster] = {}\n",
    "    new_cluster_idx += 1\n",
    "    #membership.append(membership[cluster2idx[idx1]] | membership[cluster2idx[idx2]])\n",
    "    #Z = np.append(Z, np.array([[idx1, idx2, Sd]]))\n",
    "    \n",
    "    m[idx2cluster[idx1]][new_cluster] = (m[idx2cluster[idx1]][idx2cluster[idx2]] + (1/(M-2)) * (ui - uj))/2\n",
    "    m[idx2cluster[idx2]][new_cluster] = (m[idx2cluster[idx1]][idx2cluster[idx2]] + (1/(M-2)) * (uj - ui))/2\n",
    "    \n",
    "    #if idx2cluster[idx1] in m: del m[idx2cluster[idx1]]\n",
    "    #if idx2cluster[idx2] in m: del m[idx2cluster[idx2]]\n",
    "    \n",
    "    clusters.remove(idx2cluster[idx1])\n",
    "    clusters.remove(idx2cluster[idx2])\n",
    "    \n",
    "    m[new_cluster][new_cluster] = 0\n",
    "    for c in clusters:\n",
    "        m[c][new_cluster] = (m[c][idx2cluster[idx1]] + m[c][idx2cluster[idx2]] - Dij)/2\n",
    "        m[new_cluster][c] = m[c][new_cluster]\n",
    "        for k in list(m[c].keys()):\n",
    "            if k == idx2cluster[idx1] or k == idx2cluster[idx2]:\n",
    "                del m[c][k]\n",
    "        \n",
    "    del cluster2idx[idx2cluster[idx1]]\n",
    "    del cluster2idx[idx2cluster[idx2]]\n",
    "    if idx2cluster[idx1] in m: del m[idx2cluster[idx1]]\n",
    "    if idx2cluster[idx2] in m: del m[idx2cluster[idx2]]\n",
    "    \n",
    "    clusters.append(new_cluster)\n",
    "    cluster2idx[new_cluster] = len(idx2cluster)\n",
    "    idx2cluster.append(new_cluster)\n",
    "        \n",
    "    #M -= 1\n",
    "    #N -= 1"
   ]
  },
  {
   "cell_type": "code",
   "execution_count": 19,
   "metadata": {},
   "outputs": [
    {
     "name": "stdout",
     "output_type": "stream",
     "text": [
      "((A.B).(C.D))\n"
     ]
    }
   ],
   "source": [
    "print(result)"
   ]
  },
  {
   "cell_type": "code",
   "execution_count": null,
   "metadata": {
    "collapsed": true
   },
   "outputs": [],
   "source": []
  }
 ],
 "metadata": {
  "kernelspec": {
   "display_name": "Python 3",
   "language": "python",
   "name": "python3"
  },
  "language_info": {
   "codemirror_mode": {
    "name": "ipython",
    "version": 3
   },
   "file_extension": ".py",
   "mimetype": "text/x-python",
   "name": "python",
   "nbconvert_exporter": "python",
   "pygments_lexer": "ipython3",
   "version": "3.6.3"
  }
 },
 "nbformat": 4,
 "nbformat_minor": 2
}
