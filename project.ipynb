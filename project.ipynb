{
 "cells": [
  {
   "cell_type": "code",
   "execution_count": 58,
   "metadata": {
    "collapsed": true
   },
   "outputs": [],
   "source": [
    "import pandas as pd\n",
    "import numpy as np \n",
    "from itertools import permutations, combinations\n",
    "import math\n",
    "import random"
   ]
  },
  {
   "cell_type": "code",
   "execution_count": 59,
   "metadata": {
    "collapsed": true
   },
   "outputs": [],
   "source": [
    "#generate a tree to obtain a additive distance matrix \n",
    "\n",
    "class Vertex:\n",
    "    def __init__(self, node):\n",
    "        self.id = node\n",
    "        self.adjacent = {}\n",
    "\n",
    "    def __str__(self):\n",
    "        return str([x.id for x in self.adjacent])\n",
    "\n",
    "    def add_neighbor(self, neighbor, weight=0):\n",
    "        self.adjacent[neighbor] = weight\n",
    "\n",
    "    def get_connections(self):\n",
    "        return self.adjacent.keys()  \n",
    "\n",
    "    def get_id(self):\n",
    "        return self.id\n",
    "\n",
    "    def get_weight(self, neighbor):\n",
    "        return self.adjacent[neighbor]\n",
    "\n",
    "class MatrixTree:\n",
    "    def __init__(self):\n",
    "        self.vert_dict = {}\n",
    "        self.num_vertices = 0\n",
    "\n",
    "    def __iter__(self):\n",
    "        return iter(self.vert_dict.values())\n",
    "\n",
    "    def add_vertex(self, node):\n",
    "        self.num_vertices = self.num_vertices + 1\n",
    "        new_vertex = Vertex(node)\n",
    "        self.vert_dict[node] = new_vertex\n",
    "        return new_vertex\n",
    "\n",
    "    def get_vertex(self, n):\n",
    "        if n in self.vert_dict:\n",
    "            return self.vert_dict[n]\n",
    "        else:\n",
    "            return None\n",
    "\n",
    "    def add_edge(self, frm, to, cost = 0):\n",
    "        if frm not in self.vert_dict:\n",
    "            self.add_vertex(frm)\n",
    "        if to not in self.vert_dict:\n",
    "            self.add_vertex(to)\n",
    "\n",
    "        self.vert_dict[frm].add_neighbor(self.vert_dict[to], cost)\n",
    "        self.vert_dict[to].add_neighbor(self.vert_dict[frm], cost)\n",
    "\n",
    "    def get_vertices(self):\n",
    "        return self.vert_dict.keys()"
   ]
  },
  {
   "cell_type": "code",
   "execution_count": 60,
   "metadata": {
    "collapsed": true
   },
   "outputs": [],
   "source": [
    "def get_tree():   \n",
    "    output = (np.array([random.randrange(1, 10) for _ in range(0, 5)]))\n",
    "\n",
    "    #generate n+1 random edge weights where n = # of nodes + a weight for a connecting branch\n",
    "\n",
    "    t = MatrixTree()\n",
    "\n",
    "    t.add_vertex('a')\n",
    "    t.add_vertex('b')\n",
    "    t.add_vertex('c')\n",
    "    t.add_vertex('d')\n",
    "\n",
    "    t.add_edge('a', 'b', output[0] + output[1])   #dist between a to b\n",
    "    t.add_edge('a', 'c', output[0] + output[4] + output[2]) #distance between a, connecting limb, c\n",
    "    t.add_edge('a', 'd', output[0] + output[4] + output[3]) \n",
    "    t.add_edge('b', 'c', output[1] + output[4] + output[2])\n",
    "    t.add_edge('b', 'd', output[1] + output[4] + output[3])\n",
    "    t.add_edge('c', 'd', output[2] + output[3])\n",
    "    return t"
   ]
  },
  {
   "cell_type": "code",
   "execution_count": 61,
   "metadata": {
    "collapsed": true
   },
   "outputs": [],
   "source": [
    "# get dict of dicts for each node, neighbors, distance to neighbors \n",
    "def get_matrix(tree):\n",
    "    D = {}\n",
    "    for v in tree:\n",
    "        vid = v.get_id()\n",
    "        D[vid] = {vid : 0} # assign distance from itself to 0\n",
    "        for w in v.get_connections():\n",
    "            wid = w.get_id()\n",
    "            D[vid][wid] = int(v.get_weight(w))\n",
    "    return D"
   ]
  },
  {
   "cell_type": "code",
   "execution_count": 62,
   "metadata": {},
   "outputs": [
    {
     "data": {
      "text/html": [
       "<div>\n",
       "<style>\n",
       "    .dataframe thead tr:only-child th {\n",
       "        text-align: right;\n",
       "    }\n",
       "\n",
       "    .dataframe thead th {\n",
       "        text-align: left;\n",
       "    }\n",
       "\n",
       "    .dataframe tbody tr th {\n",
       "        vertical-align: top;\n",
       "    }\n",
       "</style>\n",
       "<table border=\"1\" class=\"dataframe\">\n",
       "  <thead>\n",
       "    <tr style=\"text-align: right;\">\n",
       "      <th></th>\n",
       "      <th>a</th>\n",
       "      <th>b</th>\n",
       "      <th>c</th>\n",
       "      <th>d</th>\n",
       "    </tr>\n",
       "  </thead>\n",
       "  <tbody>\n",
       "    <tr>\n",
       "      <th>a</th>\n",
       "      <td>0</td>\n",
       "      <td>11</td>\n",
       "      <td>23</td>\n",
       "      <td>18</td>\n",
       "    </tr>\n",
       "    <tr>\n",
       "      <th>b</th>\n",
       "      <td>11</td>\n",
       "      <td>0</td>\n",
       "      <td>22</td>\n",
       "      <td>17</td>\n",
       "    </tr>\n",
       "    <tr>\n",
       "      <th>c</th>\n",
       "      <td>23</td>\n",
       "      <td>22</td>\n",
       "      <td>0</td>\n",
       "      <td>11</td>\n",
       "    </tr>\n",
       "    <tr>\n",
       "      <th>d</th>\n",
       "      <td>18</td>\n",
       "      <td>17</td>\n",
       "      <td>11</td>\n",
       "      <td>0</td>\n",
       "    </tr>\n",
       "  </tbody>\n",
       "</table>\n",
       "</div>"
      ],
      "text/plain": [
       "    a   b   c   d\n",
       "a   0  11  23  18\n",
       "b  11   0  22  17\n",
       "c  23  22   0  11\n",
       "d  18  17  11   0"
      ]
     },
     "execution_count": 62,
     "metadata": {},
     "output_type": "execute_result"
    }
   ],
   "source": [
    "mat= pd.DataFrame.from_dict(get_matrix(get_tree())) #convert to 2d matrix\n",
    "#visualize as n x n distance matrix         \n",
    "mat"
   ]
  },
  {
   "cell_type": "code",
   "execution_count": 63,
   "metadata": {},
   "outputs": [
    {
     "data": {
      "text/plain": [
       "'Additive'"
      ]
     },
     "execution_count": 63,
     "metadata": {},
     "output_type": "execute_result"
    }
   ],
   "source": [
    "#check if the matrix is additive using four point condition\n",
    "def is_additive(matrix, labels):\n",
    "    i = labels[0]\n",
    "    j = labels[1] \n",
    "    k = labels[2] \n",
    "    l = labels[3] \n",
    "    result = ''\n",
    "    if ((matrix[i][j] + matrix[k][l] <= matrix[i][k] + matrix[j][l]) and \n",
    "    (matrix[i][k] + matrix[j][l] == matrix[i][l] + matrix[j][k])):\n",
    "        result = \"Additive\"\n",
    "    else:\n",
    "        result = \"Not additive\"\n",
    "    return result \n",
    "\n",
    "labels = ['a','b','c','d']\n",
    "is_additive(mat, labels)"
   ]
  },
  {
   "cell_type": "code",
   "execution_count": null,
   "metadata": {
    "collapsed": true
   },
   "outputs": [],
   "source": []
  },
  {
   "cell_type": "markdown",
   "metadata": {},
   "source": [
    "## Neigbor join"
   ]
  },
  {
   "cell_type": "code",
   "execution_count": 64,
   "metadata": {},
   "outputs": [
    {
     "ename": "NameError",
     "evalue": "name 'dm' is not defined",
     "output_type": "error",
     "traceback": [
      "\u001b[1;31m---------------------------------------------------------------------------\u001b[0m",
      "\u001b[1;31mNameError\u001b[0m                                 Traceback (most recent call last)",
      "\u001b[1;32m<ipython-input-64-fa340be31ca9>\u001b[0m in \u001b[0;36m<module>\u001b[1;34m()\u001b[0m\n\u001b[0;32m      2\u001b[0m \u001b[1;32mimport\u001b[0m \u001b[0mcopy\u001b[0m\u001b[1;33m\u001b[0m\u001b[0m\n\u001b[0;32m      3\u001b[0m \u001b[0mclusters\u001b[0m \u001b[1;33m=\u001b[0m \u001b[1;33m[\u001b[0m\u001b[1;33m]\u001b[0m\u001b[1;33m\u001b[0m\u001b[0m\n\u001b[1;32m----> 4\u001b[1;33m \u001b[1;32mfor\u001b[0m \u001b[0mcluster\u001b[0m \u001b[1;32min\u001b[0m \u001b[0mlist\u001b[0m\u001b[1;33m(\u001b[0m\u001b[0mdm\u001b[0m\u001b[1;33m)\u001b[0m\u001b[1;33m:\u001b[0m\u001b[1;33m\u001b[0m\u001b[0m\n\u001b[0m\u001b[0;32m      5\u001b[0m     \u001b[0mclusters\u001b[0m\u001b[1;33m.\u001b[0m\u001b[0mappend\u001b[0m\u001b[1;33m(\u001b[0m\u001b[0mcluster\u001b[0m\u001b[1;33m)\u001b[0m\u001b[1;33m\u001b[0m\u001b[0m\n\u001b[0;32m      6\u001b[0m \u001b[0mcluster2idx\u001b[0m \u001b[1;33m=\u001b[0m \u001b[1;33m{\u001b[0m \u001b[0mname\u001b[0m \u001b[1;33m:\u001b[0m \u001b[0midx\u001b[0m \u001b[1;32mfor\u001b[0m \u001b[0midx\u001b[0m\u001b[1;33m,\u001b[0m \u001b[0mname\u001b[0m \u001b[1;32min\u001b[0m \u001b[0menumerate\u001b[0m\u001b[1;33m(\u001b[0m\u001b[0mclusters\u001b[0m\u001b[1;33m)\u001b[0m \u001b[1;33m}\u001b[0m\u001b[1;33m\u001b[0m\u001b[0m\n",
      "\u001b[1;31mNameError\u001b[0m: name 'dm' is not defined"
     ]
    }
   ],
   "source": [
    "from ete3 import Tree\n",
    "import copy\n",
    "clusters = []\n",
    "for cluster in list(dm):\n",
    "    clusters.append(cluster)\n",
    "cluster2idx = { name : idx for idx, name in enumerate(clusters) }\n",
    "idx2cluster = copy.deepcopy(clusters)\n",
    "m = copy.deepcopy(dm).to_dict()\n",
    "Z = np.empty((0,4), float)\n",
    "result = \"\"\n",
    "print(clusters)\n",
    "#membership = [set([cluster2idx[name]]) for name in clusters]"
   ]
  },
  {
   "cell_type": "code",
   "execution_count": 65,
   "metadata": {
    "collapsed": true
   },
   "outputs": [],
   "source": [
    "import copy\n",
    "def NJ(dm):\n",
    "    edge_list = []\n",
    "    clusters = []\n",
    "    for cluster in list(dm):\n",
    "        clusters.append(cluster)\n",
    "    cluster2idx = { name : idx for idx, name in enumerate(clusters) }\n",
    "    idx2cluster = copy.deepcopy(clusters)\n",
    "    m = copy.deepcopy(dm).to_dict()\n",
    "    result = \"\"\n",
    "    M, N = dm.shape\n",
    "    new_cluster_idx = M+1 \n",
    "    while len(clusters) > 1:\n",
    "        idx1 = None\n",
    "        idx2 = None\n",
    "        ui = 0\n",
    "        uj = 0\n",
    "        Sd = 100000\n",
    "        for i in clusters:\n",
    "            for j in clusters:\n",
    "                if i != j:\n",
    "                    ui_t = sum(m[i][k] for k in clusters)\n",
    "                    uj_t = sum(m[j][k] for k in clusters)\n",
    "                    curr = (M - 2) * m[i][j] - ui_t - uj_t\n",
    "                    if Sd > curr:\n",
    "                        Sd = curr\n",
    "                        idx1 = cluster2idx[i]\n",
    "                        idx2 = cluster2idx[j]\n",
    "                        ui = ui_t\n",
    "                        uj = uj_t\n",
    "\n",
    "        Dij = m[idx2cluster[idx1]][idx2cluster[idx2]]\n",
    "        new_cluster = \"(\" + idx2cluster[idx1] +\".\" + idx2cluster[idx2] + \")\"\n",
    "        result = new_cluster\n",
    "        m[new_cluster] = {}\n",
    "        new_cluster_idx += 1\n",
    "\n",
    "        if M - 2 != 0:            \n",
    "            m[idx2cluster[idx1]][new_cluster] = (float(m[idx2cluster[idx1]][idx2cluster[idx2]]) + (1/(M-2)) * (ui - uj))/2\n",
    "            m[idx2cluster[idx2]][new_cluster] = (float(m[idx2cluster[idx1]][idx2cluster[idx2]]) + (1/(M-2)) * (uj - ui))/2\n",
    "            edge_list.append((new_cluster, idx2cluster[idx1], m[idx2cluster[idx1]][new_cluster]))\n",
    "            edge_list.append((new_cluster, idx2cluster[idx2], m[idx2cluster[idx2]][new_cluster]))\n",
    "        else:\n",
    "            edge_list.append((idx2cluster[idx1], idx2cluster[idx2], m[idx2cluster[idx1]][idx2cluster[idx2]]))\n",
    "\n",
    "        clusters.remove(idx2cluster[idx1])\n",
    "        clusters.remove(idx2cluster[idx2])\n",
    "\n",
    "        m[new_cluster][new_cluster] = 0\n",
    "        for c in clusters:\n",
    "            m[c][new_cluster] = (m[c][idx2cluster[idx1]] + m[c][idx2cluster[idx2]] - Dij)/2\n",
    "            m[new_cluster][c] = m[c][new_cluster]\n",
    "#             try:\n",
    "#                 T[c][new_cluster] = {new_cluster:(m[c][idx2cluster[idx1]] + m[c][idx2cluster[idx2]] - Dij)/2}\n",
    "#             except:\n",
    "#                 T[c] = {}\n",
    "#                 T[c][new_cluster] = {idx2cluster:(m[c][idx2cluster[idx1]] + m[c][idx2cluster[idx2]] - Dij)/2}\n",
    "            for k in list(m[c].keys()):\n",
    "                if k == idx2cluster[idx1] or k == idx2cluster[idx2]:\n",
    "                    del m[c][k]\n",
    "\n",
    "        del cluster2idx[idx2cluster[idx1]]\n",
    "        del cluster2idx[idx2cluster[idx2]]\n",
    "        if idx2cluster[idx1] in m: del m[idx2cluster[idx1]]\n",
    "        if idx2cluster[idx2] in m: del m[idx2cluster[idx2]]\n",
    "\n",
    "        clusters.append(new_cluster)\n",
    "        cluster2idx[new_cluster] = len(idx2cluster)\n",
    "        idx2cluster.append(new_cluster)\n",
    "        #print(\"current tree\", T)\n",
    "        #print(\"current matrix\", m)\n",
    "        M -= 1\n",
    "        N -= 1\n",
    "    return result, edge_list"
   ]
  },
  {
   "cell_type": "code",
   "execution_count": 66,
   "metadata": {},
   "outputs": [
    {
     "name": "stdout",
     "output_type": "stream",
     "text": [
      "\n",
      "   /-A\n",
      "  |\n",
      "--|--B\n",
      "  |\n",
      "  |   /-C\n",
      "   \\-|\n",
      "      \\-D\n",
      "(A:3,B:1,(C:5,D:4)1:2);\n"
     ]
    }
   ],
   "source": [
    "import ete3\n",
    "from ete3 import Tree\n",
    "tree = {'A': {'A': 0, 'B': 6, 'C': 6, 'D': 8},\n",
    " 'B': {'A': 6, 'B': 0, 'C': 8, 'D': 2},\n",
    " 'C': {'A': 6, 'B': 8, 'C': 0, 'D': 10},\n",
    " 'D': {'A': 8, 'B': 2, 'C': 10, 'D': 0}}\n",
    "dm1 = pd.DataFrame.from_dict(tree)\n",
    "dm1['A']['B'] = 4\n",
    "dm1['B']['A'] = 4\n",
    "dm1['A']['C'] = 10\n",
    "dm1['C']['A'] = 10\n",
    "dm1['A']['D'] = 9\n",
    "dm1['D']['A'] = 9\n",
    "dm1['B']['C'] = 8\n",
    "dm1['C']['B'] = 8\n",
    "dm1['B']['D'] = 7\n",
    "dm1['D']['B'] = 7\n",
    "dm1['C']['D'] = 9\n",
    "dm1['D']['C'] = 9\n",
    "nj_result1, nj_list1 = NJ(dm1)\n",
    "ete_nj_tree = Tree.from_parent_child_table(nj_list1)\n",
    "print(ete_nj_tree)\n",
    "print(ete_nj_tree.write())"
   ]
  },
  {
   "cell_type": "code",
   "execution_count": null,
   "metadata": {
    "collapsed": true
   },
   "outputs": [],
   "source": []
  },
  {
   "cell_type": "code",
   "execution_count": 67,
   "metadata": {
    "collapsed": true
   },
   "outputs": [],
   "source": [
    "def check_and_find_degenerate(D, cols):\n",
    "    triplets = permutations(D.index,3)\n",
    "    for triplet in triplets:\n",
    "        i,j,k = triplet\n",
    "        if D[i][j] + D[j][k] == D[i][k]:\n",
    "            return i,j,k, True\n",
    "        \n",
    "    return -1,-1,-1, False\n",
    "    \n",
    "def compute_trimming_param(D,cols):\n",
    "    triplets = permutations(D.index,3)\n",
    "    min_delta = float('inf')\n",
    "    best_i,best_j,best_k = -1,-1,-1\n",
    "    for triplet in triplets:\n",
    "        i,j,k = triplet\n",
    "        delta = (D[i][j] + D[j][k] - D[i][k])/2\n",
    "        if delta > 0 and delta < min_delta:\n",
    "            min_delta = delta\n",
    "            best_i,best_j,best_k = i,j,k\n",
    "            \n",
    "    return min_delta, best_i,best_j,best_k\n",
    "\n",
    "def Trim(D, delta):\n",
    "    D = D - (2*delta)\n",
    "    for i in D.index:\n",
    "        D[i][i] = 0\n",
    "    return D\n",
    "\n",
    "def additive_phylogeny(D, v, cols):\n",
    "    if D.shape == (2,2):\n",
    "        T = {D.index[0] : {D.index[1]: D[D.index[0]][D.index[1]]}, \n",
    "             D.index[1] : {D.index[0]: D[D.index[1]][D.index[0]]}}\n",
    "        return T\n",
    "    i,j,k,flag = check_and_find_degenerate(D, cols)\n",
    "    if not flag:\n",
    "        delta,best_i,best_j,best_k = compute_trimming_param(D, cols)\n",
    "        i,j,k = best_i,best_j,best_k\n",
    "        D = Trim(D, delta)\n",
    "    else:\n",
    "        delta = 0\n",
    "    #print(flag)\n",
    "    x = D[i][j]\n",
    "    D = D.drop([j])\n",
    "    D = D.drop(j, axis=1)\n",
    "    T = additive_phylogeny(D, v+1, cols)\n",
    "    T[v] = {i:x}\n",
    "    T[i] = {v:x}\n",
    "    #print(T)\n",
    "    if v + 1 in T:\n",
    "        del T[v+1][i]\n",
    "        \n",
    "        leftover = 0\n",
    "        curr_v = v\n",
    "        while k not in T[curr_v].keys():\n",
    "            curr_v += 1\n",
    "        final_v = curr_v\n",
    "        curr_v = v\n",
    "        leftover = 0\n",
    "        while curr_v+2 < final_v:\n",
    "            leftover += T[curr_v+1][curr_v+2]\n",
    "            curr_v += 1\n",
    "        leftover += T[final_v][k]\n",
    "        T[v][v+1] = D[i][k]-x-leftover\n",
    "        T[v+1][v] = D[i][k]-x-leftover\n",
    "    else:\n",
    "        T[v][k] = D[i][k]-x\n",
    "        T[k] = {v:D[i][k]-x}\n",
    "    \n",
    "    T[v][j] = 0\n",
    "    T[j] = {v:0}\n",
    "    for l in T:\n",
    "        if l in D.index and j in D.index and T[l][v] != D[l][j]:\n",
    "            print('Matrix not additive')\n",
    "            return\n",
    "    for v in T:\n",
    "        for l in cols:\n",
    "            if l in T[v] and type(v) == int:\n",
    "                T[l][v] =  T[l][v] + (delta)\n",
    "                T[v][l] =  T[v][l] + (delta)\n",
    "            \n",
    "    return T\n",
    "\n",
    "def degen_triples(D):\n",
    "    cols = ''\n",
    "    for i in D.index:\n",
    "        cols += i\n",
    "    \n",
    "    return additive_phylogeny(D, 0, cols)\n",
    "\n",
    "def create_edge_list(T):\n",
    "    edge_list = []\n",
    "    for v1 in T:\n",
    "        for v2 in T[v1]:\n",
    "            if type(v1) == int and (v1,v2,T[v1][v2]) not in edge_list and (v2,v1,T[v2][v1]) not in edge_list:\n",
    "                edge_list.append((v1,v2, T[v1][v2]))\n",
    "    return edge_list\n"
   ]
  },
  {
   "cell_type": "code",
   "execution_count": 68,
   "metadata": {
    "collapsed": true
   },
   "outputs": [],
   "source": [
    "def check_matrix(newick_string, original_matrix):\n",
    "    import pandas as pd\n",
    "    import itertools\n",
    "    from Bio import Phylo\n",
    "    import io\n",
    "    \n",
    "    treedata = newick_string\n",
    "    handle = io.StringIO(treedata)\n",
    "    t = Phylo.read(handle, \"newick\")\n",
    "    d = {}\n",
    "    for x, y in itertools.combinations(t.get_terminals(), 2):\n",
    "        v = t.distance(x, y)\n",
    "        d[x.name] = d.get(x.name, {})\n",
    "        d[x.name][y.name] = v\n",
    "        d[y.name] = d.get(y.name, {})\n",
    "        d[y.name][x.name] = v\n",
    "    for x in t.get_terminals():\n",
    "        d[x.name][x.name] = 0\n",
    "\n",
    "    m = pd.DataFrame(d)\n",
    "    return m == original_matrix"
   ]
  },
  {
   "cell_type": "code",
   "execution_count": 69,
   "metadata": {
    "collapsed": true
   },
   "outputs": [],
   "source": [
    "not_additive_tree = {'A': {'A': 0, 'B': 6, 'C': 6, 'D': 8},\n",
    "                    'B': {'A': 6, 'B': 0, 'C': 8, 'D': 2},\n",
    "                    'C': {'A': 6, 'B': 8, 'C': 0, 'D': 10},\n",
    "                    'D': {'A': 8, 'B': 2, 'C': 10, 'D': 0}}\n",
    "not_additive_matrix = pd.DataFrame.from_dict(not_additive_tree)\n",
    "\n",
    "additive_tree1 = {'A': {'A': 0, 'B': 4, 'C': 10, 'D': 9},\n",
    "                    'B': {'A': 4, 'B': 0, 'C': 8, 'D': 7},\n",
    "                    'C': {'A': 10, 'B': 8, 'C': 0, 'D': 9},\n",
    "                    'D': {'A': 9, 'B': 7, 'C': 9, 'D': 0}}\n",
    "additive_matrix1 = pd.DataFrame.from_dict(additive_tree1)\n",
    "\n",
    "big_tree = {'A': {'A': 0, 'B': 3, 'C': 7, 'D': 9, 'E': 2},\n",
    "        'B': {'A': 3, 'B': 0, 'C': 6, 'D': 8, 'E': 1},\n",
    "        'C': {'A': 7, 'B': 6, 'C': 0, 'D': 6, 'E': 5},\n",
    "        'D': {'A': 9, 'B': 8, 'C': 6, 'D': 0, 'E': 7},\n",
    "        'E': {'A': 2, 'B': 1, 'C': 5, 'D': 7, 'E': 0}}\n",
    "big_dm = pd.DataFrame.from_dict(big_tree)\n",
    "\n",
    "big_tree2 = {'A': {'A': 0, 'B': 10, 'C': 17, 'D': 16, 'E': 16},\n",
    "             'B': {'A': 10, 'B': 0, 'C': 15, 'D': 14, 'E': 14},\n",
    "             'C': {'A': 17, 'B': 15, 'C': 0, 'D': 9, 'E': 15},\n",
    "             'D': {'A': 16, 'B': 14, 'C': 9, 'D': 0, 'E': 14},\n",
    "             'E': {'A': 16, 'B': 14, 'C': 15, 'D': 14, 'E': 0}}\n",
    "\n",
    "big_dm2 = pd.DataFrame.from_dict(big_tree2)\n"
   ]
  },
  {
   "cell_type": "code",
   "execution_count": 71,
   "metadata": {},
   "outputs": [
    {
     "name": "stdout",
     "output_type": "stream",
     "text": [
      "    a   b   c   d\n",
      "a   0   8  12  10\n",
      "b   8   0  14  12\n",
      "c  12  14   0   8\n",
      "d  10  12   8   0\n",
      "\n",
      "   /-b\n",
      "  |\n",
      "--|--c\n",
      "  |\n",
      "  |   /-a\n",
      "   \\-|\n",
      "      \\-d\n",
      "(b:5,c:9,(a:7,d:3)1:-4);\n",
      "\n",
      "   /-a\n",
      "  |\n",
      "--|--b\n",
      "  |\n",
      "  |   /-c\n",
      "   \\-|\n",
      "      \\-d\n",
      "(a:3,b:5,(c:5,d:3)1:4);\n",
      "      a      b     c      d\n",
      "a  True   True  True   True\n",
      "b  True   True  True  False\n",
      "c  True   True  True   True\n",
      "d  True  False  True   True\n",
      "      a     b     c     d\n",
      "a  True  True  True  True\n",
      "b  True  True  True  True\n",
      "c  True  True  True  True\n",
      "d  True  True  True  True\n",
      "distance: 2\n"
     ]
    }
   ],
   "source": [
    "from ete3 import Tree\n",
    "mat = pd.DataFrame.from_dict(get_matrix(get_tree()))\n",
    "T = degen_triples(mat)\n",
    "print(mat)\n",
    "ete_dt_tree = Tree.from_parent_child_table(create_edge_list(T))\n",
    "print(ete_dt_tree)\n",
    "print(ete_dt_tree.write())\n",
    "nj_result, nj_list = NJ(mat)\n",
    "ete_nj_tree = Tree.from_parent_child_table(nj_list)\n",
    "print(ete_nj_tree)\n",
    "print(ete_nj_tree.write())\n",
    "print(check_matrix(ete_dt_tree.write(), mat))\n",
    "print(check_matrix(ete_nj_tree.write(), mat))\n",
    "print('distance: ' + str(ete_dt_tree.robinson_foulds(ete_nj_tree,unrooted_trees=True)[0]))\n",
    "#ete_nj_tree.show()"
   ]
  },
  {
   "cell_type": "code",
   "execution_count": 72,
   "metadata": {
    "collapsed": true
   },
   "outputs": [],
   "source": [
    "def is_additive_matrix(mat):\n",
    "    cols = ''\n",
    "    for i in mat.index:\n",
    "        cols += i\n",
    "    labels = permutations(cols,4)\n",
    "    check = []\n",
    "    for combs in labels:\n",
    "        new_label = []\n",
    "        for item in combs:\n",
    "            new_label.append(item)\n",
    "        check.append(is_additive(mat, new_label))\n",
    "        if is_additive(mat, new_label) == 'Not additive':\n",
    "            print('fml', new_label)\n",
    "        else:\n",
    "            print('ok', new_label)\n",
    "    print(check)"
   ]
  },
  {
   "cell_type": "code",
   "execution_count": 73,
   "metadata": {
    "collapsed": true
   },
   "outputs": [],
   "source": [
    "mat = get_matrix(get_tree())\n",
    "mat = pd.DataFrame.from_dict(big_tree)"
   ]
  },
  {
   "cell_type": "code",
   "execution_count": 74,
   "metadata": {},
   "outputs": [
    {
     "data": {
      "text/plain": [
       "True"
      ]
     },
     "execution_count": 74,
     "metadata": {},
     "output_type": "execute_result"
    }
   ],
   "source": [
    "from phylogeny import DistanceMatrix\n",
    "d = DistanceMatrix(mat, names=('A', 'B', 'C', 'D', 'E'))\n",
    "d.is_additive()"
   ]
  },
  {
   "cell_type": "code",
   "execution_count": 75,
   "metadata": {
    "collapsed": true
   },
   "outputs": [],
   "source": [
    "\n",
    "big_tree2 = {'A': {'A': 0, 'B': 10, 'C': 17, 'D': 16, 'E': 16},\n",
    "             'B': {'A': 10, 'B': 0, 'C': 15, 'D': 14, 'E': 14},\n",
    "             'C': {'A': 17, 'B': 15, 'C': 0, 'D': 9, 'E': 15},\n",
    "             'D': {'A': 16, 'B': 14, 'C': 9, 'D': 0, 'E': 14},\n",
    "             'E': {'A': 16, 'B': 14, 'C': 15, 'D': 14, 'E': 0}}"
   ]
  },
  {
   "cell_type": "code",
   "execution_count": 76,
   "metadata": {
    "collapsed": true
   },
   "outputs": [],
   "source": [
    "import phylogeny"
   ]
  },
  {
   "cell_type": "code",
   "execution_count": 77,
   "metadata": {
    "collapsed": true
   },
   "outputs": [],
   "source": [
    "mat = get_matrix(get_tree())\n",
    "mat = pd.DataFrame.from_dict(big_tree)"
   ]
  },
  {
   "cell_type": "code",
   "execution_count": 78,
   "metadata": {
    "collapsed": true
   },
   "outputs": [],
   "source": [
    "def additive_phylogeny(D, v, cols):\n",
    "    if D.shape == (2,2):\n",
    "        T = {D.index[0] : {D.index[1]: D[D.index[0]][D.index[1]]}, \n",
    "             D.index[1] : {D.index[0]: D[D.index[1]][D.index[0]]}}\n",
    "        return T\n",
    "    i,j,k,flag = check_and_find_degenerate(D, cols)\n",
    "    if not flag:\n",
    "        delta,best_i,best_j,best_k = compute_trimming_param(D, cols)\n",
    "        i,j,k = best_i,best_j,best_k\n",
    "        print(D)\n",
    "        D = Trim(D, delta)\n",
    "        print(D)\n",
    "        print(i,j,k)\n",
    "    else:\n",
    "        delta = 0\n",
    "    #print(flag)\n",
    "    print(D[i][j], D[j][k], D[i][k])\n",
    "    x = D[i][j]\n",
    "    D = D.drop([j])\n",
    "    D = D.drop(j, axis=1)\n",
    "    T = additive_phylogeny(D, v+1, cols)\n",
    "    #print('way befoer', T)\n",
    "    #print(v)\n",
    "    #print(i,j,k,x)\n",
    "    T[v] = {i:x}\n",
    "    T[i] = {v:x}\n",
    "    print(T)\n",
    "    if v + 1 in T:\n",
    "        del T[v+1][i]\n",
    "        \n",
    "        leftover = 0\n",
    "        curr_v = v\n",
    "        while k not in T[curr_v].keys():\n",
    "            curr_v += 1\n",
    "        final_v = curr_v\n",
    "        curr_v = v\n",
    "        leftover = 0\n",
    "        while curr_v+2 < final_v:\n",
    "            leftover += T[curr_v+1][curr_v+2]\n",
    "            curr_v += 1\n",
    "        leftover += T[final_v][k]\n",
    "        #print('yes baby', D[i][k], x, leftover)\n",
    "        T[v][v+1] = D[i][k]-x-leftover\n",
    "        T[v+1][v] = D[i][k]-x-leftover\n",
    "    else:\n",
    "        T[v][k] = D[i][k]-x\n",
    "        T[k] = {v:D[i][k]-x}\n",
    "    \n",
    "    T[v][j] = 0\n",
    "    T[j] = {v:0}\n",
    "    for l in T:\n",
    "        if l in D.index and j in D.index and T[l][v] != D[l][j]:\n",
    "            print('Matrix not additive')\n",
    "            return\n",
    "    for v in T:\n",
    "        for l in cols:\n",
    "            if l in T[v] and type(v) == int:\n",
    "                T[l][v] =  T[l][v] + (delta)\n",
    "                T[v][l] =  T[v][l] + (delta)\n",
    "            \n",
    "    return T\n",
    "\n",
    "def degen_triples(D):\n",
    "    cols = ''\n",
    "    for i in D.index:\n",
    "        cols += i\n",
    "    \n",
    "    return additive_phylogeny(D, 0, cols)"
   ]
  },
  {
   "cell_type": "code",
   "execution_count": 79,
   "metadata": {},
   "outputs": [
    {
     "name": "stdout",
     "output_type": "stream",
     "text": [
      "2 1 3\n",
      "   A  B  C  D\n",
      "A  0  3  7  9\n",
      "B  3  0  6  8\n",
      "C  7  6  0  6\n",
      "D  9  8  6  0\n",
      "     A    B    C    D\n",
      "A  0.0  1.0  5.0  7.0\n",
      "B  1.0  0.0  4.0  6.0\n",
      "C  5.0  4.0  0.0  4.0\n",
      "D  7.0  6.0  4.0  0.0\n",
      "A B C\n",
      "1.0 4.0 5.0\n",
      "     A    C    D\n",
      "A  0.0  5.0  7.0\n",
      "C  5.0  0.0  4.0\n",
      "D  7.0  4.0  0.0\n",
      "     A    C    D\n",
      "A  0.0  3.0  5.0\n",
      "C  3.0  0.0  2.0\n",
      "D  5.0  2.0  0.0\n",
      "A C D\n",
      "3.0 2.0 5.0\n",
      "{'A': {2: 3.0}, 'D': {'A': 5.0}, 2: {'A': 3.0}}\n",
      "{'A': {1: 1.0}, 'D': {2: 3.0}, 2: {'A': 4.0, 'D': 3.0, 'C': 1.0}, 'C': {2: 1.0}, 1: {'A': 1.0}}\n",
      "{'A': {0: 2}, 'D': {2: 4.0}, 2: {'D': 4.0, 'C': 2.0, 1: 3.0}, 'C': {2: 2.0}, 1: {'A': 2.0, 2: 3.0, 'B': 1.0}, 'B': {1: 1.0}, 0: {'A': 2}}\n"
     ]
    },
    {
     "data": {
      "text/plain": [
       "{'A': {0: 2},\n",
       " 'D': {2: 4.0},\n",
       " 2: {'D': 4.0, 'C': 2.0, 1: 3.0},\n",
       " 'C': {2: 2.0},\n",
       " 1: {2: 3.0, 'B': 1.0, 0: 0.0},\n",
       " 'B': {1: 1.0},\n",
       " 0: {'A': 2, 1: 0.0, 'E': 0},\n",
       " 'E': {0: 0}}"
      ]
     },
     "execution_count": 79,
     "metadata": {},
     "output_type": "execute_result"
    }
   ],
   "source": [
    "#ete_dt_tree = Tree.from_parent_child_table(create_edge_list(degen_triples(mat)))\n",
    "T = degen_triples(mat)\n",
    "#nj_result, nj_list = NJ(mat)\n",
    "#ete_nj_tree = Tree.from_parent_child_table(nj_list)\n",
    "#print(ete_nj_tree)\n",
    "#print(ete_nj_tree.write())\n",
    "#ete_nj_tree.show()\n",
    "T"
   ]
  },
  {
   "cell_type": "code",
   "execution_count": 80,
   "metadata": {},
   "outputs": [
    {
     "name": "stdout",
     "output_type": "stream",
     "text": [
      "\n",
      "   /-b\n",
      "  |\n",
      "--|--c\n",
      "  |\n",
      "  |   /-a\n",
      "   \\-|\n",
      "      \\-d\n",
      "(b:5,c:9,(a:7,d:3)1:-4);\n"
     ]
    }
   ],
   "source": [
    "print(ete_dt_tree)\n",
    "print(ete_dt_tree.write())"
   ]
  },
  {
   "cell_type": "code",
   "execution_count": 81,
   "metadata": {},
   "outputs": [
    {
     "ename": "IndexError",
     "evalue": "tuple index out of range",
     "output_type": "error",
     "traceback": [
      "\u001b[1;31m---------------------------------------------------------------------------\u001b[0m",
      "\u001b[1;31mIndexError\u001b[0m                                Traceback (most recent call last)",
      "\u001b[1;32m<ipython-input-81-7052d494ddfe>\u001b[0m in \u001b[0;36m<module>\u001b[1;34m()\u001b[0m\n\u001b[0;32m      1\u001b[0m \u001b[1;32mfrom\u001b[0m \u001b[0mphylogeny\u001b[0m\u001b[1;33m.\u001b[0m\u001b[0mreconstruction\u001b[0m \u001b[1;32mimport\u001b[0m \u001b[0mall_quartets_method\u001b[0m\u001b[1;33m\u001b[0m\u001b[0m\n\u001b[1;32m----> 2\u001b[1;33m \u001b[0mt\u001b[0m \u001b[1;33m=\u001b[0m \u001b[0mall_quartets_method\u001b[0m\u001b[1;33m(\u001b[0m\u001b[0mDistanceMatrix\u001b[0m\u001b[1;33m(\u001b[0m\u001b[0mmat\u001b[0m\u001b[1;33m,\u001b[0m \u001b[0mnames\u001b[0m\u001b[1;33m=\u001b[0m\u001b[1;33m(\u001b[0m\u001b[1;34m'A'\u001b[0m\u001b[1;33m,\u001b[0m \u001b[1;34m'B'\u001b[0m\u001b[1;33m,\u001b[0m \u001b[1;34m'C'\u001b[0m\u001b[1;33m,\u001b[0m \u001b[1;34m'D'\u001b[0m\u001b[1;33m)\u001b[0m\u001b[1;33m)\u001b[0m\u001b[1;33m)\u001b[0m\u001b[1;33m\u001b[0m\u001b[0m\n\u001b[0m\u001b[0;32m      3\u001b[0m \u001b[0mprint\u001b[0m\u001b[1;33m(\u001b[0m\u001b[0mt\u001b[0m\u001b[1;33m)\u001b[0m\u001b[1;33m\u001b[0m\u001b[0m\n\u001b[0;32m      4\u001b[0m \u001b[0mprint\u001b[0m\u001b[1;33m(\u001b[0m\u001b[0mt\u001b[0m\u001b[1;33m.\u001b[0m\u001b[0mwrite\u001b[0m\u001b[1;33m(\u001b[0m\u001b[1;33m)\u001b[0m\u001b[1;33m)\u001b[0m\u001b[1;33m\u001b[0m\u001b[0m\n\u001b[0;32m      5\u001b[0m \u001b[0mmat\u001b[0m\u001b[1;33m\u001b[0m\u001b[0m\n",
      "\u001b[1;32m~\\Anaconda3\\lib\\site-packages\\phylogeny\\reconstruction\\allquartets.py\u001b[0m in \u001b[0;36mall_quartets_method\u001b[1;34m(dist_matrix, names)\u001b[0m\n\u001b[0;32m    138\u001b[0m         \u001b[1;32mexcept\u001b[0m \u001b[0mAttributeError\u001b[0m\u001b[1;33m:\u001b[0m\u001b[1;33m\u001b[0m\u001b[0m\n\u001b[0;32m    139\u001b[0m             \u001b[1;32mpass\u001b[0m\u001b[1;33m\u001b[0m\u001b[0m\n\u001b[1;32m--> 140\u001b[1;33m     \u001b[0mquartets\u001b[0m \u001b[1;33m=\u001b[0m \u001b[0mall_quartets\u001b[0m\u001b[1;33m(\u001b[0m\u001b[0mdist_matrix\u001b[0m\u001b[1;33m,\u001b[0m \u001b[0mnames\u001b[0m\u001b[1;33m)\u001b[0m\u001b[1;33m\u001b[0m\u001b[0m\n\u001b[0m\u001b[0;32m    141\u001b[0m     \u001b[1;32mreturn\u001b[0m \u001b[0mtree_from_quartets\u001b[0m\u001b[1;33m(\u001b[0m\u001b[0mquartets\u001b[0m\u001b[1;33m)\u001b[0m\u001b[1;33m\u001b[0m\u001b[0m\n\u001b[0;32m    142\u001b[0m \u001b[1;31m# ---\u001b[0m\u001b[1;33m\u001b[0m\u001b[1;33m\u001b[0m\u001b[0m\n",
      "\u001b[1;32m~\\Anaconda3\\lib\\site-packages\\phylogeny\\reconstruction\\allquartets.py\u001b[0m in \u001b[0;36mall_quartets\u001b[1;34m(dist_matrix, names)\u001b[0m\n\u001b[0;32m     85\u001b[0m     return [map_names_to_quartet(induced_quartet(dist_matrix,q), \n\u001b[0;32m     86\u001b[0m                                  names)\n\u001b[1;32m---> 87\u001b[1;33m              for q in quartets]\n\u001b[0m\u001b[0;32m     88\u001b[0m \u001b[1;31m# ---\u001b[0m\u001b[1;33m\u001b[0m\u001b[1;33m\u001b[0m\u001b[0m\n\u001b[0;32m     89\u001b[0m \u001b[1;33m\u001b[0m\u001b[0m\n",
      "\u001b[1;32m~\\Anaconda3\\lib\\site-packages\\phylogeny\\reconstruction\\allquartets.py\u001b[0m in \u001b[0;36m<listcomp>\u001b[1;34m(.0)\u001b[0m\n\u001b[0;32m     85\u001b[0m     return [map_names_to_quartet(induced_quartet(dist_matrix,q), \n\u001b[0;32m     86\u001b[0m                                  names)\n\u001b[1;32m---> 87\u001b[1;33m              for q in quartets]\n\u001b[0m\u001b[0;32m     88\u001b[0m \u001b[1;31m# ---\u001b[0m\u001b[1;33m\u001b[0m\u001b[1;33m\u001b[0m\u001b[0m\n\u001b[0;32m     89\u001b[0m \u001b[1;33m\u001b[0m\u001b[0m\n",
      "\u001b[1;32m~\\Anaconda3\\lib\\site-packages\\phylogeny\\reconstruction\\allquartets.py\u001b[0m in \u001b[0;36mmap_names_to_quartet\u001b[1;34m(quartet, names)\u001b[0m\n\u001b[0;32m     38\u001b[0m     \u001b[1;32mif\u001b[0m \u001b[0mnames\u001b[0m\u001b[1;33m:\u001b[0m\u001b[1;33m\u001b[0m\u001b[0m\n\u001b[0;32m     39\u001b[0m         \u001b[1;33m(\u001b[0m\u001b[1;33m(\u001b[0m\u001b[0ma\u001b[0m\u001b[1;33m,\u001b[0m\u001b[0mb\u001b[0m\u001b[1;33m)\u001b[0m\u001b[1;33m,\u001b[0m\u001b[1;33m(\u001b[0m\u001b[0mc\u001b[0m\u001b[1;33m,\u001b[0m\u001b[0md\u001b[0m\u001b[1;33m)\u001b[0m\u001b[1;33m)\u001b[0m \u001b[1;33m=\u001b[0m \u001b[0mquartet\u001b[0m\u001b[1;33m\u001b[0m\u001b[0m\n\u001b[1;32m---> 40\u001b[1;33m         \u001b[1;32mreturn\u001b[0m \u001b[1;33m(\u001b[0m\u001b[1;33m(\u001b[0m\u001b[0mnames\u001b[0m\u001b[1;33m[\u001b[0m\u001b[0ma\u001b[0m\u001b[1;33m]\u001b[0m\u001b[1;33m,\u001b[0m\u001b[0mnames\u001b[0m\u001b[1;33m[\u001b[0m\u001b[0mb\u001b[0m\u001b[1;33m]\u001b[0m\u001b[1;33m)\u001b[0m\u001b[1;33m,\u001b[0m \u001b[1;33m(\u001b[0m\u001b[0mnames\u001b[0m\u001b[1;33m[\u001b[0m\u001b[0mc\u001b[0m\u001b[1;33m]\u001b[0m\u001b[1;33m,\u001b[0m\u001b[0mnames\u001b[0m\u001b[1;33m[\u001b[0m\u001b[0md\u001b[0m\u001b[1;33m]\u001b[0m\u001b[1;33m)\u001b[0m\u001b[1;33m)\u001b[0m\u001b[1;33m\u001b[0m\u001b[0m\n\u001b[0m\u001b[0;32m     41\u001b[0m     \u001b[1;32melse\u001b[0m\u001b[1;33m:\u001b[0m\u001b[1;33m\u001b[0m\u001b[0m\n\u001b[0;32m     42\u001b[0m         \u001b[1;32mreturn\u001b[0m \u001b[0mquartet\u001b[0m\u001b[1;33m\u001b[0m\u001b[0m\n",
      "\u001b[1;31mIndexError\u001b[0m: tuple index out of range"
     ]
    }
   ],
   "source": [
    "from phylogeny.reconstruction import all_quartets_method\n",
    "t = all_quartets_method(DistanceMatrix(mat, names=('A', 'B', 'C', 'D')))\n",
    "print(t)\n",
    "print(t.write())\n",
    "mat"
   ]
  },
  {
   "cell_type": "markdown",
   "metadata": {},
   "source": [
    "## Runtime"
   ]
  },
  {
   "cell_type": "code",
   "execution_count": 93,
   "metadata": {},
   "outputs": [
    {
     "name": "stdout",
     "output_type": "stream",
     "text": [
      "    a   b   c   d\n",
      "a   0  13  15   7\n",
      "b  13   0  18  10\n",
      "c  15  18   0  10\n",
      "d   7  10  10   0\n",
      "      a     b     c    d\n",
      "a   0.0  11.0  13.0  5.0\n",
      "b  11.0   0.0  16.0  8.0\n",
      "c  13.0  16.0   0.0  8.0\n",
      "d   5.0   8.0   8.0  0.0\n",
      "a d c\n",
      "5.0 8.0 13.0\n",
      "      a     b     c\n",
      "a   0.0  11.0  13.0\n",
      "b  11.0   0.0  16.0\n",
      "c  13.0  16.0   0.0\n",
      "     a    b    c\n",
      "a  0.0  3.0  5.0\n",
      "b  3.0  0.0  8.0\n",
      "c  5.0  8.0  0.0\n",
      "b a c\n",
      "3.0 5.0 8.0\n",
      "{'b': {1: 3.0}, 'c': {'b': 8.0}, 1: {'b': 3.0}}\n",
      "{'b': {1: 7.0}, 'c': {1: 9.0}, 1: {'b': 7.0, 'c': 9.0, 'a': 4.0}, 'a': {0: 5.0}, 0: {'a': 5.0}}\n",
      "    a   b   c   d\n",
      "a   0   6  12  12\n",
      "b   6   0  12  12\n",
      "c  12  12   0  10\n",
      "d  12  12  10   0\n",
      "     a    b    c    d\n",
      "a  0.0  0.0  6.0  6.0\n",
      "b  0.0  0.0  6.0  6.0\n",
      "c  6.0  6.0  0.0  4.0\n",
      "d  6.0  6.0  4.0  0.0\n",
      "a b c\n",
      "0.0 6.0 6.0\n",
      "     a    c    d\n",
      "a  0.0  6.0  6.0\n",
      "c  6.0  0.0  4.0\n",
      "d  6.0  4.0  0.0\n",
      "     a    c    d\n",
      "a  0.0  2.0  2.0\n",
      "c  2.0  0.0  0.0\n",
      "d  2.0  0.0  0.0\n",
      "a c d\n",
      "2.0 0.0 2.0\n",
      "{'a': {1: 2.0}, 'd': {'a': 2.0}, 1: {'a': 2.0}}\n",
      "{'a': {0: 0.0}, 'd': {1: 2.0}, 1: {'a': 4.0, 'd': 2.0, 'c': 2.0}, 'c': {1: 2.0}, 0: {'a': 0.0}}\n",
      "    a   b   c   d\n",
      "a   0   8  14  14\n",
      "b   8   0  14  14\n",
      "c  14  14   0  10\n",
      "d  14  14  10   0\n",
      "     a    b    c    d\n",
      "a  0.0  0.0  6.0  6.0\n",
      "b  0.0  0.0  6.0  6.0\n",
      "c  6.0  6.0  0.0  2.0\n",
      "d  6.0  6.0  2.0  0.0\n",
      "a b c\n",
      "0.0 6.0 6.0\n",
      "     a    c    d\n",
      "a  0.0  6.0  6.0\n",
      "c  6.0  0.0  2.0\n",
      "d  6.0  2.0  0.0\n",
      "     a    c    d\n",
      "a  0.0  4.0  4.0\n",
      "c  4.0  0.0  0.0\n",
      "d  4.0  0.0  0.0\n",
      "a c d\n",
      "4.0 0.0 4.0\n",
      "{'a': {1: 4.0}, 'd': {'a': 4.0}, 1: {'a': 4.0}}\n",
      "{'a': {0: 0.0}, 'd': {1: 1.0}, 1: {'a': 5.0, 'd': 1.0, 'c': 1.0}, 'c': {1: 1.0}, 0: {'a': 0.0}}\n",
      "    a   b   c   d\n",
      "a   0  16  19  17\n",
      "b  16   0  19  17\n",
      "c  19  19   0   6\n",
      "d  17  17   6   0\n",
      "      a     b     c     d\n",
      "a   0.0  12.0  15.0  13.0\n",
      "b  12.0   0.0  15.0  13.0\n",
      "c  15.0  15.0   0.0   2.0\n",
      "d  13.0  13.0   2.0   0.0\n",
      "a d c\n",
      "13.0 2.0 15.0\n",
      "      a     b     c\n",
      "a   0.0  12.0  15.0\n",
      "b  12.0   0.0  15.0\n",
      "c  15.0  15.0   0.0\n",
      "     a    b    c\n",
      "a  0.0  0.0  3.0\n",
      "b  0.0  0.0  3.0\n",
      "c  3.0  3.0  0.0\n",
      "a b c\n",
      "0.0 3.0 3.0\n",
      "{'a': {1: 0.0}, 'c': {'a': 3.0}, 1: {'a': 0.0}}\n",
      "{'a': {0: 13.0}, 'c': {1: 9.0}, 1: {'a': 6.0, 'c': 9.0, 'b': 6.0}, 'b': {1: 6.0}, 0: {'a': 13.0}}\n",
      "    a   b   c   d\n",
      "a   0  13  17  14\n",
      "b  13   0  20  17\n",
      "c  17  20   0  13\n",
      "d  14  17  13   0\n",
      "     a     b     c    d\n",
      "a  0.0   3.0   7.0  4.0\n",
      "b  3.0   0.0  10.0  7.0\n",
      "c  7.0  10.0   0.0  3.0\n",
      "d  4.0   7.0   3.0  0.0\n",
      "a d c\n",
      "4.0 3.0 7.0\n",
      "3.0 7.0 10.0\n",
      "{'b': {1: 3.0}, 'c': {'b': 10.0}, 1: {'b': 3.0}}\n",
      "{'b': {1: 3.0}, 'c': {1: 7.0}, 1: {'b': 3.0, 'c': 7.0, 'a': 0}, 'a': {0: 4.0}, 0: {'a': 4.0}}\n",
      "    a   b   c   d\n",
      "a   0   9  13  14\n",
      "b   9   0  16  17\n",
      "c  13  16   0   9\n",
      "d  14  17   9   0\n",
      "     a     b     c     d\n",
      "a  0.0   3.0   7.0   8.0\n",
      "b  3.0   0.0  10.0  11.0\n",
      "c  7.0  10.0   0.0   3.0\n",
      "d  8.0  11.0   3.0   0.0\n",
      "b a c\n",
      "3.0 7.0 10.0\n",
      "      b     c     d\n",
      "b   0.0  10.0  11.0\n",
      "c  10.0   0.0   3.0\n",
      "d  11.0   3.0   0.0\n",
      "     b    c    d\n",
      "b  0.0  8.0  9.0\n",
      "c  8.0  0.0  1.0\n",
      "d  9.0  1.0  0.0\n",
      "b c d\n",
      "8.0 1.0 9.0\n",
      "{'b': {1: 8.0}, 'd': {'b': 9.0}, 1: {'b': 8.0}}\n",
      "{'b': {0: 3.0}, 'd': {1: 2.0}, 1: {'b': 9.0, 'd': 2.0, 'c': 1.0}, 'c': {1: 1.0}, 0: {'b': 3.0}}\n",
      "    a   b   c   d\n",
      "a   0  12  20  21\n",
      "b  12   0  16  17\n",
      "c  20  16   0  13\n",
      "d  21  17  13   0\n",
      "      a    b     c     d\n",
      "a   0.0  4.0  12.0  13.0\n",
      "b   4.0  0.0   8.0   9.0\n",
      "c  12.0  8.0   0.0   5.0\n",
      "d  13.0  9.0   5.0   0.0\n",
      "a b c\n",
      "4.0 8.0 12.0\n",
      "      a     c     d\n",
      "a   0.0  12.0  13.0\n",
      "c  12.0   0.0   5.0\n",
      "d  13.0   5.0   0.0\n",
      "     a    c    d\n",
      "a  0.0  8.0  9.0\n",
      "c  8.0  0.0  1.0\n",
      "d  9.0  1.0  0.0\n",
      "a c d\n",
      "8.0 1.0 9.0\n",
      "{'a': {1: 8.0}, 'd': {'a': 9.0}, 1: {'a': 8.0}}\n",
      "{'a': {0: 4.0}, 'd': {1: 3.0}, 1: {'a': 10.0, 'd': 3.0, 'c': 2.0}, 'c': {1: 2.0}, 0: {'a': 4.0}}\n",
      "    a   b   c   d\n",
      "a   0   7  22  22\n",
      "b   7   0  17  17\n",
      "c  22  17   0  18\n",
      "d  22  17  18   0\n",
      "      a     b     c     d\n",
      "a   0.0   5.0  20.0  20.0\n",
      "b   5.0   0.0  15.0  15.0\n",
      "c  20.0  15.0   0.0  16.0\n",
      "d  20.0  15.0  16.0   0.0\n",
      "a b c\n",
      "5.0 15.0 20.0\n",
      "      a     c     d\n",
      "a   0.0  20.0  20.0\n",
      "c  20.0   0.0  16.0\n",
      "d  20.0  16.0   0.0\n",
      "     a    c    d\n",
      "a  0.0  4.0  4.0\n",
      "c  4.0  0.0  0.0\n",
      "d  4.0  0.0  0.0\n",
      "a c d\n",
      "4.0 0.0 4.0\n",
      "{'a': {1: 4.0}, 'd': {'a': 4.0}, 1: {'a': 4.0}}\n",
      "{'a': {0: 5.0}, 'd': {1: 8.0}, 1: {'a': 12.0, 'd': 8.0, 'c': 8.0}, 'c': {1: 8.0}, 0: {'a': 5.0}}\n",
      "    a   b   c   d\n",
      "a   0  13  17  22\n",
      "b  13   0  14  19\n",
      "c  17  14   0   7\n",
      "d  22  19   7   0\n",
      "      a     b     c     d\n",
      "a   0.0  11.0  15.0  20.0\n",
      "b  11.0   0.0  12.0  17.0\n",
      "c  15.0  12.0   0.0   5.0\n",
      "d  20.0  17.0   5.0   0.0\n",
      "a c d\n",
      "15.0 5.0 20.0\n",
      "      a     b     d\n",
      "a   0.0  11.0  20.0\n",
      "b  11.0   0.0  17.0\n",
      "d  20.0  17.0   0.0\n",
      "      a    b     d\n",
      "a   0.0  3.0  12.0\n",
      "b   3.0  0.0   9.0\n",
      "d  12.0  9.0   0.0\n",
      "a b d\n",
      "3.0 9.0 12.0\n",
      "{'a': {1: 3.0}, 'd': {'a': 12.0}, 1: {'a': 3.0}}\n",
      "{'a': {0: 15.0}, 'd': {1: 13.0}, 1: {'a': 7.0, 'd': 13.0, 'b': 4.0}, 'b': {1: 4.0}, 0: {'a': 15.0}}\n",
      "   a  b  c  d\n",
      "a  0  7  9  9\n",
      "b  7  0  6  6\n",
      "c  9  6  0  4\n",
      "d  9  6  4  0\n",
      "     a    b    c    d\n",
      "a  0.0  3.0  5.0  5.0\n",
      "b  3.0  0.0  2.0  2.0\n",
      "c  5.0  2.0  0.0  0.0\n",
      "d  5.0  2.0  0.0  0.0\n",
      "a b c\n",
      "3.0 2.0 5.0\n",
      "5.0 0.0 5.0\n",
      "{'a': {1: 5.0}, 'd': {'a': 5.0}, 1: {'a': 5.0}}\n",
      "{'a': {0: 3.0}, 'd': {1: 0.0}, 1: {'a': 5.0, 'd': 0.0, 'c': 0}, 'c': {1: 0}, 0: {'a': 3.0}}\n"
     ]
    }
   ],
   "source": [
    "import timeit\n",
    "nj_runtimes = []\n",
    "dt_runtimes = []\n",
    "nj_total = 0.0\n",
    "dt_total = 0.0\n",
    "for i in range(10):\n",
    "    #create a new matrix for test\n",
    "    mat= pd.DataFrame.from_dict(get_matrix(get_tree()))\n",
    "    #run neighbot join with time tick\n",
    "    nj_start = timeit.default_timer()\n",
    "    nj_result, nj_list = NJ(copy.deepcopy(mat))\n",
    "    nj_end = timeit.default_timer()\n",
    "    nj_runtimes.append(nj_end - nj_start)\n",
    "    nj_total += (nj_end - nj_start)\n",
    "    #run degenerate triple with time tick\n",
    "    dt_start = timeit.default_timer()\n",
    "    dt_tree = degen_triples(copy.deepcopy(mat))\n",
    "    dt_end = timeit.default_timer()\n",
    "    dt_runtimes.append(dt_end - dt_start)\n",
    "    dt_total += (dt_end - dt_start)"
   ]
  },
  {
   "cell_type": "code",
   "execution_count": 91,
   "metadata": {},
   "outputs": [
    {
     "name": "stdout",
     "output_type": "stream",
     "text": [
      "[0.0007686804364652744, 0.0006423874695542509, 0.0006280515111711793, 0.0007188459143776527, 0.0006379501490982875, 0.0006055235764961253, 0.0007536618133485717, 0.0007765310803620196, 0.0006140568850696582, 0.0006847126800835213]\n"
     ]
    }
   ],
   "source": [
    "print(nj_runtimes)"
   ]
  },
  {
   "cell_type": "code",
   "execution_count": 92,
   "metadata": {},
   "outputs": [
    {
     "name": "stdout",
     "output_type": "stream",
     "text": [
      "[0.014709034657528264, 0.009063397704039744, 0.015406376634302887, 0.014618240254264947, 0.014781397114234096, 0.014233217371383944, 0.015203966554906856, 0.01547873909100872, 0.013283972125407217, 0.013902466330932839]\n"
     ]
    }
   ],
   "source": [
    "print(dt_runtimes)"
   ]
  },
  {
   "cell_type": "code",
   "execution_count": null,
   "metadata": {
    "collapsed": true
   },
   "outputs": [],
   "source": [
    "print()"
   ]
  },
  {
   "cell_type": "code",
   "execution_count": null,
   "metadata": {
    "collapsed": true
   },
   "outputs": [],
   "source": []
  },
  {
   "cell_type": "code",
   "execution_count": null,
   "metadata": {
    "collapsed": true
   },
   "outputs": [],
   "source": []
  },
  {
   "cell_type": "code",
   "execution_count": null,
   "metadata": {
    "collapsed": true
   },
   "outputs": [],
   "source": []
  },
  {
   "cell_type": "code",
   "execution_count": null,
   "metadata": {
    "collapsed": true
   },
   "outputs": [],
   "source": []
  }
 ],
 "metadata": {
  "kernelspec": {
   "display_name": "Python 3",
   "language": "python",
   "name": "python3"
  },
  "language_info": {
   "codemirror_mode": {
    "name": "ipython",
    "version": 3
   },
   "file_extension": ".py",
   "mimetype": "text/x-python",
   "name": "python",
   "nbconvert_exporter": "python",
   "pygments_lexer": "ipython3",
   "version": "3.6.3"
  }
 },
 "nbformat": 4,
 "nbformat_minor": 2
}
