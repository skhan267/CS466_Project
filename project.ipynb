{
 "cells": [
  {
   "cell_type": "code",
   "execution_count": 679,
   "metadata": {},
   "outputs": [],
   "source": [
    "import pandas as pd\n",
    "import numpy as np \n",
    "from itertools import permutations\n",
    "import math\n",
    "import random"
   ]
  },
  {
   "cell_type": "code",
   "execution_count": 680,
   "metadata": {},
   "outputs": [],
   "source": [
    "class Vertex:\n",
    "    def __init__(self, node):\n",
    "        self.id = node\n",
    "        self.adjacent = {}\n",
    "\n",
    "    def __str__(self):\n",
    "        return str([x.id for x in self.adjacent])\n",
    "\n",
    "    def add_neighbor(self, neighbor, weight=0):\n",
    "        self.adjacent[neighbor] = weight\n",
    "\n",
    "    def get_connections(self):\n",
    "        return self.adjacent.keys()  \n",
    "\n",
    "    def get_id(self):\n",
    "        return self.id\n",
    "\n",
    "    def get_weight(self, neighbor):\n",
    "        return self.adjacent[neighbor]\n",
    "\n",
    "class Tree:\n",
    "    def __init__(self):\n",
    "        self.vert_dict = {}\n",
    "        self.num_vertices = 0\n",
    "\n",
    "    def __iter__(self):\n",
    "        return iter(self.vert_dict.values())\n",
    "\n",
    "    def add_vertex(self, node):\n",
    "        self.num_vertices = self.num_vertices + 1\n",
    "        new_vertex = Vertex(node)\n",
    "        self.vert_dict[node] = new_vertex\n",
    "        return new_vertex\n",
    "\n",
    "    def get_vertex(self, n):\n",
    "        if n in self.vert_dict:\n",
    "            return self.vert_dict[n]\n",
    "        else:\n",
    "            return None\n",
    "\n",
    "    def add_edge(self, frm, to, cost = 0):\n",
    "        if frm not in self.vert_dict:\n",
    "            self.add_vertex(frm)\n",
    "        if to not in self.vert_dict:\n",
    "            self.add_vertex(to)\n",
    "\n",
    "        self.vert_dict[frm].add_neighbor(self.vert_dict[to], cost)\n",
    "        self.vert_dict[to].add_neighbor(self.vert_dict[frm], cost)\n",
    "\n",
    "    def get_vertices(self):\n",
    "        return self.vert_dict.keys()"
   ]
  },
  {
   "cell_type": "code",
   "execution_count": 681,
   "metadata": {},
   "outputs": [],
   "source": [
    "output = (np.array([random.randrange(1, 10) for _ in range(0, 5)]))\n",
    "t = Tree()\n",
    "\n",
    "t.add_vertex('a')\n",
    "t.add_vertex('b')\n",
    "t.add_vertex('c')\n",
    "t.add_vertex('d')\n",
    "\n",
    "t.add_edge('a', 'b', output[0] + output[1])  \n",
    "t.add_edge('a', 'c', output[0] + output[4] + output[2])\n",
    "t.add_edge('a', 'd', output[0] + output[4] + output[3])\n",
    "t.add_edge('b', 'c', output[1] + output[4] + output[2])\n",
    "t.add_edge('b', 'd', output[1] + output[4] + output[3])\n",
    "t.add_edge('c', 'd', output[2] + output[3])"
   ]
  },
  {
   "cell_type": "code",
   "execution_count": 682,
   "metadata": {},
   "outputs": [
    {
     "data": {
      "text/plain": [
       "{'a': {'a': 0, 'b': 4, 'c': 7, 'd': 11},\n",
       " 'b': {'a': 4, 'b': 0, 'c': 9, 'd': 13},\n",
       " 'c': {'a': 7, 'b': 9, 'c': 0, 'd': 12},\n",
       " 'd': {'a': 11, 'b': 13, 'c': 12, 'd': 0}}"
      ]
     },
     "execution_count": 682,
     "metadata": {},
     "output_type": "execute_result"
    }
   ],
   "source": [
    " def get_matrix(tree):\n",
    "    D = {}\n",
    "    for v in tree:\n",
    "        vid = v.get_id()\n",
    "        D[vid] = {vid : 0}\n",
    "        for w in v.get_connections():\n",
    "            wid = w.get_id()\n",
    "            D[vid][wid] = int(v.get_weight(w))\n",
    "    return D\n",
    "        \n",
    "\n",
    "get_matrix(t)"
   ]
  },
  {
   "cell_type": "code",
   "execution_count": 683,
   "metadata": {},
   "outputs": [
    {
     "data": {
      "text/html": [
       "<div>\n",
       "<style scoped>\n",
       "    .dataframe tbody tr th:only-of-type {\n",
       "        vertical-align: middle;\n",
       "    }\n",
       "\n",
       "    .dataframe tbody tr th {\n",
       "        vertical-align: top;\n",
       "    }\n",
       "\n",
       "    .dataframe thead th {\n",
       "        text-align: right;\n",
       "    }\n",
       "</style>\n",
       "<table border=\"1\" class=\"dataframe\">\n",
       "  <thead>\n",
       "    <tr style=\"text-align: right;\">\n",
       "      <th></th>\n",
       "      <th>a</th>\n",
       "      <th>b</th>\n",
       "      <th>c</th>\n",
       "      <th>d</th>\n",
       "    </tr>\n",
       "  </thead>\n",
       "  <tbody>\n",
       "    <tr>\n",
       "      <th>a</th>\n",
       "      <td>0</td>\n",
       "      <td>4</td>\n",
       "      <td>7</td>\n",
       "      <td>11</td>\n",
       "    </tr>\n",
       "    <tr>\n",
       "      <th>b</th>\n",
       "      <td>4</td>\n",
       "      <td>0</td>\n",
       "      <td>9</td>\n",
       "      <td>13</td>\n",
       "    </tr>\n",
       "    <tr>\n",
       "      <th>c</th>\n",
       "      <td>7</td>\n",
       "      <td>9</td>\n",
       "      <td>0</td>\n",
       "      <td>12</td>\n",
       "    </tr>\n",
       "    <tr>\n",
       "      <th>d</th>\n",
       "      <td>11</td>\n",
       "      <td>13</td>\n",
       "      <td>12</td>\n",
       "      <td>0</td>\n",
       "    </tr>\n",
       "  </tbody>\n",
       "</table>\n",
       "</div>"
      ],
      "text/plain": [
       "    a   b   c   d\n",
       "a   0   4   7  11\n",
       "b   4   0   9  13\n",
       "c   7   9   0  12\n",
       "d  11  13  12   0"
      ]
     },
     "execution_count": 683,
     "metadata": {},
     "output_type": "execute_result"
    }
   ],
   "source": [
    "mat= pd.DataFrame.from_dict(get_matrix(t))\n",
    "mat"
   ]
  },
  {
   "cell_type": "code",
   "execution_count": 684,
   "metadata": {},
   "outputs": [],
   "source": [
    "#check if the matrix is additive using four point condition\n",
    "def is_additive(matrix, labels):\n",
    "    i = labels[0]\n",
    "    j = labels[1] \n",
    "    k = labels[2] \n",
    "    l = labels[3] \n",
    "    result = ''\n",
    "    if ((matrix[i][j] + matrix[k][l] <= matrix[i][k] + matrix[j][l]) and \n",
    "    (matrix[i][k] + matrix[j][l] == matrix[i][l] + matrix[j][k])):\n",
    "        result = \"Additive\"\n",
    "    else:\n",
    "        result = \"Not additive\"\n",
    "    return result "
   ]
  },
  {
   "cell_type": "code",
   "execution_count": 686,
   "metadata": {},
   "outputs": [
    {
     "data": {
      "text/plain": [
       "{'Additive'}"
      ]
     },
     "execution_count": 686,
     "metadata": {},
     "output_type": "execute_result"
    }
   ],
   "source": [
    "def is_additive_full(m):\n",
    "    labels = ['a','b','c','d']\n",
    "    check = []\n",
    "    for i in range(0,4):\n",
    "        check.append(is_additive(m, labels))\n",
    "    return (set(check))\n",
    "\n",
    "is_additive_full(mat)"
   ]
  },
  {
   "cell_type": "markdown",
   "metadata": {},
   "source": [
    "## Neigbor join"
   ]
  },
  {
   "cell_type": "code",
   "execution_count": 238,
   "metadata": {},
   "outputs": [
    {
     "name": "stdout",
     "output_type": "stream",
     "text": [
      "['A', 'B', 'C', 'D']\n"
     ]
    }
   ],
   "source": [
    "import copy\n",
    "clusters = []\n",
    "for cluster in list(dm):\n",
    "    clusters.append(cluster)\n",
    "cluster2idx = { name : idx for idx, name in enumerate(clusters) }\n",
    "idx2cluster = copy.deepcopy(clusters)\n",
    "m = copy.deepcopy(dm).to_dict()\n",
    "Z = np.empty((0,4), float)\n",
    "result = \"\"\n",
    "print(clusters)\n",
    "#membership = [set([cluster2idx[name]]) for name in clusters]"
   ]
  },
  {
   "cell_type": "code",
   "execution_count": 239,
   "metadata": {},
   "outputs": [
    {
     "name": "stdout",
     "output_type": "stream",
     "text": [
      "\n",
      "{'A': {'A': 0, 'B': 61, 'C': 62, 'D': 63}, 'B': {'A': 61, 'B': 0, 'C': 64, 'D': 65}, 'C': {'A': 62, 'B': 64, 'C': 0, 'D': 66}, 'D': {'A': 63, 'B': 65, 'C': 66, 'D': 0}}\n",
      "(A.B)\n",
      "{'C': {'C': 0, 'D': 66, '(A.B)': 32.5}, 'D': {'C': 66, 'D': 0, '(A.B)': 33.5}, '(A.B)': {'(A.B)': 0, 'C': 32.5, 'D': 33.5}}\n",
      "(C.(A.B))\n",
      "{'D': {'D': 0, '(C.(A.B))': 33.5}, '(C.(A.B))': {'(C.(A.B))': 0, 'D': 33.5}}\n"
     ]
    }
   ],
   "source": [
    "M, N = dm.shape\n",
    "new_cluster_idx = M+1\n",
    "while len(clusters) > 1:\n",
    "    print(result)\n",
    "    print(m)\n",
    "    idx1 = None\n",
    "    idx2 = None\n",
    "    ui = 0\n",
    "    uj = 0\n",
    "    Sd = 100000\n",
    "    for i in clusters:\n",
    "        for j in clusters:\n",
    "            if i != j:\n",
    "                ui = sum(m[i][k] for k in clusters)\n",
    "                uj = sum(m[j][k] for k in clusters)\n",
    "                curr = (M - 2) * m[i][j] - ui - uj\n",
    "                if Sd > curr:\n",
    "                    Sd = curr\n",
    "                    idx1 = cluster2idx[i]\n",
    "                    idx2 = cluster2idx[j]\n",
    "    \n",
    "    Dij = m[idx2cluster[idx1]][idx2cluster[idx2]]\n",
    "    new_cluster = \"(\" + idx2cluster[idx1] +\".\" + idx2cluster[idx2] + \")\"\n",
    "    result = new_cluster\n",
    "    m[new_cluster] = {}\n",
    "    new_cluster_idx += 1\n",
    "    #membership.append(membership[cluster2idx[idx1]] | membership[cluster2idx[idx2]])\n",
    "    #Z = np.append(Z, np.array([[idx1, idx2, Sd]]))\n",
    "    \n",
    "    m[idx2cluster[idx1]][new_cluster] = (m[idx2cluster[idx1]][idx2cluster[idx2]] + (1/(M-2)) * (ui - uj))/2\n",
    "    m[idx2cluster[idx2]][new_cluster] = (m[idx2cluster[idx1]][idx2cluster[idx2]] + (1/(M-2)) * (uj - ui))/2\n",
    "    \n",
    "    #if idx2cluster[idx1] in m: del m[idx2cluster[idx1]]\n",
    "    #if idx2cluster[idx2] in m: del m[idx2cluster[idx2]]\n",
    "    \n",
    "    clusters.remove(idx2cluster[idx1])\n",
    "    clusters.remove(idx2cluster[idx2])\n",
    "    \n",
    "    m[new_cluster][new_cluster] = 0\n",
    "    for c in clusters:\n",
    "        m[c][new_cluster] = (m[c][idx2cluster[idx1]] + m[c][idx2cluster[idx2]] - Dij)/2\n",
    "        m[new_cluster][c] = m[c][new_cluster]\n",
    "        for k in list(m[c].keys()):\n",
    "            if k == idx2cluster[idx1] or k == idx2cluster[idx2]:\n",
    "                del m[c][k]\n",
    "        \n",
    "    del cluster2idx[idx2cluster[idx1]]\n",
    "    del cluster2idx[idx2cluster[idx2]]\n",
    "    if idx2cluster[idx1] in m: del m[idx2cluster[idx1]]\n",
    "    if idx2cluster[idx2] in m: del m[idx2cluster[idx2]]\n",
    "    \n",
    "    clusters.append(new_cluster)\n",
    "    cluster2idx[new_cluster] = len(idx2cluster)\n",
    "    idx2cluster.append(new_cluster)\n",
    "        \n",
    "    #M -= 1\n",
    "    #N -= 1"
   ]
  },
  {
   "cell_type": "code",
   "execution_count": 240,
   "metadata": {},
   "outputs": [
    {
     "name": "stdout",
     "output_type": "stream",
     "text": [
      "(D.(C.(A.B)))\n"
     ]
    }
   ],
   "source": [
    "print(result)"
   ]
  },
  {
   "cell_type": "code",
   "execution_count": 241,
   "metadata": {},
   "outputs": [],
   "source": [
    "##additive phlyogeny construction using degenerate triples"
   ]
  },
  {
   "cell_type": "code",
   "execution_count": 242,
   "metadata": {},
   "outputs": [
    {
     "ename": "SyntaxError",
     "evalue": "invalid syntax (<ipython-input-242-1bbd5d22e6ed>, line 7)",
     "output_type": "error",
     "traceback": [
      "\u001b[0;36m  File \u001b[0;32m\"<ipython-input-242-1bbd5d22e6ed>\"\u001b[0;36m, line \u001b[0;32m7\u001b[0m\n\u001b[0;31m    if\u001b[0m\n\u001b[0m      ^\u001b[0m\n\u001b[0;31mSyntaxError\u001b[0m\u001b[0;31m:\u001b[0m invalid syntax\n"
     ]
    }
   ],
   "source": [
    "def additive_phylogeny(D,T):\n",
    "    if D.shape == (2,2):\n",
    "        T = {dm.index[0] : (dm.index[1], dm[dm.index[0]][dm.index[1]])}\n",
    "        return T\n",
    "    i,j,k,flag = degenerate_check(D)\n",
    "    if\n",
    "\n"
   ]
  },
  {
   "cell_type": "code",
   "execution_count": null,
   "metadata": {
    "collapsed": true
   },
   "outputs": [],
   "source": []
  }
 ],
 "metadata": {
  "kernelspec": {
   "display_name": "Python 3",
   "language": "python",
   "name": "python3"
  },
  "language_info": {
   "codemirror_mode": {
    "name": "ipython",
    "version": 3
   },
   "file_extension": ".py",
   "mimetype": "text/x-python",
   "name": "python",
   "nbconvert_exporter": "python",
   "pygments_lexer": "ipython3",
   "version": "3.6.4"
  }
 },
 "nbformat": 4,
 "nbformat_minor": 2
}
