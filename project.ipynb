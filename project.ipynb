{
 "cells": [
  {
   "cell_type": "code",
   "execution_count": 119,
   "metadata": {
    "collapsed": true
   },
   "outputs": [],
   "source": [
    "import pandas as pd\n",
    "import numpy as np \n",
    "from itertools import permutations\n",
    "import math\n",
    "import random"
   ]
  },
  {
   "cell_type": "code",
   "execution_count": 135,
   "metadata": {
    "collapsed": true
   },
   "outputs": [],
   "source": [
    "#generate a tree to obtain a additive distance matrix \n",
    "\n",
    "class Vertex:\n",
    "    def __init__(self, node):\n",
    "        self.id = node\n",
    "        self.adjacent = {}\n",
    "\n",
    "    def __str__(self):\n",
    "        return str([x.id for x in self.adjacent])\n",
    "\n",
    "    def add_neighbor(self, neighbor, weight=0):\n",
    "        self.adjacent[neighbor] = weight\n",
    "\n",
    "    def get_connections(self):\n",
    "        return self.adjacent.keys()  \n",
    "\n",
    "    def get_id(self):\n",
    "        return self.id\n",
    "\n",
    "    def get_weight(self, neighbor):\n",
    "        return self.adjacent[neighbor]\n",
    "\n",
    "class MatrixTree:\n",
    "    def __init__(self):\n",
    "        self.vert_dict = {}\n",
    "        self.num_vertices = 0\n",
    "\n",
    "    def __iter__(self):\n",
    "        return iter(self.vert_dict.values())\n",
    "\n",
    "    def add_vertex(self, node):\n",
    "        self.num_vertices = self.num_vertices + 1\n",
    "        new_vertex = Vertex(node)\n",
    "        self.vert_dict[node] = new_vertex\n",
    "        return new_vertex\n",
    "\n",
    "    def get_vertex(self, n):\n",
    "        if n in self.vert_dict:\n",
    "            return self.vert_dict[n]\n",
    "        else:\n",
    "            return None\n",
    "\n",
    "    def add_edge(self, frm, to, cost = 0):\n",
    "        if frm not in self.vert_dict:\n",
    "            self.add_vertex(frm)\n",
    "        if to not in self.vert_dict:\n",
    "            self.add_vertex(to)\n",
    "\n",
    "        self.vert_dict[frm].add_neighbor(self.vert_dict[to], cost)\n",
    "        self.vert_dict[to].add_neighbor(self.vert_dict[frm], cost)\n",
    "\n",
    "    def get_vertices(self):\n",
    "        return self.vert_dict.keys()"
   ]
  },
  {
   "cell_type": "code",
   "execution_count": 136,
   "metadata": {
    "collapsed": true
   },
   "outputs": [],
   "source": [
    "def get_tree():   \n",
    "    output = (np.array([random.randrange(1, 10) for _ in range(0, 5)]))\n",
    "\n",
    "    #generate n+1 random edge weights where n = # of nodes + a weight for a connecting branch\n",
    "\n",
    "    t = MatrixTree()\n",
    "\n",
    "    t.add_vertex('a')\n",
    "    t.add_vertex('b')\n",
    "    t.add_vertex('c')\n",
    "    t.add_vertex('d')\n",
    "\n",
    "    t.add_edge('a', 'b', output[0] + output[1])   #dist between a to b\n",
    "    t.add_edge('a', 'c', output[0] + output[4] + output[2]) #distance between a, connecting limb, c\n",
    "    t.add_edge('a', 'd', output[0] + output[4] + output[3]) \n",
    "    t.add_edge('b', 'c', output[1] + output[4] + output[2])\n",
    "    t.add_edge('b', 'd', output[1] + output[4] + output[3])\n",
    "    t.add_edge('c', 'd', output[2] + output[3])\n",
    "    return t"
   ]
  },
  {
   "cell_type": "code",
   "execution_count": 137,
   "metadata": {},
   "outputs": [],
   "source": [
    "# get dict of dicts for each node, neighbors, distance to neighbors \n",
    "def get_matrix(tree):\n",
    "    D = {}\n",
    "    for v in tree:\n",
    "        vid = v.get_id()\n",
    "        D[vid] = {vid : 0} # assign distance from itself to 0\n",
    "        for w in v.get_connections():\n",
    "            wid = w.get_id()\n",
    "            D[vid][wid] = int(v.get_weight(w))\n",
    "    return D\n"
   ]
  },
  {
   "cell_type": "code",
   "execution_count": 138,
   "metadata": {},
   "outputs": [
    {
     "data": {
      "text/html": [
       "<div>\n",
       "<style>\n",
       "    .dataframe thead tr:only-child th {\n",
       "        text-align: right;\n",
       "    }\n",
       "\n",
       "    .dataframe thead th {\n",
       "        text-align: left;\n",
       "    }\n",
       "\n",
       "    .dataframe tbody tr th {\n",
       "        vertical-align: top;\n",
       "    }\n",
       "</style>\n",
       "<table border=\"1\" class=\"dataframe\">\n",
       "  <thead>\n",
       "    <tr style=\"text-align: right;\">\n",
       "      <th></th>\n",
       "      <th>a</th>\n",
       "      <th>b</th>\n",
       "      <th>c</th>\n",
       "      <th>d</th>\n",
       "    </tr>\n",
       "  </thead>\n",
       "  <tbody>\n",
       "    <tr>\n",
       "      <th>a</th>\n",
       "      <td>0</td>\n",
       "      <td>7</td>\n",
       "      <td>15</td>\n",
       "      <td>16</td>\n",
       "    </tr>\n",
       "    <tr>\n",
       "      <th>b</th>\n",
       "      <td>7</td>\n",
       "      <td>0</td>\n",
       "      <td>18</td>\n",
       "      <td>19</td>\n",
       "    </tr>\n",
       "    <tr>\n",
       "      <th>c</th>\n",
       "      <td>15</td>\n",
       "      <td>18</td>\n",
       "      <td>0</td>\n",
       "      <td>15</td>\n",
       "    </tr>\n",
       "    <tr>\n",
       "      <th>d</th>\n",
       "      <td>16</td>\n",
       "      <td>19</td>\n",
       "      <td>15</td>\n",
       "      <td>0</td>\n",
       "    </tr>\n",
       "  </tbody>\n",
       "</table>\n",
       "</div>"
      ],
      "text/plain": [
       "    a   b   c   d\n",
       "a   0   7  15  16\n",
       "b   7   0  18  19\n",
       "c  15  18   0  15\n",
       "d  16  19  15   0"
      ]
     },
     "execution_count": 138,
     "metadata": {},
     "output_type": "execute_result"
    }
   ],
   "source": [
    "mat= pd.DataFrame.from_dict(get_matrix(t)) #convert to 2d matrix\n",
    "#visualize as n x n distance matrix         \n",
    "mat"
   ]
  },
  {
   "cell_type": "code",
   "execution_count": 124,
   "metadata": {},
   "outputs": [
    {
     "data": {
      "text/plain": [
       "'Additive'"
      ]
     },
     "execution_count": 124,
     "metadata": {},
     "output_type": "execute_result"
    }
   ],
   "source": [
    "#check if the matrix is additive using four point condition\n",
    "def is_additive(matrix, labels):\n",
    "    i = labels[0]\n",
    "    j = labels[1] \n",
    "    k = labels[2] \n",
    "    l = labels[3] \n",
    "    result = ''\n",
    "    if ((matrix[i][j] + matrix[k][l] <= matrix[i][k] + matrix[j][l]) and \n",
    "    (matrix[i][k] + matrix[j][l] == matrix[i][l] + matrix[j][k])):\n",
    "        result = \"Additive\"\n",
    "    else:\n",
    "        result = \"Not additive\"\n",
    "    return result \n",
    "\n",
    "labels = ['a','b','c','d']\n",
    "is_additive(mat, labels)"
   ]
  },
  {
   "cell_type": "code",
   "execution_count": 30,
   "metadata": {},
   "outputs": [
    {
     "data": {
      "text/html": [
       "<div>\n",
       "<style>\n",
       "    .dataframe thead tr:only-child th {\n",
       "        text-align: right;\n",
       "    }\n",
       "\n",
       "    .dataframe thead th {\n",
       "        text-align: left;\n",
       "    }\n",
       "\n",
       "    .dataframe tbody tr th {\n",
       "        vertical-align: top;\n",
       "    }\n",
       "</style>\n",
       "<table border=\"1\" class=\"dataframe\">\n",
       "  <thead>\n",
       "    <tr style=\"text-align: right;\">\n",
       "      <th></th>\n",
       "      <th>A</th>\n",
       "      <th>B</th>\n",
       "      <th>C</th>\n",
       "      <th>D</th>\n",
       "    </tr>\n",
       "  </thead>\n",
       "  <tbody>\n",
       "    <tr>\n",
       "      <th>A</th>\n",
       "      <td>0</td>\n",
       "      <td>8</td>\n",
       "      <td>15</td>\n",
       "      <td>9</td>\n",
       "    </tr>\n",
       "    <tr>\n",
       "      <th>B</th>\n",
       "      <td>8</td>\n",
       "      <td>0</td>\n",
       "      <td>5</td>\n",
       "      <td>10</td>\n",
       "    </tr>\n",
       "    <tr>\n",
       "      <th>C</th>\n",
       "      <td>15</td>\n",
       "      <td>5</td>\n",
       "      <td>0</td>\n",
       "      <td>11</td>\n",
       "    </tr>\n",
       "    <tr>\n",
       "      <th>D</th>\n",
       "      <td>9</td>\n",
       "      <td>10</td>\n",
       "      <td>11</td>\n",
       "      <td>0</td>\n",
       "    </tr>\n",
       "  </tbody>\n",
       "</table>\n",
       "</div>"
      ],
      "text/plain": [
       "    A   B   C   D\n",
       "A   0   8  15   9\n",
       "B   8   0   5  10\n",
       "C  15   5   0  11\n",
       "D   9  10  11   0"
      ]
     },
     "execution_count": 30,
     "metadata": {},
     "output_type": "execute_result"
    }
   ],
   "source": [
    "#dm = pd.DataFrame.from_dict(tree)\n",
    "dm['A']['B'] = 8\n",
    "dm['A']['C'] = 15\n",
    "dm['A']['D'] = 9\n",
    "dm['B']['C'] = 5\n",
    "dm['B']['D'] = 10\n",
    "dm['C']['D'] = 11\n",
    "\n",
    "dm['B']['A'] = 8\n",
    "dm['C']['A'] = 15\n",
    "dm['D']['A'] = 9\n",
    "dm['C']['B'] = 5\n",
    "dm['D']['B'] = 10\n",
    "dm['D']['C'] = 11\n",
    "dm"
   ]
  },
  {
   "cell_type": "markdown",
   "metadata": {},
   "source": [
    "## Neigbor join"
   ]
  },
  {
   "cell_type": "code",
   "execution_count": 64,
   "metadata": {},
   "outputs": [
    {
     "name": "stdout",
     "output_type": "stream",
     "text": [
      "['A', 'B', 'C', 'D']\n"
     ]
    }
   ],
   "source": [
    "from ete3 import Tree\n",
    "import copy\n",
    "clusters = []\n",
    "for cluster in list(dm):\n",
    "    clusters.append(cluster)\n",
    "cluster2idx = { name : idx for idx, name in enumerate(clusters) }\n",
    "idx2cluster = copy.deepcopy(clusters)\n",
    "m = copy.deepcopy(dm).to_dict()\n",
    "Z = np.empty((0,4), float)\n",
    "result = \"\"\n",
    "print(clusters)\n",
    "#membership = [set([cluster2idx[name]]) for name in clusters]"
   ]
  },
  {
   "cell_type": "code",
   "execution_count": 83,
   "metadata": {},
   "outputs": [],
   "source": [
    "import copy\n",
    "def NJ(dm):\n",
    "    edge_list = []\n",
    "    clusters = []\n",
    "    for cluster in list(dm):\n",
    "        clusters.append(cluster)\n",
    "    cluster2idx = { name : idx for idx, name in enumerate(clusters) }\n",
    "    idx2cluster = copy.deepcopy(clusters)\n",
    "    m = copy.deepcopy(dm).to_dict()\n",
    "    Z = np.empty((0,4), float)\n",
    "    result = \"\"\n",
    "    #print(clusters)\n",
    "    #membership = [set([cluster2idx[name]]) for name in clusters]\n",
    "    M, N = dm.shape\n",
    "    new_cluster_idx = M+1 \n",
    "    #print(T)\n",
    "    while len(clusters) > 1:\n",
    "        #print(result)\n",
    "        #print(m)\n",
    "        idx1 = None\n",
    "        idx2 = None\n",
    "        ui = 0\n",
    "        uj = 0\n",
    "        Sd = 100000\n",
    "        for i in clusters:\n",
    "            for j in clusters:\n",
    "                if i != j:\n",
    "                    ui_t = sum(m[i][k] for k in clusters)\n",
    "                    uj_t = sum(m[j][k] for k in clusters)\n",
    "                    curr = (M - 2) * m[i][j] - ui_t - uj_t\n",
    "                    if Sd > curr:\n",
    "                        Sd = curr\n",
    "                        idx1 = cluster2idx[i]\n",
    "                        idx2 = cluster2idx[j]\n",
    "                        ui = ui_t\n",
    "                        uj = uj_t\n",
    "        #print(\"ui\", ui)\n",
    "        #print(\"uj\", uj)\n",
    "        #print(Sd)\n",
    "\n",
    "        Dij = m[idx2cluster[idx1]][idx2cluster[idx2]]\n",
    "        new_cluster = \"(\" + idx2cluster[idx1] +\".\" + idx2cluster[idx2] + \")\"\n",
    "        result = new_cluster\n",
    "        m[new_cluster] = {}\n",
    "        new_cluster_idx += 1\n",
    "        #membership.append(membership[cluster2idx[idx1]] | membership[cluster2idx[idx2]])\n",
    "        #Z = np.append(Z, np.array([[idx1, idx2, Sd]]))\n",
    "        if M - 2 != 0:            \n",
    "            m[idx2cluster[idx1]][new_cluster] = (float(m[idx2cluster[idx1]][idx2cluster[idx2]]) + (1/(M-2)) * (ui - uj))/2\n",
    "            m[idx2cluster[idx2]][new_cluster] = (float(m[idx2cluster[idx1]][idx2cluster[idx2]]) + (1/(M-2)) * (uj - ui))/2\n",
    "            edge_list.append((new_cluster, idx2cluster[idx1], m[idx2cluster[idx1]][new_cluster]))\n",
    "            edge_list.append((new_cluster, idx2cluster[idx2], m[idx2cluster[idx2]][new_cluster]))\n",
    "        else:\n",
    "            edge_list.append((idx2cluster[idx1], idx2cluster[idx2], m[idx2cluster[idx1]][idx2cluster[idx2]]))\n",
    "#             edge_list.append((root, idx2cluster[idx1], m[idx2cluster[idx1]][idx2cluster[idx2]]/2))\n",
    "#             edge_list.append((root, idx2cluster[idx2], m[idx2cluster[idx1]][idx2cluster[idx2]]/2))\n",
    "            #T[idx2cluster[idx2]] = {idx2cluster[idx2]:m[idx2cluster[idx2]][new_cluster]}\n",
    "        #if idx2cluster[idx1] in m: del m[idx2cluster[idx1]]\n",
    "        #if idx2cluster[idx2] in m: del m[idx2cluster[idx2]]\n",
    "\n",
    "        clusters.remove(idx2cluster[idx1])\n",
    "        clusters.remove(idx2cluster[idx2])\n",
    "\n",
    "        m[new_cluster][new_cluster] = 0\n",
    "        for c in clusters:\n",
    "            m[c][new_cluster] = (m[c][idx2cluster[idx1]] + m[c][idx2cluster[idx2]] - Dij)/2\n",
    "            m[new_cluster][c] = m[c][new_cluster]\n",
    "#             try:\n",
    "#                 T[c][new_cluster] = {new_cluster:(m[c][idx2cluster[idx1]] + m[c][idx2cluster[idx2]] - Dij)/2}\n",
    "#             except:\n",
    "#                 T[c] = {}\n",
    "#                 T[c][new_cluster] = {idx2cluster:(m[c][idx2cluster[idx1]] + m[c][idx2cluster[idx2]] - Dij)/2}\n",
    "            for k in list(m[c].keys()):\n",
    "                if k == idx2cluster[idx1] or k == idx2cluster[idx2]:\n",
    "                    del m[c][k]\n",
    "\n",
    "        del cluster2idx[idx2cluster[idx1]]\n",
    "        del cluster2idx[idx2cluster[idx2]]\n",
    "        if idx2cluster[idx1] in m: del m[idx2cluster[idx1]]\n",
    "        if idx2cluster[idx2] in m: del m[idx2cluster[idx2]]\n",
    "\n",
    "        clusters.append(new_cluster)\n",
    "        cluster2idx[new_cluster] = len(idx2cluster)\n",
    "        idx2cluster.append(new_cluster)\n",
    "        #print(\"current tree\", T)\n",
    "        #print(\"current matrix\", m)\n",
    "        M -= 1\n",
    "        N -= 1\n",
    "    return T, result, edge_list"
   ]
  },
  {
   "cell_type": "code",
   "execution_count": 84,
   "metadata": {},
   "outputs": [
    {
     "name": "stdout",
     "output_type": "stream",
     "text": [
      "\n",
      "   /-A\n",
      "  |\n",
      "--|--B\n",
      "  |\n",
      "  |   /-C\n",
      "   \\-|\n",
      "      \\-D\n",
      "(A:3,B:1,(C:5,D:4)1:2);\n"
     ]
    }
   ],
   "source": [
    "import ete3\n",
    "tree = {'A': {'A': 0, 'B': 6, 'C': 6, 'D': 8},\n",
    " 'B': {'A': 6, 'B': 0, 'C': 8, 'D': 2},\n",
    " 'C': {'A': 6, 'B': 8, 'C': 0, 'D': 10},\n",
    " 'D': {'A': 8, 'B': 2, 'C': 10, 'D': 0}}\n",
    "dm1 = pd.DataFrame.from_dict(tree)\n",
    "dm1['A']['B'] = 4\n",
    "dm1['B']['A'] = 4\n",
    "dm1['A']['C'] = 10\n",
    "dm1['C']['A'] = 10\n",
    "dm1['A']['D'] = 9\n",
    "dm1['D']['A'] = 9\n",
    "dm1['B']['C'] = 8\n",
    "dm1['C']['B'] = 8\n",
    "dm1['B']['D'] = 7\n",
    "dm1['D']['B'] = 7\n",
    "dm1['C']['D'] = 9\n",
    "dm1['D']['C'] = 9\n",
    "nj_tree1, nj_result1, nj_list1 = NJ(dm1)\n",
    "ete_nj_tree = Tree.from_parent_child_table(nj_list1)\n",
    "print(ete_nj_tree)\n",
    "print(ete_nj_tree.write())"
   ]
  },
  {
   "cell_type": "code",
   "execution_count": 58,
   "metadata": {
    "collapsed": true
   },
   "outputs": [],
   "source": [
    "##additive phlyogeny construction using degenerate triples"
   ]
  },
  {
   "cell_type": "code",
   "execution_count": 59,
   "metadata": {},
   "outputs": [],
   "source": [
    "\n",
    "tree = {'A': {'A': 0, 'B': 6, 'C': 6, 'D': 8},\n",
    " 'B': {'A': 6, 'B': 0, 'C': 8, 'D': 2},\n",
    " 'C': {'A': 6, 'B': 8, 'C': 0, 'D': 10},\n",
    " 'D': {'A': 8, 'B': 2, 'C': 10, 'D': 0}}\n",
    "dm1 = pd.DataFrame.from_dict(tree)\n",
    "dm1['A']['B'] = 4\n",
    "dm1['B']['A'] = 4\n",
    "dm1['A']['C'] = 10\n",
    "dm1['C']['A'] = 10\n",
    "dm1['A']['D'] = 9\n",
    "dm1['D']['A'] = 9\n",
    "dm1['B']['C'] = 8\n",
    "dm1['C']['B'] = 8\n",
    "dm1['B']['D'] = 7\n",
    "dm1['D']['B'] = 7\n",
    "dm1['C']['D'] = 9\n",
    "dm1['D']['C'] = 9\n",
    "\n",
    "dm['A']['B'] = 8\n",
    "dm['A']['C'] = 15\n",
    "dm['A']['D'] = 9\n",
    "dm['B']['C'] = 5\n",
    "dm['B']['D'] = 10\n",
    "dm['C']['D'] = 11\n",
    "\n",
    "dm['B']['A'] = 8\n",
    "dm['C']['A'] = 15\n",
    "dm['D']['A'] = 9\n",
    "dm['C']['B'] = 5\n",
    "dm['D']['B'] = 10\n",
    "dm['D']['C'] = 11\n",
    "\n",
    "def check_and_find_degenerate(D):\n",
    "    cols = 'ABCD'\n",
    "    triplets = permutations(D.index,3)\n",
    "    for triplet in triplets:\n",
    "        i,j,k = triplet\n",
    "        if D[i][j] + D[j][k] == D[i][k]:\n",
    "            return i,j,k, True\n",
    "        \n",
    "    return -1,-1,-1, False\n",
    "    \n",
    "def compute_trimming_param(D):\n",
    "    cols = 'ABCD'\n",
    "    triplets = permutations(D.index,3)\n",
    "    min_delta = float('inf')\n",
    "    best_i,best_j,best_k = -1,-1,-1\n",
    "    for triplet in triplets:\n",
    "        i,j,k = triplet\n",
    "        delta = (D[i][j] + D[j][k] - D[i][k])/2\n",
    "        if delta > 0 and delta < min_delta:\n",
    "            min_delta = delta\n",
    "            best_i,best_j,best_k = i,j,k\n",
    "            \n",
    "    return min_delta, best_i,best_j,best_k\n",
    "\n",
    "def Trim(D, delta):\n",
    "    D = D - (2*delta)\n",
    "    for i in D.index:\n",
    "        D[i][i] = 0\n",
    "    return D\n",
    "\n",
    "def additive_phylogeny(D, v):\n",
    "    if D.shape == (2,2):\n",
    "        T = {D.index[0] : {D.index[1]: D[D.index[0]][D.index[1]]}, \n",
    "             D.index[1] : {D.index[0]: D[D.index[1]][D.index[0]]}}\n",
    "        return T\n",
    "    i,j,k,flag = check_and_find_degenerate(D)\n",
    "    if not flag:\n",
    "        delta,best_i,best_j,best_k = compute_trimming_param(D)\n",
    "        i,j,k = best_i,best_j,best_k\n",
    "        D = Trim(D, delta)\n",
    "    x = D[i][j]\n",
    "    D = D.drop([j])\n",
    "    D = D.drop(j, axis=1)\n",
    "    T = additive_phylogeny(D, v+1)\n",
    "    T[v] = {i:x}\n",
    "    T[i] = {v:x}\n",
    "    if v + 1 in T:\n",
    "        del T[v+1][i]\n",
    "        T[v][v+1] = D[i][k]-x-T[v+1][k]\n",
    "        T[v+1][v] = D[i][k]-x-T[v+1][k]\n",
    "    else:\n",
    "        T[v][k] = D[i][k]-x\n",
    "        T[k] = {v:D[i][k]-x}\n",
    "    \n",
    "    T[v][j] = 0\n",
    "    T[j] = {v:0}\n",
    "    for l in T:\n",
    "        if l in D.index and j in D.index and T[l][v] != D[l][j]:\n",
    "            print('Matrix not additive')\n",
    "            return\n",
    "    for v in T:\n",
    "        for l in 'ABCD':\n",
    "            if l in T[v] and type(v) == int:\n",
    "                T[l][v] =  T[l][v] + (delta)\n",
    "                T[v][l] =  T[v][l] + (delta)\n",
    "            \n",
    "    return T\n"
   ]
  },
  {
   "cell_type": "code",
   "execution_count": 131,
   "metadata": {},
   "outputs": [
    {
     "name": "stdout",
     "output_type": "stream",
     "text": [
      "{'A': {0: 3.0}, 'C': {1: 5.0}, 1: {'C': 5.0, 'D': 4.0, 0: 2.0}, 'D': {1: 4.0}, 0: {'A': 3.0, 1: 2.0, 'B': 1.0}, 'B': {0: 1.0}}\n",
      "[(1, 'C', 5.0), (1, 'D', 4.0), (1, 0, 2.0), (0, 'A', 3.0), (0, 'B', 1.0)]\n",
      "(C:5,D:4,(A:3,B:1)1:2);\n",
      "\n",
      "   /-A\n",
      "  |\n",
      "--|--B\n",
      "  |\n",
      "  |   /-C\n",
      "   \\-|\n",
      "      \\-D\n",
      "\n",
      "   /-C\n",
      "  |\n",
      "--|--D\n",
      "  |\n",
      "  |   /-A\n",
      "   \\-|\n",
      "      \\-B\n"
     ]
    }
   ],
   "source": [
    "from ete3 import Tree\n",
    "T = additive_phylogeny(dm1, 0)\n",
    "print(T)\n",
    "edge_list = []\n",
    "for v1 in T:\n",
    "    for v2 in T[v1]:\n",
    "        if type(v1) == int and (v1,v2,T[v1][v2]) not in edge_list and (v2,v1,T[v2][v1]) not in edge_list:\n",
    "            edge_list.append((v1,v2, T[v1][v2]))\n",
    "print(edge_list)\n",
    "tree = Tree.from_parent_child_table(edge_list)\n",
    "print(tree.write())\n",
    "ete_nj_tree.robinson_foulds(tree,unrooted_trees=True)[0]\n",
    "print(ete_nj_tree)\n",
    "print(tree)"
   ]
  },
  {
   "cell_type": "code",
   "execution_count": 132,
   "metadata": {},
   "outputs": [],
   "source": [
    "def create_edge_list(T):\n",
    "    edge_list = []\n",
    "    for v1 in T:\n",
    "        for v2 in T[v1]:\n",
    "            if type(v1) == int and (v1,v2,T[v1][v2]) not in edge_list and (v2,v1,T[v2][v1]) not in edge_list:\n",
    "                edge_list.append((v1,v2, T[v1][v2]))\n",
    "    return edge_list"
   ]
  },
  {
   "cell_type": "code",
   "execution_count": 143,
   "metadata": {},
   "outputs": [
    {
     "data": {
      "text/plain": [
       "0"
      ]
     },
     "execution_count": 143,
     "metadata": {},
     "output_type": "execute_result"
    }
   ],
   "source": [
    "mat= pd.DataFrame.from_dict(get_matrix(get_tree())) #convert to 2d matrix\n",
    "#visualize as n x n distance matrix         \n",
    "mat\n",
    "T = additive_phylogeny(dm1, 0)\n",
    "ete_dt_tree = Tree.from_parent_child_table(create_edge_list(T))\n",
    "nj_tree, nj_result, nj_list = NJ(dm1)\n",
    "ete_nj_tree = Tree.from_parent_child_table(nj_list)\n",
    "ete_nj_tree.robinson_foulds(ete_dt_tree,unrooted_trees=True)[0]"
   ]
  },
  {
   "cell_type": "code",
   "execution_count": 149,
   "metadata": {},
   "outputs": [
    {
     "name": "stdout",
     "output_type": "stream",
     "text": [
      "    a   b   c   d\n",
      "a   0  12  16  16\n",
      "b  12   0  18  18\n",
      "c  16  18   0   4\n",
      "d  16  18   4   0\n",
      "(b:2,d:6,(a:12,c:0)1:-6);\n",
      "(a:5,b:7,(c:2,d:2)1:9);\n"
     ]
    },
    {
     "data": {
      "text/plain": [
       "2"
      ]
     },
     "execution_count": 149,
     "metadata": {},
     "output_type": "execute_result"
    }
   ],
   "source": [
    "T = additive_phylogeny(mat, 0)\n",
    "print(mat)\n",
    "ete_dt_tree = Tree.from_parent_child_table(create_edge_list(T))\n",
    "print(ete_dt_tree.write())\n",
    "nj_tree, nj_result, nj_list = NJ(mat)\n",
    "ete_nj_tree = Tree.from_parent_child_table(nj_list)\n",
    "print(ete_nj_tree.write())\n",
    "ete_nj_tree.robinson_foulds(ete_dt_tree,unrooted_trees=True)[0]"
   ]
  },
  {
   "cell_type": "code",
   "execution_count": 150,
   "metadata": {},
   "outputs": [
    {
     "data": {
      "text/plain": [
       "'Additive'"
      ]
     },
     "execution_count": 150,
     "metadata": {},
     "output_type": "execute_result"
    }
   ],
   "source": [
    "labels = ['a','b','c','d']\n",
    "is_additive(mat, labels)"
   ]
  },
  {
   "cell_type": "code",
   "execution_count": 158,
   "metadata": {
    "collapsed": true
   },
   "outputs": [],
   "source": [
    "cols = 'abcd'\n",
    "labels = permutations(cols,4)"
   ]
  },
  {
   "cell_type": "code",
   "execution_count": 159,
   "metadata": {},
   "outputs": [
    {
     "name": "stdout",
     "output_type": "stream",
     "text": [
      "['a', 'b', 'c', 'd']\n",
      "['a', 'b', 'd', 'c']\n",
      "['a', 'c', 'b', 'd']\n",
      "['a', 'c', 'd', 'b']\n",
      "['a', 'd', 'b', 'c']\n",
      "['a', 'd', 'c', 'b']\n",
      "['b', 'a', 'c', 'd']\n",
      "['b', 'a', 'd', 'c']\n",
      "['b', 'c', 'a', 'd']\n",
      "['b', 'c', 'd', 'a']\n",
      "['b', 'd', 'a', 'c']\n",
      "['b', 'd', 'c', 'a']\n",
      "['c', 'a', 'b', 'd']\n",
      "['c', 'a', 'd', 'b']\n",
      "['c', 'b', 'a', 'd']\n",
      "['c', 'b', 'd', 'a']\n",
      "['c', 'd', 'a', 'b']\n",
      "['c', 'd', 'b', 'a']\n",
      "['d', 'a', 'b', 'c']\n",
      "['d', 'a', 'c', 'b']\n",
      "['d', 'b', 'a', 'c']\n",
      "['d', 'b', 'c', 'a']\n",
      "['d', 'c', 'a', 'b']\n",
      "['d', 'c', 'b', 'a']\n"
     ]
    },
    {
     "data": {
      "text/plain": [
       "['Additive',\n",
       " 'Additive',\n",
       " 'Not additive',\n",
       " 'Not additive',\n",
       " 'Not additive',\n",
       " 'Not additive',\n",
       " 'Additive',\n",
       " 'Additive',\n",
       " 'Not additive',\n",
       " 'Not additive',\n",
       " 'Not additive',\n",
       " 'Not additive',\n",
       " 'Not additive',\n",
       " 'Not additive',\n",
       " 'Not additive',\n",
       " 'Not additive',\n",
       " 'Additive',\n",
       " 'Additive',\n",
       " 'Not additive',\n",
       " 'Not additive',\n",
       " 'Not additive',\n",
       " 'Not additive',\n",
       " 'Additive',\n",
       " 'Additive']"
      ]
     },
     "execution_count": 159,
     "metadata": {},
     "output_type": "execute_result"
    }
   ],
   "source": [
    "check = []\n",
    "for combs in labels:\n",
    "    new_label = []\n",
    "    for item in combs:\n",
    "        new_label.append(item)\n",
    "    print(new_label)\n",
    "    check.append(is_additive(mat, new_label))\n",
    "check"
   ]
  },
  {
   "cell_type": "code",
   "execution_count": 163,
   "metadata": {},
   "outputs": [
    {
     "ename": "TypeError",
     "evalue": "'module' object is not callable",
     "output_type": "error",
     "traceback": [
      "\u001b[0;31m---------------------------------------------------------------------------\u001b[0m",
      "\u001b[0;31mTypeError\u001b[0m                                 Traceback (most recent call last)",
      "\u001b[0;32m<ipython-input-163-61b7bf5bbffe>\u001b[0m in \u001b[0;36m<module>\u001b[0;34m()\u001b[0m\n\u001b[1;32m      1\u001b[0m \u001b[0;32mimport\u001b[0m \u001b[0mBio\u001b[0m\u001b[0;34m\u001b[0m\u001b[0m\n\u001b[0;32m----> 2\u001b[0;31m \u001b[0mBio\u001b[0m\u001b[0;34m.\u001b[0m\u001b[0mPhylo\u001b[0m\u001b[0;34m.\u001b[0m\u001b[0mNewick\u001b[0m\u001b[0;34m(\u001b[0m\u001b[0;34m'(a:5,b:7,(c:2,d:2)1:9);'\u001b[0m\u001b[0;34m)\u001b[0m\u001b[0;34m\u001b[0m\u001b[0m\n\u001b[0m",
      "\u001b[0;31mTypeError\u001b[0m: 'module' object is not callable"
     ]
    }
   ],
   "source": [
    "import Bio\n",
    "Bio.Phylo.Newick('(a:5,b:7,(c:2,d:2)1:9);')"
   ]
  },
  {
   "cell_type": "code",
   "execution_count": 176,
   "metadata": {},
   "outputs": [],
   "source": [
    "def check_matrix(newick_string):\n",
    "    import io\n",
    "    treedata = newick_string\n",
    "    handle = io.StringIO(treedata)\n",
    "    t = Phylo.read(handle, \"newick\")\n",
    "    d = {}\n",
    "    for x, y in itertools.combinations(t.get_terminals(), 2):\n",
    "        v = t.distance(x, y)\n",
    "        d[x.name] = d.get(x.name, {})\n",
    "        d[x.name][y.name] = v\n",
    "        d[y.name] = d.get(y.name, {})\n",
    "        d[y.name][x.name] = v\n",
    "    for x in t.get_terminals():\n",
    "        d[x.name][x.name] = 0\n",
    "\n",
    "    m = pd.DataFrame(d)\n",
    "    return m"
   ]
  },
  {
   "cell_type": "code",
   "execution_count": 171,
   "metadata": {},
   "outputs": [],
   "source": []
  },
  {
   "cell_type": "code",
   "execution_count": 172,
   "metadata": {},
   "outputs": [
    {
     "data": {
      "text/html": [
       "<div>\n",
       "<style>\n",
       "    .dataframe thead tr:only-child th {\n",
       "        text-align: right;\n",
       "    }\n",
       "\n",
       "    .dataframe thead th {\n",
       "        text-align: left;\n",
       "    }\n",
       "\n",
       "    .dataframe tbody tr th {\n",
       "        vertical-align: top;\n",
       "    }\n",
       "</style>\n",
       "<table border=\"1\" class=\"dataframe\">\n",
       "  <thead>\n",
       "    <tr style=\"text-align: right;\">\n",
       "      <th></th>\n",
       "      <th>a</th>\n",
       "      <th>b</th>\n",
       "      <th>c</th>\n",
       "      <th>d</th>\n",
       "    </tr>\n",
       "  </thead>\n",
       "  <tbody>\n",
       "    <tr>\n",
       "      <th>a</th>\n",
       "      <td>0.0</td>\n",
       "      <td>12.0</td>\n",
       "      <td>16.0</td>\n",
       "      <td>16.0</td>\n",
       "    </tr>\n",
       "    <tr>\n",
       "      <th>b</th>\n",
       "      <td>12.0</td>\n",
       "      <td>0.0</td>\n",
       "      <td>18.0</td>\n",
       "      <td>18.0</td>\n",
       "    </tr>\n",
       "    <tr>\n",
       "      <th>c</th>\n",
       "      <td>16.0</td>\n",
       "      <td>18.0</td>\n",
       "      <td>0.0</td>\n",
       "      <td>4.0</td>\n",
       "    </tr>\n",
       "    <tr>\n",
       "      <th>d</th>\n",
       "      <td>16.0</td>\n",
       "      <td>18.0</td>\n",
       "      <td>4.0</td>\n",
       "      <td>0.0</td>\n",
       "    </tr>\n",
       "  </tbody>\n",
       "</table>\n",
       "</div>"
      ],
      "text/plain": [
       "      a     b     c     d\n",
       "a   0.0  12.0  16.0  16.0\n",
       "b  12.0   0.0  18.0  18.0\n",
       "c  16.0  18.0   0.0   4.0\n",
       "d  16.0  18.0   4.0   0.0"
      ]
     },
     "execution_count": 172,
     "metadata": {},
     "output_type": "execute_result"
    }
   ],
   "source": [
    "m"
   ]
  },
  {
   "cell_type": "code",
   "execution_count": 173,
   "metadata": {
    "collapsed": true
   },
   "outputs": [],
   "source": [
    "tree = {'A': {'A': 0, 'B': 6, 'C': 6, 'D': 8},\n",
    " 'B': {'A': 6, 'B': 0, 'C': 8, 'D': 2},\n",
    " 'C': {'A': 6, 'B': 8, 'C': 0, 'D': 10},\n",
    " 'D': {'A': 8, 'B': 2, 'C': 10, 'D': 0}}\n",
    "dm1 = pd.DataFrame.from_dict(tree)\n",
    "dm1['A']['B'] = 4\n",
    "dm1['B']['A'] = 4\n",
    "dm1['A']['C'] = 10\n",
    "dm1['C']['A'] = 10\n",
    "dm1['A']['D'] = 9\n",
    "dm1['D']['A'] = 9\n",
    "dm1['B']['C'] = 8\n",
    "dm1['C']['B'] = 8\n",
    "dm1['B']['D'] = 7\n",
    "dm1['D']['B'] = 7\n",
    "dm1['C']['D'] = 9\n",
    "dm1['D']['C'] = 9"
   ]
  },
  {
   "cell_type": "code",
   "execution_count": 174,
   "metadata": {},
   "outputs": [
    {
     "name": "stdout",
     "output_type": "stream",
     "text": [
      "    A  B   C  D\n",
      "A   0  4  10  9\n",
      "B   4  0   8  7\n",
      "C  10  8   0  9\n",
      "D   9  7   9  0\n",
      "(C:5,D:4,(A:3,B:1)1:2);\n",
      "(A:3,B:1,(C:5,D:4)1:2);\n"
     ]
    },
    {
     "data": {
      "text/plain": [
       "0"
      ]
     },
     "execution_count": 174,
     "metadata": {},
     "output_type": "execute_result"
    }
   ],
   "source": [
    "mat = dm1\n",
    "T = additive_phylogeny(mat, 0)\n",
    "print(mat)\n",
    "ete_dt_tree = Tree.from_parent_child_table(create_edge_list(T))\n",
    "print(ete_dt_tree.write())\n",
    "nj_tree, nj_result, nj_list = NJ(mat)\n",
    "ete_nj_tree = Tree.from_parent_child_table(nj_list)\n",
    "print(ete_nj_tree.write())\n",
    "ete_nj_tree.robinson_foulds(ete_dt_tree,unrooted_trees=True)[0]"
   ]
  },
  {
   "cell_type": "code",
   "execution_count": 179,
   "metadata": {},
   "outputs": [
    {
     "data": {
      "text/html": [
       "<div>\n",
       "<style>\n",
       "    .dataframe thead tr:only-child th {\n",
       "        text-align: right;\n",
       "    }\n",
       "\n",
       "    .dataframe thead th {\n",
       "        text-align: left;\n",
       "    }\n",
       "\n",
       "    .dataframe tbody tr th {\n",
       "        vertical-align: top;\n",
       "    }\n",
       "</style>\n",
       "<table border=\"1\" class=\"dataframe\">\n",
       "  <thead>\n",
       "    <tr style=\"text-align: right;\">\n",
       "      <th></th>\n",
       "      <th>A</th>\n",
       "      <th>B</th>\n",
       "      <th>C</th>\n",
       "      <th>D</th>\n",
       "    </tr>\n",
       "  </thead>\n",
       "  <tbody>\n",
       "    <tr>\n",
       "      <th>A</th>\n",
       "      <td>True</td>\n",
       "      <td>True</td>\n",
       "      <td>True</td>\n",
       "      <td>True</td>\n",
       "    </tr>\n",
       "    <tr>\n",
       "      <th>B</th>\n",
       "      <td>True</td>\n",
       "      <td>True</td>\n",
       "      <td>True</td>\n",
       "      <td>True</td>\n",
       "    </tr>\n",
       "    <tr>\n",
       "      <th>C</th>\n",
       "      <td>True</td>\n",
       "      <td>True</td>\n",
       "      <td>True</td>\n",
       "      <td>True</td>\n",
       "    </tr>\n",
       "    <tr>\n",
       "      <th>D</th>\n",
       "      <td>True</td>\n",
       "      <td>True</td>\n",
       "      <td>True</td>\n",
       "      <td>True</td>\n",
       "    </tr>\n",
       "  </tbody>\n",
       "</table>\n",
       "</div>"
      ],
      "text/plain": [
       "      A     B     C     D\n",
       "A  True  True  True  True\n",
       "B  True  True  True  True\n",
       "C  True  True  True  True\n",
       "D  True  True  True  True"
      ]
     },
     "execution_count": 179,
     "metadata": {},
     "output_type": "execute_result"
    }
   ],
   "source": [
    "dm1 == check_matrix(ete_nj_tree.write())"
   ]
  },
  {
   "cell_type": "code",
   "execution_count": null,
   "metadata": {
    "collapsed": true
   },
   "outputs": [],
   "source": []
  }
 ],
 "metadata": {
  "kernelspec": {
   "display_name": "Python 3",
   "language": "python",
   "name": "python3"
  },
  "language_info": {
   "codemirror_mode": {
    "name": "ipython",
    "version": 3
   },
   "file_extension": ".py",
   "mimetype": "text/x-python",
   "name": "python",
   "nbconvert_exporter": "python",
   "pygments_lexer": "ipython3",
   "version": "3.6.1"
  }
 },
 "nbformat": 4,
 "nbformat_minor": 2
}
