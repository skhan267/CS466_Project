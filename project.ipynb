{
 "cells": [
  {
   "cell_type": "code",
   "execution_count": 3,
   "metadata": {
    "collapsed": true
   },
   "outputs": [],
   "source": [
    "import pandas as pd\n",
    "import numpy as np \n",
    "from itertools import permutations\n",
    "from itertools import combinations"
   ]
  },
  {
   "cell_type": "code",
   "execution_count": 4,
   "metadata": {
    "collapsed": true
   },
   "outputs": [],
   "source": [
    "#generate random data \n",
    "data = np.random.randint(10, size=(4, 2))\n",
    "labels = ['A', 'B', 'C','D']\n",
    "df = pd.DataFrame(data, columns=['X', 'Y'], index=labels)\n",
    "\n",
    "#convert to a dictionary \n",
    "data_dict = {}\n",
    "for idx, col in df.iterrows(): \n",
    "    data_dict[idx] = col.values\n",
    "    \n",
    "#data_dict   "
   ]
  },
  {
   "cell_type": "code",
   "execution_count": 5,
   "metadata": {
    "collapsed": true
   },
   "outputs": [],
   "source": [
    "#calculate the manhattan distance of our data values + put it into a n x n distance matrix \n",
    "def manhattan_dist(x, y):\n",
    "    return sum(abs(a-b) for a,b in zip(x,y))"
   ]
  },
  {
   "cell_type": "code",
   "execution_count": 6,
   "metadata": {
    "collapsed": true
   },
   "outputs": [],
   "source": [
    "#put distances and labels into a dictionary\n",
    "def build_tree():\n",
    "    D = {}\n",
    "    for label, val in data_dict.items():\n",
    "        D[label] = {}\n",
    "        for label2, val2 in data_dict.items():\n",
    "            D[label][label2] = manhattan_dist(val, val2) \n",
    "    return D"
   ]
  },
  {
   "cell_type": "code",
   "execution_count": 7,
   "metadata": {},
   "outputs": [
    {
     "data": {
      "text/plain": [
       "{'A': {'A': 0, 'B': 14, 'C': 9, 'D': 2},\n",
       " 'B': {'A': 14, 'B': 0, 'C': 5, 'D': 12},\n",
       " 'C': {'A': 9, 'B': 5, 'C': 0, 'D': 7},\n",
       " 'D': {'A': 2, 'B': 12, 'C': 7, 'D': 0}}"
      ]
     },
     "execution_count": 7,
     "metadata": {},
     "output_type": "execute_result"
    }
   ],
   "source": [
    "tree = build_tree()\n",
    "tree"
   ]
  },
  {
   "cell_type": "code",
   "execution_count": 8,
   "metadata": {},
   "outputs": [
    {
     "data": {
      "text/html": [
       "<div>\n",
       "<style>\n",
       "    .dataframe thead tr:only-child th {\n",
       "        text-align: right;\n",
       "    }\n",
       "\n",
       "    .dataframe thead th {\n",
       "        text-align: left;\n",
       "    }\n",
       "\n",
       "    .dataframe tbody tr th {\n",
       "        vertical-align: top;\n",
       "    }\n",
       "</style>\n",
       "<table border=\"1\" class=\"dataframe\">\n",
       "  <thead>\n",
       "    <tr style=\"text-align: right;\">\n",
       "      <th></th>\n",
       "      <th>A</th>\n",
       "      <th>B</th>\n",
       "      <th>C</th>\n",
       "      <th>D</th>\n",
       "    </tr>\n",
       "  </thead>\n",
       "  <tbody>\n",
       "    <tr>\n",
       "      <th>A</th>\n",
       "      <td>0</td>\n",
       "      <td>14</td>\n",
       "      <td>9</td>\n",
       "      <td>2</td>\n",
       "    </tr>\n",
       "    <tr>\n",
       "      <th>B</th>\n",
       "      <td>14</td>\n",
       "      <td>0</td>\n",
       "      <td>5</td>\n",
       "      <td>12</td>\n",
       "    </tr>\n",
       "    <tr>\n",
       "      <th>C</th>\n",
       "      <td>9</td>\n",
       "      <td>5</td>\n",
       "      <td>0</td>\n",
       "      <td>7</td>\n",
       "    </tr>\n",
       "    <tr>\n",
       "      <th>D</th>\n",
       "      <td>2</td>\n",
       "      <td>12</td>\n",
       "      <td>7</td>\n",
       "      <td>0</td>\n",
       "    </tr>\n",
       "  </tbody>\n",
       "</table>\n",
       "</div>"
      ],
      "text/plain": [
       "    A   B  C   D\n",
       "A   0  14  9   2\n",
       "B  14   0  5  12\n",
       "C   9   5  0   7\n",
       "D   2  12  7   0"
      ]
     },
     "execution_count": 8,
     "metadata": {},
     "output_type": "execute_result"
    }
   ],
   "source": [
    "#visualize as n x n distance matrix         \n",
    "dm = pd.DataFrame.from_dict(tree)\n",
    "dm"
   ]
  },
  {
   "cell_type": "code",
   "execution_count": 9,
   "metadata": {
    "collapsed": true
   },
   "outputs": [],
   "source": [
    "#check if the matrix is additive using four point condition\n",
    "def is_additive(matrix, labels):\n",
    "    i = labels[0]\n",
    "    j = labels[1] \n",
    "    k = labels[2] \n",
    "    l = labels[3] \n",
    "    result = ''\n",
    "    if ((matrix[i][j] + matrix[k][l] <= matrix[i][k] + matrix[j][l]) and \n",
    "    (matrix[i][k] + matrix[j][l] == matrix[i][l] + matrix[j][k])):\n",
    "        result = \"Additive\"\n",
    "    else:\n",
    "        result = \"Not additive\"\n",
    "    return result "
   ]
  },
  {
   "cell_type": "code",
   "execution_count": 10,
   "metadata": {},
   "outputs": [
    {
     "name": "stdout",
     "output_type": "stream",
     "text": [
      "[('A', 'B', 'C'), ('A', 'B', 'D'), ('A', 'C', 'D'), ('B', 'C', 'D')]\n"
     ]
    }
   ],
   "source": [
    "cols = 'ABCD'\n",
    "labels = combinations(cols,3)\n",
    "print([label for label in labels])"
   ]
  },
  {
   "cell_type": "code",
   "execution_count": 11,
   "metadata": {},
   "outputs": [
    {
     "ename": "NameError",
     "evalue": "name 'check' is not defined",
     "output_type": "error",
     "traceback": [
      "\u001b[0;31m---------------------------------------------------------------------------\u001b[0m",
      "\u001b[0;31mNameError\u001b[0m                                 Traceback (most recent call last)",
      "\u001b[0;32m<ipython-input-11-e1fd83f62f4c>\u001b[0m in \u001b[0;36m<module>\u001b[0;34m()\u001b[0m\n\u001b[1;32m      9\u001b[0m         \u001b[0mcheck\u001b[0m\u001b[0;34m.\u001b[0m\u001b[0mappend\u001b[0m\u001b[0;34m(\u001b[0m\u001b[0mis_additive\u001b[0m\u001b[0;34m(\u001b[0m\u001b[0mdm\u001b[0m\u001b[0;34m,\u001b[0m \u001b[0mnew_label\u001b[0m\u001b[0;34m)\u001b[0m\u001b[0;34m)\u001b[0m\u001b[0;34m\u001b[0m\u001b[0m\n\u001b[1;32m     10\u001b[0m     \u001b[0;32mreturn\u001b[0m \u001b[0mcheck\u001b[0m\u001b[0;34m\u001b[0m\u001b[0m\n\u001b[0;32m---> 11\u001b[0;31m \u001b[0mcheck\u001b[0m\u001b[0;34m\u001b[0m\u001b[0m\n\u001b[0m\u001b[1;32m     12\u001b[0m \u001b[0;34m\u001b[0m\u001b[0m\n\u001b[1;32m     13\u001b[0m \u001b[0;32mdef\u001b[0m \u001b[0madditive_matrix\u001b[0m\u001b[0;34m(\u001b[0m\u001b[0minit_matrix\u001b[0m\u001b[0;34m,\u001b[0m \u001b[0minit_labels\u001b[0m\u001b[0;34m)\u001b[0m\u001b[0;34m:\u001b[0m\u001b[0;34m\u001b[0m\u001b[0m\n",
      "\u001b[0;31mNameError\u001b[0m: name 'check' is not defined"
     ]
    }
   ],
   "source": [
    "def is_additive_full(dm):\n",
    "    cols = 'ABCD'\n",
    "    labels = permutations(cols,4)\n",
    "    check = []\n",
    "    for combs in labels:\n",
    "        new_label = []\n",
    "        for item in combs:\n",
    "            new_label+=item\n",
    "        check.append(is_additive(dm, new_label))\n",
    "    return check\n",
    "check\n",
    "\n",
    "def additive_matrix(init_matrix, init_labels):\n",
    "    add_flag = \"Not additive\" in is_additive_full(init_matrix)\n",
    "    dm = None\n",
    "    while add_flag:\n",
    "        #generate random data \n",
    "        data = np.random.randint(10, size=(4, 2))\n",
    "        print(data)\n",
    "        labels = ['A', 'B', 'C','D']\n",
    "        df = pd.DataFrame(data, columns=['X', 'Y'], index=labels)\n",
    "\n",
    "        #convert to a dictionary \n",
    "        data_dict = {}\n",
    "        for idx, col in df.iterrows(): \n",
    "            data_dict[idx] = col.values\n",
    "        tree = build_tree()\n",
    "        dm = pd.DataFrame.from_dict(tree)\n",
    "        add_flag = \"Not additive\" in is_additive_full(dm)\n",
    "        print(add_flag)\n",
    "    return dm           "
   ]
  },
  {
   "cell_type": "code",
   "execution_count": null,
   "metadata": {
    "collapsed": true
   },
   "outputs": [],
   "source": [
    "matrix = additive_matrix(dm, labels)\n",
    "print(matrix)"
   ]
  },
  {
   "cell_type": "markdown",
   "metadata": {},
   "source": [
    "## Neighbor join"
   ]
  },
  {
   "cell_type": "code",
   "execution_count": null,
   "metadata": {},
   "outputs": [],
   "source": [
    "import copy\n",
    "clusters = []\n",
    "for cluster in list(dm):\n",
    "    clusters.append(cluster)\n",
    "cluster2idx = { name : idx for idx, name in enumerate(clusters) }\n",
    "idx2cluster = copy.deepcopy(clusters)\n",
    "m = copy.deepcopy(dm).to_dict()\n",
    "Z = np.empty((0,4), float)\n",
    "result = \"\"\n",
    "print(clusters)\n",
    "#membership = [set([cluster2idx[name]]) for name in clusters]"
   ]
  },
  {
   "cell_type": "code",
   "execution_count": 12,
   "metadata": {},
   "outputs": [
    {
     "ename": "NameError",
     "evalue": "name 'clusters' is not defined",
     "output_type": "error",
     "traceback": [
      "\u001b[0;31m---------------------------------------------------------------------------\u001b[0m",
      "\u001b[0;31mNameError\u001b[0m                                 Traceback (most recent call last)",
      "\u001b[0;32m<ipython-input-12-7ae61bf6952e>\u001b[0m in \u001b[0;36m<module>\u001b[0;34m()\u001b[0m\n\u001b[1;32m      1\u001b[0m \u001b[0mM\u001b[0m\u001b[0;34m,\u001b[0m \u001b[0mN\u001b[0m \u001b[0;34m=\u001b[0m \u001b[0mdm\u001b[0m\u001b[0;34m.\u001b[0m\u001b[0mshape\u001b[0m\u001b[0;34m\u001b[0m\u001b[0m\n\u001b[1;32m      2\u001b[0m \u001b[0mnew_cluster_idx\u001b[0m \u001b[0;34m=\u001b[0m \u001b[0mM\u001b[0m\u001b[0;34m+\u001b[0m\u001b[0;36m1\u001b[0m\u001b[0;34m\u001b[0m\u001b[0m\n\u001b[0;32m----> 3\u001b[0;31m \u001b[0;32mwhile\u001b[0m \u001b[0mlen\u001b[0m\u001b[0;34m(\u001b[0m\u001b[0mclusters\u001b[0m\u001b[0;34m)\u001b[0m \u001b[0;34m>\u001b[0m \u001b[0;36m1\u001b[0m\u001b[0;34m:\u001b[0m\u001b[0;34m\u001b[0m\u001b[0m\n\u001b[0m\u001b[1;32m      4\u001b[0m     \u001b[0mprint\u001b[0m\u001b[0;34m(\u001b[0m\u001b[0mresult\u001b[0m\u001b[0;34m)\u001b[0m\u001b[0;34m\u001b[0m\u001b[0m\n\u001b[1;32m      5\u001b[0m     \u001b[0mprint\u001b[0m\u001b[0;34m(\u001b[0m\u001b[0mm\u001b[0m\u001b[0;34m)\u001b[0m\u001b[0;34m\u001b[0m\u001b[0m\n",
      "\u001b[0;31mNameError\u001b[0m: name 'clusters' is not defined"
     ]
    }
   ],
   "source": [
    "M, N = dm.shape\n",
    "new_cluster_idx = M+1\n",
    "while len(clusters) > 1:\n",
    "    print(result)\n",
    "    print(m)\n",
    "    idx1 = None\n",
    "    idx2 = None\n",
    "    ui = 0\n",
    "    uj = 0\n",
    "    Sd = 100000\n",
    "    for i in clusters:\n",
    "        for j in clusters:\n",
    "            if i != j:\n",
    "                ui = sum(m[i][k] for k in clusters)\n",
    "                uj = sum(m[j][k] for k in clusters)\n",
    "                curr = (M - 2) * m[i][j] - ui - uj\n",
    "                if Sd > curr:\n",
    "                    Sd = curr\n",
    "                    idx1 = cluster2idx[i]\n",
    "                    idx2 = cluster2idx[j]\n",
    "    \n",
    "    Dij = m[idx2cluster[idx1]][idx2cluster[idx2]]\n",
    "    new_cluster = \"(\" + idx2cluster[idx1] +\".\" + idx2cluster[idx2] + \")\"\n",
    "    result = new_cluster\n",
    "    m[new_cluster] = {}\n",
    "    new_cluster_idx += 1\n",
    "    #membership.append(membership[cluster2idx[idx1]] | membership[cluster2idx[idx2]])\n",
    "    #Z = np.append(Z, np.array([[idx1, idx2, Sd]]))\n",
    "    \n",
    "    m[idx2cluster[idx1]][new_cluster] = (m[idx2cluster[idx1]][idx2cluster[idx2]] + (1/(M-2)) * (ui - uj))/2\n",
    "    m[idx2cluster[idx2]][new_cluster] = (m[idx2cluster[idx1]][idx2cluster[idx2]] + (1/(M-2)) * (uj - ui))/2\n",
    "    \n",
    "    #if idx2cluster[idx1] in m: del m[idx2cluster[idx1]]\n",
    "    #if idx2cluster[idx2] in m: del m[idx2cluster[idx2]]\n",
    "    \n",
    "    clusters.remove(idx2cluster[idx1])\n",
    "    clusters.remove(idx2cluster[idx2])\n",
    "    \n",
    "    m[new_cluster][new_cluster] = 0\n",
    "    for c in clusters:\n",
    "        m[c][new_cluster] = (m[c][idx2cluster[idx1]] + m[c][idx2cluster[idx2]] - Dij)/2\n",
    "        m[new_cluster][c] = m[c][new_cluster]\n",
    "        for k in list(m[c].keys()):\n",
    "            if k == idx2cluster[idx1] or k == idx2cluster[idx2]:\n",
    "                del m[c][k]\n",
    "        \n",
    "    del cluster2idx[idx2cluster[idx1]]\n",
    "    del cluster2idx[idx2cluster[idx2]]\n",
    "    if idx2cluster[idx1] in m: del m[idx2cluster[idx1]]\n",
    "    if idx2cluster[idx2] in m: del m[idx2cluster[idx2]]\n",
    "    \n",
    "    clusters.append(new_cluster)\n",
    "    cluster2idx[new_cluster] = len(idx2cluster)\n",
    "    idx2cluster.append(new_cluster)\n",
    "        \n",
    "    #M -= 1\n",
    "    #N -= 1"
   ]
  },
  {
   "cell_type": "code",
   "execution_count": 13,
   "metadata": {},
   "outputs": [
    {
     "ename": "NameError",
     "evalue": "name 'result' is not defined",
     "output_type": "error",
     "traceback": [
      "\u001b[0;31m---------------------------------------------------------------------------\u001b[0m",
      "\u001b[0;31mNameError\u001b[0m                                 Traceback (most recent call last)",
      "\u001b[0;32m<ipython-input-13-35147d8b1bd5>\u001b[0m in \u001b[0;36m<module>\u001b[0;34m()\u001b[0m\n\u001b[0;32m----> 1\u001b[0;31m \u001b[0mprint\u001b[0m\u001b[0;34m(\u001b[0m\u001b[0mresult\u001b[0m\u001b[0;34m)\u001b[0m\u001b[0;34m\u001b[0m\u001b[0m\n\u001b[0m",
      "\u001b[0;31mNameError\u001b[0m: name 'result' is not defined"
     ]
    }
   ],
   "source": [
    "print(result)"
   ]
  },
  {
   "cell_type": "code",
   "execution_count": 14,
   "metadata": {
    "collapsed": true
   },
   "outputs": [],
   "source": [
    "##additive phlyogeny construction using degenerate triples"
   ]
  },
  {
   "cell_type": "code",
   "execution_count": 129,
   "metadata": {},
   "outputs": [],
   "source": [
    "dm['A']['B'] = 4\n",
    "dm['B']['A'] = 4\n",
    "dm['A']['C'] = 10\n",
    "dm['C']['A'] = 10\n",
    "dm['A']['D'] = 9\n",
    "dm['D']['A'] = 9\n",
    "dm['B']['C'] = 8\n",
    "dm['C']['B'] = 8\n",
    "dm['B']['D'] = 7\n",
    "dm['D']['B'] = 7\n",
    "dm['C']['D'] = 9\n",
    "dm['D']['C'] = 9\n",
    "\n",
    "\n",
    "def check_and_find_degenerate(D):\n",
    "    cols = 'ABCD'\n",
    "    triplets = permutations(D.index,3)\n",
    "    for triplet in triplets:\n",
    "        i,j,k = triplet\n",
    "        if D[i][j] + D[j][k] == D[i][k]:\n",
    "            return i,j,k, True\n",
    "        \n",
    "    return -1,-1,-1, False\n",
    "    \n",
    "def compute_trimming_param(D):\n",
    "    cols = 'ABCD'\n",
    "    triplets = permutations(D.index,3)\n",
    "    min_delta = float('inf')\n",
    "    best_i,best_j,best_k = -1,-1,-1\n",
    "    for triplet in triplets:\n",
    "        i,j,k = triplet\n",
    "        delta = (D[i][j] + D[j][k] - D[i][k])/2\n",
    "        if delta > 0 and delta < min_delta:\n",
    "            min_delta = delta\n",
    "            best_i,best_j,best_k = i,j,k\n",
    "            \n",
    "    return min_delta, best_i,best_j,best_k\n",
    "\n",
    "def Trim(D, delta):\n",
    "    D = D - (2*delta)\n",
    "    for i in D.index:\n",
    "        D[i][i] = 0\n",
    "    return D\n",
    "\n",
    "def additive_phylogeny(D, v):\n",
    "    if D.shape == (2,2):\n",
    "        T = {D.index[0] : {D.index[1]: D[D.index[0]][D.index[1]]}, \n",
    "             D.index[1] : {D.index[0]: D[D.index[1]][D.index[0]]}}\n",
    "        return T\n",
    "    i,j,k,flag = check_and_find_degenerate(D)\n",
    "    if not flag:\n",
    "        delta,best_i,best_j,best_k = compute_trimming_param(D)\n",
    "        i,j,k = best_i,best_j,best_k\n",
    "        D = Trim(D, delta)\n",
    "    x = D[i][j]\n",
    "    D = D.drop([j])\n",
    "    D = D.drop(j, axis=1)\n",
    "    T = additive_phylogeny(D, v+1)\n",
    "    T[v] = {i:x}\n",
    "    T[i] = {v:x}\n",
    "    if v + 1 in T:\n",
    "        del T[v+1][i]\n",
    "        T[v][v+1] = D[i][k]-x-T[v+1][k]\n",
    "        T[v+1][v] = D[i][k]-x-T[v+1][k]\n",
    "    else:\n",
    "        T[v][k] = D[i][k]-x\n",
    "        T[k] = {v:D[i][k]-x}\n",
    "    \n",
    "    T[v][j] = 0\n",
    "    T[j] = {v:0}\n",
    "    for l in T:\n",
    "        if l in D.index and j in D.index and T[l][v] != D[l][j]:\n",
    "            print('Matrix not additive')\n",
    "            return\n",
    "    for v in T:\n",
    "        for l in 'ABCD':\n",
    "            if l in T[v] and type(v) == int:\n",
    "                T[l][v] =  T[l][v] + (delta)\n",
    "                T[v][l] =  T[v][l] + (delta)\n",
    "            \n",
    "    return T"
   ]
  },
  {
   "cell_type": "code",
   "execution_count": 99,
   "metadata": {},
   "outputs": [
    {
     "name": "stdout",
     "output_type": "stream",
     "text": [
      "    A  B   C  D\n",
      "A   0  4  10  9\n",
      "B   4  0   8  7\n",
      "C  10  8   0  9\n",
      "D   9  7   9  0\n",
      "     A    C    D\n",
      "A  0.0  8.0  7.0\n",
      "C  8.0  0.0  7.0\n",
      "D  7.0  7.0  0.0\n",
      "     A    C\n",
      "A  0.0  2.0\n",
      "C  2.0  0.0\n",
      "before {'A': {1: 1.0}, 'C': {'A': 2.0}, 1: {'A': 1.0}}\n",
      "after {'A': {1: 1.0}, 'C': {1: 1.0}, 1: {'A': 1.0, 'C': 1.0, 'D': 0}, 'D': {1: 0}}\n",
      "1 A D\n",
      "1 C D\n",
      "1 1 D\n",
      "1 D D\n",
      "before {'A': {0: 2.0}, 'C': {1: 4.0}, 1: {'A': 4.0, 'C': 4.0, 'D': 3.0}, 'D': {1: 3.0}, 0: {'A': 2.0}}\n",
      "after {'A': {0: 2.0}, 'C': {1: 4.0}, 1: {'C': 4.0, 'D': 3.0, 0: 2.0}, 'D': {1: 3.0}, 0: {'A': 2.0, 1: 2.0, 'B': 0}, 'B': {0: 0}}\n",
      "0 A B\n",
      "0 C B\n",
      "0 1 B\n",
      "0 D B\n",
      "0 0 B\n",
      "0 B B\n"
     ]
    }
   ],
   "source": [
    "T = additive_phylogeny(dm, 0)"
   ]
  },
  {
   "cell_type": "code",
   "execution_count": 131,
   "metadata": {},
   "outputs": [
    {
     "name": "stdout",
     "output_type": "stream",
     "text": [
      "((,(B:1)1:2)1:0,((D:4,(B:1)1:2)1:5)1:0);\n",
      "\n",
      "   /A /0 /-B\n",
      "--|\n",
      "  |      /-D\n",
      "   \\C /1|\n",
      "         \\0 /-B\n",
      "[Tree node 'D' (-0x7fffffffee36f80e), Tree node '0' (0x11c907cc)]\n",
      "[Tree node '0' (0x11c907cc)]\n"
     ]
    }
   ],
   "source": [
    "from ete3 import Tree\n",
    "tree = Tree()\n",
    "tree_dict = {}\n",
    "for node in T:\n",
    "    if node not in tree_dict:\n",
    "        tree_dict[node] = tree.add_child(name=node, dist=0)\n",
    "    curr_node = tree_dict[node]\n",
    "    for edge in T[node]:\n",
    "        if edge in tree_dict:\n",
    "            if curr_node not in tree_dict[edge].get_children():\n",
    "                curr_node.add_child(child=tree_dict[edge], dist=T[node][edge])\n",
    "        else:\n",
    "            tree_dict[edge] = curr_node.add_child(name=edge, dist=T[node][edge])\n",
    "print(tree.write())\n",
    "print(tree.get_ascii())\n",
    "print(tree_dict[1].get_children())\n",
    "print(tree_dict['A'].get_children())"
   ]
  },
  {
   "cell_type": "markdown",
   "metadata": {
    "collapsed": true
   },
   "source": []
  },
  {
   "cell_type": "markdown",
   "metadata": {
    "collapsed": true
   },
   "source": []
  },
  {
   "cell_type": "code",
   "execution_count": null,
   "metadata": {},
   "outputs": [],
   "source": []
  },
  {
   "cell_type": "code",
   "execution_count": null,
   "metadata": {
    "collapsed": true
   },
   "outputs": [],
   "source": []
  }
 ],
 "metadata": {
  "kernelspec": {
   "display_name": "Python 3",
   "language": "python",
   "name": "python3"
  },
  "language_info": {
   "codemirror_mode": {
    "name": "ipython",
    "version": 3
   },
   "file_extension": ".py",
   "mimetype": "text/x-python",
   "name": "python",
   "nbconvert_exporter": "python",
   "pygments_lexer": "ipython3",
   "version": "3.6.1"
  }
 },
 "nbformat": 4,
 "nbformat_minor": 2
}
